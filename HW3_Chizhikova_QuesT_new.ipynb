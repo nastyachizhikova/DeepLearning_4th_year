{
 "cells": [
  {
   "cell_type": "code",
   "execution_count": 101,
   "metadata": {
    "execution": {
     "iopub.execute_input": "2021-12-18T14:37:02.480114Z",
     "iopub.status.busy": "2021-12-18T14:37:02.479373Z",
     "iopub.status.idle": "2021-12-18T14:37:02.484050Z",
     "shell.execute_reply": "2021-12-18T14:37:02.483035Z",
     "shell.execute_reply.started": "2021-12-18T14:37:02.480081Z"
    },
    "id": "Y0fOWhqwW-AT"
   },
   "outputs": [],
   "source": [
    "# !pip install pandas\n",
    "# !pip install torch\n",
    "# !pip install nltk\n",
    "# !pip install tqdm\n",
    "# !pip install seaborn\n",
    "# !pip install numpy\n",
    "# !pip install sklearn"
   ]
  },
  {
   "cell_type": "code",
   "execution_count": 102,
   "metadata": {
    "execution": {
     "iopub.execute_input": "2021-12-18T14:37:02.486551Z",
     "iopub.status.busy": "2021-12-18T14:37:02.485824Z",
     "iopub.status.idle": "2021-12-18T14:37:02.498816Z",
     "shell.execute_reply": "2021-12-18T14:37:02.497975Z",
     "shell.execute_reply.started": "2021-12-18T14:37:02.486506Z"
    },
    "id": "u3wugeOHW-AV",
    "outputId": "928c43cb-540b-42d4-c1ec-c1007e4578df"
   },
   "outputs": [
    {
     "name": "stdout",
     "output_type": "stream",
     "text": [
      "[nltk_data] Downloading package punkt to /usr/share/nltk_data...\n",
      "[nltk_data]   Package punkt is already up-to-date!\n"
     ]
    },
    {
     "data": {
      "text/plain": [
       "True"
      ]
     },
     "execution_count": 102,
     "metadata": {},
     "output_type": "execute_result"
    }
   ],
   "source": [
    "import nltk\n",
    "nltk.download('punkt')"
   ]
  },
  {
   "cell_type": "markdown",
   "metadata": {
    "id": "m9XIrxSmW-AX"
   },
   "source": [
    "# Скачиваем данные"
   ]
  },
  {
   "cell_type": "code",
   "execution_count": 103,
   "metadata": {
    "execution": {
     "iopub.execute_input": "2021-12-18T14:37:02.500636Z",
     "iopub.status.busy": "2021-12-18T14:37:02.500227Z",
     "iopub.status.idle": "2021-12-18T14:37:04.042184Z",
     "shell.execute_reply": "2021-12-18T14:37:04.041357Z",
     "shell.execute_reply.started": "2021-12-18T14:37:02.500598Z"
    },
    "id": "ep1FB3IBW-AY",
    "outputId": "47eecf90-0205-4021-a2ad-18f8c1252724"
   },
   "outputs": [
    {
     "name": "stdout",
     "output_type": "stream",
     "text": [
      "--2021-12-18 14:37:03--  https://raw.githubusercontent.com/semensorokin/DLforNLP_course_material/master/Homework2/answers_subsample.csv\n",
      "Resolving raw.githubusercontent.com (raw.githubusercontent.com)... 185.199.109.133, 185.199.108.133, 185.199.111.133, ...\n",
      "Connecting to raw.githubusercontent.com (raw.githubusercontent.com)|185.199.109.133|:443... connected.\n",
      "HTTP request sent, awaiting response... 200 OK\n",
      "Length: 28717126 (27M) [text/plain]\n",
      "Saving to: ‘answers_subsample.csv.2’\n",
      "\n",
      "answers_subsample.c 100%[===================>]  27.39M   143MB/s    in 0.2s    \n",
      "\n",
      "2021-12-18 14:37:03 (143 MB/s) - ‘answers_subsample.csv.2’ saved [28717126/28717126]\n",
      "\n"
     ]
    }
   ],
   "source": [
    "!wget https://raw.githubusercontent.com/semensorokin/DLforNLP_course_material/master/Homework2/answers_subsample.csv"
   ]
  },
  {
   "cell_type": "code",
   "execution_count": 104,
   "metadata": {
    "execution": {
     "iopub.execute_input": "2021-12-18T14:37:04.043957Z",
     "iopub.status.busy": "2021-12-18T14:37:04.043667Z",
     "iopub.status.idle": "2021-12-18T14:37:04.049550Z",
     "shell.execute_reply": "2021-12-18T14:37:04.048172Z",
     "shell.execute_reply.started": "2021-12-18T14:37:04.043899Z"
    },
    "id": "BWA7IClKW-Aa"
   },
   "outputs": [],
   "source": [
    "# если ругается на то, что нет wget\n",
    "# !apt-get install wget"
   ]
  },
  {
   "cell_type": "code",
   "execution_count": 105,
   "metadata": {
    "execution": {
     "iopub.execute_input": "2021-12-18T14:37:04.053768Z",
     "iopub.status.busy": "2021-12-18T14:37:04.053056Z",
     "iopub.status.idle": "2021-12-18T14:37:04.774184Z",
     "shell.execute_reply": "2021-12-18T14:37:04.773341Z",
     "shell.execute_reply.started": "2021-12-18T14:37:04.053738Z"
    },
    "id": "qJpFTPpsW-Ac",
    "outputId": "0f08f8b4-3ac1-4cef-b326-512d50e3fc12"
   },
   "outputs": [
    {
     "name": "stdout",
     "output_type": "stream",
     "text": [
      "total 4514244\n",
      "---------- 1 root root        263 Dec 18 12:53 __notebook_source__.ipynb\n",
      "-rw-r--r-- 1 root root   28717126 Dec 18 12:56 answers_subsample.csv\n",
      "-rw-r--r-- 1 root root   28717126 Dec 18 14:29 answers_subsample.csv.1\n",
      "-rw-r--r-- 1 root root   28717126 Dec 18 14:37 answers_subsample.csv.2\n",
      "-rw-r--r-- 1 root root 4536408847 Jan 18  2019 cc.ru.300.vec\n",
      "drwxr-xr-x 2 root root       4096 Dec 18 13:47 model_save\n"
     ]
    }
   ],
   "source": [
    "!ls -l"
   ]
  },
  {
   "cell_type": "code",
   "execution_count": 106,
   "metadata": {
    "execution": {
     "iopub.execute_input": "2021-12-18T14:37:04.777323Z",
     "iopub.status.busy": "2021-12-18T14:37:04.776825Z",
     "iopub.status.idle": "2021-12-18T14:37:04.783504Z",
     "shell.execute_reply": "2021-12-18T14:37:04.782737Z",
     "shell.execute_reply.started": "2021-12-18T14:37:04.777281Z"
    },
    "id": "qmzaEwy9W-Ae"
   },
   "outputs": [],
   "source": [
    "import pandas as pd"
   ]
  },
  {
   "cell_type": "code",
   "execution_count": 107,
   "metadata": {
    "execution": {
     "iopub.execute_input": "2021-12-18T14:37:04.785644Z",
     "iopub.status.busy": "2021-12-18T14:37:04.784806Z",
     "iopub.status.idle": "2021-12-18T14:37:05.396105Z",
     "shell.execute_reply": "2021-12-18T14:37:05.395332Z",
     "shell.execute_reply.started": "2021-12-18T14:37:04.785606Z"
    },
    "id": "BbDKxq4EW-Ag"
   },
   "outputs": [],
   "source": [
    "data = pd.read_csv('answers_subsample.csv')"
   ]
  },
  {
   "cell_type": "code",
   "execution_count": 108,
   "metadata": {
    "execution": {
     "iopub.execute_input": "2021-12-18T14:37:05.397944Z",
     "iopub.status.busy": "2021-12-18T14:37:05.397665Z",
     "iopub.status.idle": "2021-12-18T14:37:05.409621Z",
     "shell.execute_reply": "2021-12-18T14:37:05.408961Z",
     "shell.execute_reply.started": "2021-12-18T14:37:05.397894Z"
    },
    "id": "hcAdsbS7W-Ai",
    "outputId": "48fe0876-521c-4be1-9212-86d5630c7a74"
   },
   "outputs": [
    {
     "data": {
      "text/html": [
       "<div>\n",
       "<style scoped>\n",
       "    .dataframe tbody tr th:only-of-type {\n",
       "        vertical-align: middle;\n",
       "    }\n",
       "\n",
       "    .dataframe tbody tr th {\n",
       "        vertical-align: top;\n",
       "    }\n",
       "\n",
       "    .dataframe thead th {\n",
       "        text-align: right;\n",
       "    }\n",
       "</style>\n",
       "<table border=\"1\" class=\"dataframe\">\n",
       "  <thead>\n",
       "    <tr style=\"text-align: right;\">\n",
       "      <th></th>\n",
       "      <th>category</th>\n",
       "      <th>text</th>\n",
       "    </tr>\n",
       "  </thead>\n",
       "  <tbody>\n",
       "    <tr>\n",
       "      <th>0</th>\n",
       "      <td>business</td>\n",
       "      <td>Могут ли в россельхозбанке дать в залог норков...</td>\n",
       "    </tr>\n",
       "    <tr>\n",
       "      <th>1</th>\n",
       "      <td>law</td>\n",
       "      <td>Может ли срочник перевестись на контракт после...</td>\n",
       "    </tr>\n",
       "    <tr>\n",
       "      <th>2</th>\n",
       "      <td>business</td>\n",
       "      <td>Продажа недвижимости по ипотеки ? ( арестованы...</td>\n",
       "    </tr>\n",
       "    <tr>\n",
       "      <th>3</th>\n",
       "      <td>business</td>\n",
       "      <td>В чем смысл криптовалюты, какая от неё выгода ...</td>\n",
       "    </tr>\n",
       "    <tr>\n",
       "      <th>4</th>\n",
       "      <td>law</td>\n",
       "      <td>часть 1 статья 158 похитил телефон</td>\n",
       "    </tr>\n",
       "    <tr>\n",
       "      <th>...</th>\n",
       "      <td>...</td>\n",
       "      <td>...</td>\n",
       "    </tr>\n",
       "    <tr>\n",
       "      <th>237774</th>\n",
       "      <td>relax</td>\n",
       "      <td>елку нарядили? =)</td>\n",
       "    </tr>\n",
       "    <tr>\n",
       "      <th>237775</th>\n",
       "      <td>law</td>\n",
       "      <td>Имеется переработка при 75% ставки, отгулы не ...</td>\n",
       "    </tr>\n",
       "    <tr>\n",
       "      <th>237776</th>\n",
       "      <td>food</td>\n",
       "      <td>Попробовала варить рис с половиной кубика для ...</td>\n",
       "    </tr>\n",
       "    <tr>\n",
       "      <th>237777</th>\n",
       "      <td>food</td>\n",
       "      <td>Почему рекоменд... Почему рекомендуют есть фру...</td>\n",
       "    </tr>\n",
       "    <tr>\n",
       "      <th>237778</th>\n",
       "      <td>business</td>\n",
       "      <td>Подскажите какие риски бывают в семье среднест...</td>\n",
       "    </tr>\n",
       "  </tbody>\n",
       "</table>\n",
       "<p>237779 rows × 2 columns</p>\n",
       "</div>"
      ],
      "text/plain": [
       "        category                                               text\n",
       "0       business  Могут ли в россельхозбанке дать в залог норков...\n",
       "1            law  Может ли срочник перевестись на контракт после...\n",
       "2       business  Продажа недвижимости по ипотеки ? ( арестованы...\n",
       "3       business  В чем смысл криптовалюты, какая от неё выгода ...\n",
       "4            law                 часть 1 статья 158 похитил телефон\n",
       "...          ...                                                ...\n",
       "237774     relax                                  елку нарядили? =)\n",
       "237775       law  Имеется переработка при 75% ставки, отгулы не ...\n",
       "237776      food  Попробовала варить рис с половиной кубика для ...\n",
       "237777      food  Почему рекоменд... Почему рекомендуют есть фру...\n",
       "237778  business  Подскажите какие риски бывают в семье среднест...\n",
       "\n",
       "[237779 rows x 2 columns]"
      ]
     },
     "execution_count": 108,
     "metadata": {},
     "output_type": "execute_result"
    }
   ],
   "source": [
    "data"
   ]
  },
  {
   "cell_type": "code",
   "execution_count": 109,
   "metadata": {
    "execution": {
     "iopub.execute_input": "2021-12-18T14:37:05.411475Z",
     "iopub.status.busy": "2021-12-18T14:37:05.410998Z",
     "iopub.status.idle": "2021-12-18T14:37:05.444930Z",
     "shell.execute_reply": "2021-12-18T14:37:05.444213Z",
     "shell.execute_reply.started": "2021-12-18T14:37:05.411439Z"
    },
    "id": "90tXLjfsW-Aj",
    "outputId": "5632fc8e-d787-4f79-fe6b-9604bcd58338"
   },
   "outputs": [
    {
     "data": {
      "text/plain": [
       "law         29.793211\n",
       "relax       22.016242\n",
       "business    19.309527\n",
       "food        18.367055\n",
       "love        10.513965\n",
       "Name: category, dtype: float64"
      ]
     },
     "execution_count": 109,
     "metadata": {},
     "output_type": "execute_result"
    }
   ],
   "source": [
    "data.category.value_counts() * 100 / data.shape[0]"
   ]
  },
  {
   "cell_type": "markdown",
   "metadata": {
    "id": "gfHbifWIW-Al"
   },
   "source": [
    "# Предобученные эмбеддинги\n",
    "[Источник](https://fasttext.cc/docs/en/crawl-vectors.html)  \n",
    "Вы можете взять любые word2vec подобные эмббединги. Если вы хотите использовать elmo, bert, etc сначала попробуйте с word2vec подобными эмббедингами, а потом можете перейти к более сложным моделям.  \n",
    "Ниже мы сначала скачиваем, а потом распоковываем эмбеддинги."
   ]
  },
  {
   "cell_type": "code",
   "execution_count": 110,
   "metadata": {
    "execution": {
     "iopub.execute_input": "2021-12-18T14:37:05.446680Z",
     "iopub.status.busy": "2021-12-18T14:37:05.446207Z",
     "iopub.status.idle": "2021-12-18T14:41:33.674973Z",
     "shell.execute_reply": "2021-12-18T14:41:33.673992Z",
     "shell.execute_reply.started": "2021-12-18T14:37:05.446643Z"
    },
    "id": "PVhCzM3LW-Al",
    "outputId": "f03a8f89-5f7c-4ce7-f3a9-d08ed7a99a5c"
   },
   "outputs": [
    {
     "name": "stdout",
     "output_type": "stream",
     "text": [
      "--2021-12-18 14:37:06--  https://dl.fbaipublicfiles.com/fasttext/vectors-crawl/cc.ru.300.vec.gz\n",
      "Resolving dl.fbaipublicfiles.com (dl.fbaipublicfiles.com)... 104.22.74.142, 172.67.9.4, 104.22.75.142, ...\n",
      "Connecting to dl.fbaipublicfiles.com (dl.fbaipublicfiles.com)|104.22.74.142|:443... connected.\n",
      "HTTP request sent, awaiting response... 200 OK\n",
      "Length: 1306357571 (1.2G) [binary/octet-stream]\n",
      "Saving to: ‘cc.ru.300.vec.gz’\n",
      "\n",
      "cc.ru.300.vec.gz    100%[===================>]   1.22G  10.7MB/s    in 1m 59s  \n",
      "\n",
      "2021-12-18 14:39:06 (10.5 MB/s) - ‘cc.ru.300.vec.gz’ saved [1306357571/1306357571]\n",
      "\n",
      "gzip: cc.ru.300.vec already exists; do you wish to overwrite (y or n)? ^C\n"
     ]
    }
   ],
   "source": [
    "!wget https://dl.fbaipublicfiles.com/fasttext/vectors-crawl/cc.ru.300.vec.gz\n",
    "!gzip -d cc.ru.300.vec.gz"
   ]
  },
  {
   "cell_type": "code",
   "execution_count": 111,
   "metadata": {
    "execution": {
     "iopub.execute_input": "2021-12-18T14:41:33.677287Z",
     "iopub.status.busy": "2021-12-18T14:41:33.677002Z",
     "iopub.status.idle": "2021-12-18T14:41:34.420619Z",
     "shell.execute_reply": "2021-12-18T14:41:34.419788Z",
     "shell.execute_reply.started": "2021-12-18T14:41:33.677250Z"
    },
    "id": "eJcT1qPZW-An",
    "outputId": "90974434-d54f-4b98-adf4-35ff404c5ff7"
   },
   "outputs": [
    {
     "name": "stdout",
     "output_type": "stream",
     "text": [
      "total 5789988\n",
      "---------- 1 root root        263 Dec 18 12:53 __notebook_source__.ipynb\n",
      "-rw-r--r-- 1 root root   28717126 Dec 18 12:56 answers_subsample.csv\n",
      "-rw-r--r-- 1 root root   28717126 Dec 18 14:29 answers_subsample.csv.1\n",
      "-rw-r--r-- 1 root root   28717126 Dec 18 14:37 answers_subsample.csv.2\n",
      "-rw-r--r-- 1 root root 4536408847 Jan 18  2019 cc.ru.300.vec\n",
      "-rw-r--r-- 1 root root 1306357571 Jan 18  2019 cc.ru.300.vec.gz\n",
      "drwxr-xr-x 2 root root       4096 Dec 18 13:47 model_save\n"
     ]
    }
   ],
   "source": [
    "!ls -l"
   ]
  },
  {
   "cell_type": "code",
   "execution_count": 112,
   "metadata": {
    "execution": {
     "iopub.execute_input": "2021-12-18T14:41:34.422589Z",
     "iopub.status.busy": "2021-12-18T14:41:34.422313Z",
     "iopub.status.idle": "2021-12-18T14:41:34.427418Z",
     "shell.execute_reply": "2021-12-18T14:41:34.426720Z",
     "shell.execute_reply.started": "2021-12-18T14:41:34.422552Z"
    },
    "id": "M0lwyZUFW-Ap"
   },
   "outputs": [],
   "source": [
    "from nltk.tokenize import word_tokenize, wordpunct_tokenize\n",
    "from tqdm import tqdm"
   ]
  },
  {
   "cell_type": "code",
   "execution_count": 113,
   "metadata": {
    "execution": {
     "iopub.execute_input": "2021-12-18T14:41:34.429530Z",
     "iopub.status.busy": "2021-12-18T14:41:34.429058Z",
     "iopub.status.idle": "2021-12-18T14:41:34.436674Z",
     "shell.execute_reply": "2021-12-18T14:41:34.435858Z",
     "shell.execute_reply.started": "2021-12-18T14:41:34.429491Z"
    },
    "id": "QQpX51Y4W-Aq"
   },
   "outputs": [],
   "source": [
    "# потом можете добавить свою предобработку\n",
    "\n",
    "def process_text(text):\n",
    "    \n",
    "    words = wordpunct_tokenize(text.lower())\n",
    "    \n",
    "    return words"
   ]
  },
  {
   "cell_type": "code",
   "execution_count": 114,
   "metadata": {
    "execution": {
     "iopub.execute_input": "2021-12-18T14:41:34.442036Z",
     "iopub.status.busy": "2021-12-18T14:41:34.441608Z",
     "iopub.status.idle": "2021-12-18T14:41:37.636826Z",
     "shell.execute_reply": "2021-12-18T14:41:37.636121Z",
     "shell.execute_reply.started": "2021-12-18T14:41:34.442011Z"
    },
    "id": "HyI2erCDW-Ar",
    "outputId": "8ee0bcf7-0b11-4c19-b988-ebed0f1745be"
   },
   "outputs": [
    {
     "name": "stderr",
     "output_type": "stream",
     "text": [
      "100%|██████████| 237779/237779 [00:03<00:00, 74797.95it/s]\n"
     ]
    }
   ],
   "source": [
    "word2freq = {}\n",
    "lengths = []\n",
    "\n",
    "for text in tqdm(data.text):\n",
    "    \n",
    "    words = process_text(text)\n",
    "    \n",
    "    lengths.append(len(words))\n",
    "    \n",
    "    for word in words:\n",
    "        \n",
    "        if word in word2freq:\n",
    "            word2freq[word] += 1\n",
    "        else:\n",
    "            word2freq[word] = 1"
   ]
  },
  {
   "cell_type": "code",
   "execution_count": 115,
   "metadata": {
    "execution": {
     "iopub.execute_input": "2021-12-18T14:41:37.638647Z",
     "iopub.status.busy": "2021-12-18T14:41:37.638133Z",
     "iopub.status.idle": "2021-12-18T14:41:37.642903Z",
     "shell.execute_reply": "2021-12-18T14:41:37.642220Z",
     "shell.execute_reply.started": "2021-12-18T14:41:37.638607Z"
    },
    "id": "FGzDm0ptW-At"
   },
   "outputs": [],
   "source": [
    "import seaborn as sns\n",
    "from matplotlib import pyplot as plt"
   ]
  },
  {
   "cell_type": "code",
   "execution_count": 116,
   "metadata": {
    "execution": {
     "iopub.execute_input": "2021-12-18T14:41:37.645062Z",
     "iopub.status.busy": "2021-12-18T14:41:37.644205Z",
     "iopub.status.idle": "2021-12-18T14:41:39.316962Z",
     "shell.execute_reply": "2021-12-18T14:41:39.316267Z",
     "shell.execute_reply.started": "2021-12-18T14:41:37.645023Z"
    },
    "id": "iZBR-aYDW-Av",
    "outputId": "7ffee6d8-ae74-41f7-f5d2-22a2a79eb998"
   },
   "outputs": [
    {
     "name": "stderr",
     "output_type": "stream",
     "text": [
      "/opt/conda/lib/python3.7/site-packages/seaborn/distributions.py:2619: FutureWarning: `distplot` is a deprecated function and will be removed in a future version. Please adapt your code to use either `displot` (a figure-level function with similar flexibility) or `histplot` (an axes-level function for histograms).\n",
      "  warnings.warn(msg, FutureWarning)\n"
     ]
    },
    {
     "data": {
      "text/plain": [
       "<AxesSubplot:title={'center':'Распределение длин слов в текстах'}, xlabel='Длина предложения', ylabel='Доля'>"
      ]
     },
     "execution_count": 116,
     "metadata": {},
     "output_type": "execute_result"
    },
    {
     "data": {
      "image/png": "[encoded data removed]",
      "text/plain": [
       "<Figure size 1152x720 with 1 Axes>"
      ]
     },
     "metadata": {},
     "output_type": "display_data"
    }
   ],
   "source": [
    "plt.figure(figsize=(16, 10))\n",
    "plt.title('Распределение длин слов в текстах')\n",
    "plt.xlabel('Длина предложения')\n",
    "plt.ylabel('Доля')\n",
    "sns.distplot(lengths)"
   ]
  },
  {
   "cell_type": "code",
   "execution_count": 117,
   "metadata": {
    "execution": {
     "iopub.execute_input": "2021-12-18T14:41:39.318654Z",
     "iopub.status.busy": "2021-12-18T14:41:39.318410Z",
     "iopub.status.idle": "2021-12-18T14:41:39.351788Z",
     "shell.execute_reply": "2021-12-18T14:41:39.351029Z",
     "shell.execute_reply.started": "2021-12-18T14:41:39.318620Z"
    },
    "id": "OBzmPqXIW-Aw",
    "outputId": "31554d0a-230d-47a9-d4e1-05afc7480c97"
   },
   "outputs": [
    {
     "data": {
      "text/plain": [
       "'99.66 % наших текстов входят в промежуток от 3 до 32 слов'"
      ]
     },
     "execution_count": 117,
     "metadata": {},
     "output_type": "execute_result"
    }
   ],
   "source": [
    "upper_threshold = 32\n",
    "lower_threshold = 3\n",
    "\n",
    "correct_percent = len([sent_len for sent_len in lengths \n",
    "                       if sent_len <= upper_threshold and sent_len >= lower_threshold]) * 100 / len(lengths)\n",
    "\n",
    "'{:.2f} % наших текстов входят в промежуток от {} до {} слов'.format(correct_percent, lower_threshold, upper_threshold)"
   ]
  },
  {
   "cell_type": "code",
   "execution_count": 118,
   "metadata": {
    "execution": {
     "iopub.execute_input": "2021-12-18T14:41:39.353485Z",
     "iopub.status.busy": "2021-12-18T14:41:39.353236Z",
     "iopub.status.idle": "2021-12-18T14:41:39.360512Z",
     "shell.execute_reply": "2021-12-18T14:41:39.359568Z",
     "shell.execute_reply.started": "2021-12-18T14:41:39.353453Z"
    },
    "id": "GbSer_0bW-Ay",
    "outputId": "eba35731-b79c-4f79-d1e6-386bcda17cf9"
   },
   "outputs": [
    {
     "data": {
      "text/plain": [
       "152179"
      ]
     },
     "execution_count": 118,
     "metadata": {},
     "output_type": "execute_result"
    }
   ],
   "source": [
    "len(word2freq)"
   ]
  },
  {
   "cell_type": "code",
   "execution_count": 119,
   "metadata": {
    "execution": {
     "iopub.execute_input": "2021-12-18T14:41:39.362279Z",
     "iopub.status.busy": "2021-12-18T14:41:39.362021Z",
     "iopub.status.idle": "2021-12-18T14:41:39.408756Z",
     "shell.execute_reply": "2021-12-18T14:41:39.407971Z",
     "shell.execute_reply.started": "2021-12-18T14:41:39.362246Z"
    },
    "id": "szg6XD3EW-Az",
    "outputId": "10886352-1b81-4299-d55c-53b12c14aba6"
   },
   "outputs": [
    {
     "data": {
      "text/plain": [
       "'114332 слов, которые встречались 3 и менее раз'"
      ]
     },
     "execution_count": 119,
     "metadata": {},
     "output_type": "execute_result"
    }
   ],
   "source": [
    "'{} слов, которые встречались 3 и менее раз'.format(len([word for word in word2freq if word2freq[word] <= 3]))"
   ]
  },
  {
   "cell_type": "markdown",
   "metadata": {
    "id": "bZbOg0FqW-A1"
   },
   "source": [
    "# Читаем файл с эмбеддингами\n",
    "### Этот файл с 300 числами для 2 000 000 слов и он может не влезть в память\n",
    "Поэтому прочитаем только те слова, которые мы знаем"
   ]
  },
  {
   "cell_type": "code",
   "execution_count": 120,
   "metadata": {
    "execution": {
     "iopub.execute_input": "2021-12-18T14:41:39.410377Z",
     "iopub.status.busy": "2021-12-18T14:41:39.410046Z",
     "iopub.status.idle": "2021-12-18T14:41:39.414390Z",
     "shell.execute_reply": "2021-12-18T14:41:39.413601Z",
     "shell.execute_reply.started": "2021-12-18T14:41:39.410340Z"
    },
    "id": "T1Yx_qr-W-A2"
   },
   "outputs": [],
   "source": [
    "import numpy as np"
   ]
  },
  {
   "cell_type": "code",
   "execution_count": 121,
   "metadata": {
    "execution": {
     "iopub.execute_input": "2021-12-18T14:41:39.416587Z",
     "iopub.status.busy": "2021-12-18T14:41:39.415962Z",
     "iopub.status.idle": "2021-12-18T14:42:52.500456Z",
     "shell.execute_reply": "2021-12-18T14:42:52.499578Z",
     "shell.execute_reply.started": "2021-12-18T14:41:39.416547Z"
    },
    "id": "BLEgfnaWW-A4",
    "outputId": "1637e425-8cdf-48ae-8925-526b085e9c5f"
   },
   "outputs": [
    {
     "name": "stderr",
     "output_type": "stream",
     "text": [
      "Read word2vec: 100%|██████████| 2000000/2000000 [01:12<00:00, 27591.11it/s]\n"
     ]
    }
   ],
   "source": [
    "word2index = {'PAD': 0}\n",
    "vectors = []\n",
    "    \n",
    "word2vec_file = open('cc.ru.300.vec')\n",
    "    \n",
    "n_words, embedding_dim = word2vec_file.readline().split()\n",
    "n_words, embedding_dim = int(n_words), int(embedding_dim)\n",
    "\n",
    "# Zero vector for PAD\n",
    "vectors.append(np.zeros((1, embedding_dim)))\n",
    "\n",
    "progress_bar = tqdm(desc='Read word2vec', total=n_words)\n",
    "\n",
    "while True:\n",
    "\n",
    "    line = word2vec_file.readline().strip()\n",
    "\n",
    "    if not line:\n",
    "        break\n",
    "        \n",
    "    current_parts = line.split()\n",
    "\n",
    "    current_word = ' '.join(current_parts[:-embedding_dim])\n",
    "\n",
    "    if current_word in word2freq:\n",
    "\n",
    "        word2index[current_word] = len(word2index)\n",
    "\n",
    "        current_vectors = current_parts[-embedding_dim:]\n",
    "        current_vectors = np.array(list(map(float, current_vectors)))\n",
    "        current_vectors = np.expand_dims(current_vectors, 0)\n",
    "\n",
    "        vectors.append(current_vectors)\n",
    "\n",
    "    progress_bar.update(1)\n",
    "\n",
    "progress_bar.close()\n",
    "\n",
    "word2vec_file.close()\n",
    "\n",
    "vectors = np.concatenate(vectors)"
   ]
  },
  {
   "cell_type": "code",
   "execution_count": 122,
   "metadata": {
    "execution": {
     "iopub.execute_input": "2021-12-18T14:42:52.507100Z",
     "iopub.status.busy": "2021-12-18T14:42:52.504811Z",
     "iopub.status.idle": "2021-12-18T14:42:52.515674Z",
     "shell.execute_reply": "2021-12-18T14:42:52.514974Z",
     "shell.execute_reply.started": "2021-12-18T14:42:52.507060Z"
    },
    "id": "AYJMzgpnW-A7",
    "outputId": "6d5ae33d-9c2b-41bd-b093-e23aaf311732"
   },
   "outputs": [
    {
     "data": {
      "text/plain": [
       "117619"
      ]
     },
     "execution_count": 122,
     "metadata": {},
     "output_type": "execute_result"
    }
   ],
   "source": [
    "len(word2index)"
   ]
  },
  {
   "cell_type": "code",
   "execution_count": 123,
   "metadata": {
    "execution": {
     "iopub.execute_input": "2021-12-18T14:42:52.520220Z",
     "iopub.status.busy": "2021-12-18T14:42:52.519712Z",
     "iopub.status.idle": "2021-12-18T14:42:52.664934Z",
     "shell.execute_reply": "2021-12-18T14:42:52.663799Z",
     "shell.execute_reply.started": "2021-12-18T14:42:52.520185Z"
    },
    "id": "KE06fafiW-A8",
    "outputId": "9048350b-9267-4c54-8483-93f6d14179dc"
   },
   "outputs": [
    {
     "name": "stdout",
     "output_type": "stream",
     "text": [
      "Мы не знаем 2.50 % слов в датасете\n",
      "Количество неизвестных слов 34561 из 152179, то есть 22.71 % уникальных слов в словаре\n",
      "В среднем каждое встречается 1.98 раз\n",
      "\n",
      "Топ 5 невошедших слов:\n",
      "??? с количеством вхождениий - 3641\n",
      "?? с количеством вхождениий - 2448\n",
      "!!! с количеством вхождениий - 2214\n",
      "?) с количеством вхождениий - 2069\n",
      "\"? с количеством вхождениий - 1429\n"
     ]
    }
   ],
   "source": [
    "unk_words = [word for word in word2freq if word not in word2index]\n",
    "unk_counts = [word2freq[word] for word in unk_words]\n",
    "n_unk = sum(unk_counts) * 100 / sum(list(word2freq.values()))\n",
    "\n",
    "sub_sample_unk_words = {word: word2freq[word] for word in unk_words}\n",
    "sorted_unk_words = list(sorted(sub_sample_unk_words, key=lambda x: sub_sample_unk_words[x], reverse=True))\n",
    "\n",
    "print('Мы не знаем {:.2f} % слов в датасете'.format(n_unk))\n",
    "print('Количество неизвестных слов {} из {}, то есть {:.2f} % уникальных слов в словаре'.format(\n",
    "    len(unk_words), len(word2freq), len(unk_words) * 100 / len(word2freq)))\n",
    "print('В среднем каждое встречается {:.2f} раз'.format(np.mean(unk_counts)))\n",
    "print()\n",
    "print('Топ 5 невошедших слов:')\n",
    "\n",
    "for i in range(5):\n",
    "    print(sorted_unk_words[i], 'с количеством вхождениий -', word2freq[sorted_unk_words[i]])"
   ]
  },
  {
   "cell_type": "markdown",
   "metadata": {
    "id": "GFPNApUjW-A9"
   },
   "source": [
    "# Потеря 2.5 % слов в датасете\n",
    "Эта ситуация не то, чтобы сильно плохая, в учебных целях нормально, к тому же в среднем они редко встречаются. Вы можете поиграть с предобработкой."
   ]
  },
  {
   "cell_type": "code",
   "execution_count": 124,
   "metadata": {
    "execution": {
     "iopub.execute_input": "2021-12-18T14:42:52.669420Z",
     "iopub.status.busy": "2021-12-18T14:42:52.669183Z",
     "iopub.status.idle": "2021-12-18T14:42:52.675689Z",
     "shell.execute_reply": "2021-12-18T14:42:52.675081Z",
     "shell.execute_reply.started": "2021-12-18T14:42:52.669391Z"
    },
    "id": "_fo1fB6JW-A-"
   },
   "outputs": [],
   "source": [
    "import torch"
   ]
  },
  {
   "cell_type": "markdown",
   "metadata": {
    "id": "pEKAjCg3W-BA"
   },
   "source": [
    "- 128 - размер батча\n",
    "- 64 - количество слов\n",
    "- 1024 - эмбеддинг слова"
   ]
  },
  {
   "cell_type": "code",
   "execution_count": 125,
   "metadata": {
    "execution": {
     "iopub.execute_input": "2021-12-18T14:42:52.677500Z",
     "iopub.status.busy": "2021-12-18T14:42:52.676963Z",
     "iopub.status.idle": "2021-12-18T14:42:52.752964Z",
     "shell.execute_reply": "2021-12-18T14:42:52.752234Z",
     "shell.execute_reply.started": "2021-12-18T14:42:52.677462Z"
    },
    "id": "D19pDyQBW-BA"
   },
   "outputs": [],
   "source": [
    "x = torch.rand(128, 64, 1024)"
   ]
  },
  {
   "cell_type": "code",
   "execution_count": 126,
   "metadata": {
    "execution": {
     "iopub.execute_input": "2021-12-18T14:42:52.754500Z",
     "iopub.status.busy": "2021-12-18T14:42:52.754231Z",
     "iopub.status.idle": "2021-12-18T14:42:52.783293Z",
     "shell.execute_reply": "2021-12-18T14:42:52.782665Z",
     "shell.execute_reply.started": "2021-12-18T14:42:52.754462Z"
    },
    "id": "Yxsxr7edW-BB"
   },
   "outputs": [],
   "source": [
    "lstm = torch.nn.LSTM(1024, 512, batch_first=True)"
   ]
  },
  {
   "cell_type": "code",
   "execution_count": 127,
   "metadata": {
    "execution": {
     "iopub.execute_input": "2021-12-18T14:42:52.784872Z",
     "iopub.status.busy": "2021-12-18T14:42:52.784597Z",
     "iopub.status.idle": "2021-12-18T14:42:56.382530Z",
     "shell.execute_reply": "2021-12-18T14:42:56.381777Z",
     "shell.execute_reply.started": "2021-12-18T14:42:52.784839Z"
    },
    "id": "TZy0lKr2W-BC",
    "outputId": "f0c6e3b5-b838-4c20-cba7-dd3272695d23"
   },
   "outputs": [
    {
     "name": "stdout",
     "output_type": "stream",
     "text": [
      "446 ms ± 12 ms per loop (mean ± std. dev. of 7 runs, 1 loop each)\n"
     ]
    }
   ],
   "source": [
    "%%timeit\n",
    "\n",
    "pred = lstm(x)"
   ]
  },
  {
   "cell_type": "markdown",
   "metadata": {
    "id": "s611e34SW-BE"
   },
   "source": [
    "# А что GPU?"
   ]
  },
  {
   "cell_type": "code",
   "execution_count": 128,
   "metadata": {
    "execution": {
     "iopub.execute_input": "2021-12-18T14:42:56.384354Z",
     "iopub.status.busy": "2021-12-18T14:42:56.384089Z",
     "iopub.status.idle": "2021-12-18T14:42:56.389576Z",
     "shell.execute_reply": "2021-12-18T14:42:56.388867Z",
     "shell.execute_reply.started": "2021-12-18T14:42:56.384318Z"
    },
    "id": "xjFlWdgtW-BE",
    "outputId": "59c89e14-ac91-43ba-fcef-5cd544c7830b"
   },
   "outputs": [
    {
     "name": "stdout",
     "output_type": "stream",
     "text": [
      "Доступна ли видеокарта: True\n",
      "Если недоступна, поменяйте runtime, если в колабе\n"
     ]
    }
   ],
   "source": [
    "print('Доступна ли видеокарта:', torch.cuda.is_available())\n",
    "print('Если недоступна, поменяйте runtime, если в колабе')"
   ]
  },
  {
   "cell_type": "code",
   "execution_count": 129,
   "metadata": {
    "execution": {
     "iopub.execute_input": "2021-12-18T14:42:56.391578Z",
     "iopub.status.busy": "2021-12-18T14:42:56.391088Z",
     "iopub.status.idle": "2021-12-18T14:42:56.398972Z",
     "shell.execute_reply": "2021-12-18T14:42:56.398169Z",
     "shell.execute_reply.started": "2021-12-18T14:42:56.391540Z"
    },
    "id": "jaMMD5CDW-BG"
   },
   "outputs": [],
   "source": [
    "# универсальных способ задать device\n",
    "device = torch.device('cuda') if torch.cuda.is_available() else torch.device('cpu')\n",
    "# если доступна gpu, то давайте ее использовать, но в этом задании должны использовать"
   ]
  },
  {
   "cell_type": "code",
   "execution_count": 130,
   "metadata": {
    "execution": {
     "iopub.execute_input": "2021-12-18T14:42:56.400990Z",
     "iopub.status.busy": "2021-12-18T14:42:56.400122Z",
     "iopub.status.idle": "2021-12-18T14:42:56.415611Z",
     "shell.execute_reply": "2021-12-18T14:42:56.414949Z",
     "shell.execute_reply.started": "2021-12-18T14:42:56.400941Z"
    },
    "id": "GeQCiSYdW-BH"
   },
   "outputs": [],
   "source": [
    "# перенесли x на gpu\n",
    "x_gpu = x.to(device)"
   ]
  },
  {
   "cell_type": "code",
   "execution_count": 131,
   "metadata": {
    "execution": {
     "iopub.execute_input": "2021-12-18T14:42:56.417564Z",
     "iopub.status.busy": "2021-12-18T14:42:56.416846Z",
     "iopub.status.idle": "2021-12-18T14:42:56.449524Z",
     "shell.execute_reply": "2021-12-18T14:42:56.448862Z",
     "shell.execute_reply.started": "2021-12-18T14:42:56.417528Z"
    },
    "id": "S_qUdMcbW-BJ"
   },
   "outputs": [],
   "source": [
    "# зададим lstm на gpu\n",
    "lstm_gpu = torch.nn.LSTM(1024, 512, batch_first=True)\n",
    "lstm_gpu = lstm_gpu.to(device)"
   ]
  },
  {
   "cell_type": "code",
   "execution_count": 132,
   "metadata": {
    "execution": {
     "iopub.execute_input": "2021-12-18T14:42:56.451026Z",
     "iopub.status.busy": "2021-12-18T14:42:56.450712Z",
     "iopub.status.idle": "2021-12-18T14:43:04.311956Z",
     "shell.execute_reply": "2021-12-18T14:43:04.311274Z",
     "shell.execute_reply.started": "2021-12-18T14:42:56.450991Z"
    },
    "id": "hSUQmRgtW-BK",
    "outputId": "90d47b0f-2964-4b7d-80ec-ab2c34cf1af5"
   },
   "outputs": [
    {
     "name": "stdout",
     "output_type": "stream",
     "text": [
      "10.2 ms ± 21.9 µs per loop (mean ± std. dev. of 7 runs, 100 loops each)\n"
     ]
    }
   ],
   "source": [
    "%%timeit\n",
    "\n",
    "pred = lstm_gpu(x_gpu)"
   ]
  },
  {
   "cell_type": "markdown",
   "metadata": {
    "id": "gPvqNWkQW-BM"
   },
   "source": [
    "# У меня на 1070 TI скорость уменьшилась с 381мс до 41мс, то есть в 9.29 раз"
   ]
  },
  {
   "cell_type": "code",
   "execution_count": 133,
   "metadata": {
    "execution": {
     "iopub.execute_input": "2021-12-18T14:43:04.316124Z",
     "iopub.status.busy": "2021-12-18T14:43:04.315650Z",
     "iopub.status.idle": "2021-12-18T14:43:04.323140Z",
     "shell.execute_reply": "2021-12-18T14:43:04.322489Z",
     "shell.execute_reply.started": "2021-12-18T14:43:04.316086Z"
    },
    "id": "FaPKGO5aW-BN",
    "outputId": "98664cd4-ed09-44b7-e5e6-4c41ed7e45d7"
   },
   "outputs": [],
   "source": [
    "# если у нас модель на гпу, а то, что мы туда подаем нет, то работать не будет\n",
    "# справедлива и обратная ситуация\n",
    "\n",
    "# выскочит ошибка\n",
    "# посмотрите на нее, возможно, вы еще встретитесь\n",
    "# pred = lstm_gpu(x)"
   ]
  },
  {
   "cell_type": "markdown",
   "metadata": {
    "id": "9NX5HHDOW-BO"
   },
   "source": [
    "# Важные и не очень интуитивные моменты про LSTM и CNN в торче"
   ]
  },
  {
   "cell_type": "markdown",
   "metadata": {
    "id": "zKr22rklW-BP"
   },
   "source": [
    "По умолчанию LSTM принимает данные с такой размерностью:\n",
    "```python\n",
    "(seq_len, batch, input_size)\n",
    "```\n",
    "Сделано это с целью оптимизации на более низком уровне.  \n",
    "Мы оперируем такими объектами:\n",
    "```python\n",
    "(batch, seq_len, input_size)\n",
    "```\n",
    "Чтобы LSTM у нас заработала правильно, мы можем либо передать параметр ```batch_first=True``` во время инициализации слоя,\n",
    "либо транспонировать (поменять) первую и вторую размерность у нашего x перед подачей в слой.  \n",
    "[Подробнее про LSTM](https://pytorch.org/docs/stable/nn.html#lstm)"
   ]
  },
  {
   "cell_type": "markdown",
   "metadata": {
    "id": "Bny8SvCgW-BQ"
   },
   "source": [
    "- 128 - размер батча\n",
    "- 64 - количество слов\n",
    "- 1024 - эмбеддинг слова"
   ]
  },
  {
   "cell_type": "code",
   "execution_count": 134,
   "metadata": {
    "execution": {
     "iopub.execute_input": "2021-12-18T14:43:04.331345Z",
     "iopub.status.busy": "2021-12-18T14:43:04.328256Z",
     "iopub.status.idle": "2021-12-18T14:43:04.878624Z",
     "shell.execute_reply": "2021-12-18T14:43:04.877818Z",
     "shell.execute_reply.started": "2021-12-18T14:43:04.331308Z"
    },
    "id": "vc-bLok2W-BQ"
   },
   "outputs": [],
   "source": [
    "# первый способ\n",
    "lstm = torch.nn.LSTM(1024, 512, batch_first=True)\n",
    "\n",
    "pred, mem = lstm(x)"
   ]
  },
  {
   "cell_type": "code",
   "execution_count": 135,
   "metadata": {
    "execution": {
     "iopub.execute_input": "2021-12-18T14:43:04.880401Z",
     "iopub.status.busy": "2021-12-18T14:43:04.880144Z",
     "iopub.status.idle": "2021-12-18T14:43:04.887558Z",
     "shell.execute_reply": "2021-12-18T14:43:04.886743Z",
     "shell.execute_reply.started": "2021-12-18T14:43:04.880368Z"
    },
    "id": "OHpit-1tW-BR",
    "outputId": "20421a43-502f-4473-e27f-9753f057ae48"
   },
   "outputs": [
    {
     "data": {
      "text/plain": [
       "torch.Size([128, 64, 512])"
      ]
     },
     "execution_count": 135,
     "metadata": {},
     "output_type": "execute_result"
    }
   ],
   "source": [
    "pred.shape"
   ]
  },
  {
   "cell_type": "code",
   "execution_count": 136,
   "metadata": {
    "execution": {
     "iopub.execute_input": "2021-12-18T14:43:04.889578Z",
     "iopub.status.busy": "2021-12-18T14:43:04.889084Z",
     "iopub.status.idle": "2021-12-18T14:43:05.379129Z",
     "shell.execute_reply": "2021-12-18T14:43:05.378364Z",
     "shell.execute_reply.started": "2021-12-18T14:43:04.889542Z"
    },
    "id": "ru_WzGSJW-BS"
   },
   "outputs": [],
   "source": [
    "lstm = torch.nn.LSTM(1024, 512)\n",
    "\n",
    "# меняем размерность batch и seq_len местами\n",
    "x_transposed = x.transpose(0, 1)\n",
    "pred_transposed, mem = lstm(x_transposed)"
   ]
  },
  {
   "cell_type": "code",
   "execution_count": 137,
   "metadata": {
    "execution": {
     "iopub.execute_input": "2021-12-18T14:43:05.381172Z",
     "iopub.status.busy": "2021-12-18T14:43:05.380721Z",
     "iopub.status.idle": "2021-12-18T14:43:05.387307Z",
     "shell.execute_reply": "2021-12-18T14:43:05.386474Z",
     "shell.execute_reply.started": "2021-12-18T14:43:05.381129Z"
    },
    "id": "NHdBavTWW-BT",
    "outputId": "081e3723-87d8-4131-cbae-30625935786e"
   },
   "outputs": [
    {
     "data": {
      "text/plain": [
       "torch.Size([64, 128, 512])"
      ]
     },
     "execution_count": 137,
     "metadata": {},
     "output_type": "execute_result"
    }
   ],
   "source": [
    "# у нас все еще осталась размерность (seq_len, batch, input_size)\n",
    "pred_transposed.shape"
   ]
  },
  {
   "cell_type": "code",
   "execution_count": 138,
   "metadata": {
    "execution": {
     "iopub.execute_input": "2021-12-18T14:43:05.389243Z",
     "iopub.status.busy": "2021-12-18T14:43:05.388976Z",
     "iopub.status.idle": "2021-12-18T14:43:05.399613Z",
     "shell.execute_reply": "2021-12-18T14:43:05.398641Z",
     "shell.execute_reply.started": "2021-12-18T14:43:05.389210Z"
    },
    "id": "Rcxv55j7W-BV",
    "outputId": "ac6762d8-a85d-4e20-f16a-09d192934606"
   },
   "outputs": [
    {
     "data": {
      "text/plain": [
       "torch.Size([128, 64, 512])"
      ]
     },
     "execution_count": 138,
     "metadata": {},
     "output_type": "execute_result"
    }
   ],
   "source": [
    "# просто транспонируем еще раз\n",
    "pred = pred_transposed.transpose(0, 1)\n",
    "pred.shape"
   ]
  },
  {
   "cell_type": "markdown",
   "metadata": {
    "id": "PmJt6cqkW-BW"
   },
   "source": [
    "## Conv1d & MaxPool1d\n",
    "Примерно такая же ситуация происходит со сверточными слоями и пулингами.  \n",
    "1d реализация как раз для текстов, в ней матрица-фильтр ходит только по одной размерности.  \n",
    "[Подробнее про CNN](https://pytorch.org/docs/stable/nn.html#conv1d)  \n",
    "[Подробнее про пулинг](https://pytorch.org/docs/stable/nn.html#maxpool1d)  \n",
    "Ожидается такая размерность:\n",
    "```python\n",
    "(batch, input_size, seq_len)\n",
    "```\n",
    "Мы все еще хоти подавать такую размерность:\n",
    "```python\n",
    "(batch, seq_len, input_size)\n",
    "```\n",
    "В случае со свертками и пулингами у нас есть вариант только транспонировать x перед подачей и транспонировать полученный результат. Обратите внимание, что транспонируем мы первую и вторую размерность (индексация с нуля)."
   ]
  },
  {
   "cell_type": "code",
   "execution_count": 139,
   "metadata": {
    "execution": {
     "iopub.execute_input": "2021-12-18T14:43:05.401313Z",
     "iopub.status.busy": "2021-12-18T14:43:05.400867Z",
     "iopub.status.idle": "2021-12-18T14:43:05.407105Z",
     "shell.execute_reply": "2021-12-18T14:43:05.406246Z",
     "shell.execute_reply.started": "2021-12-18T14:43:05.401276Z"
    },
    "id": "TyM8Xl24W-BX",
    "outputId": "3d6f3925-818b-4d2a-d65b-e37ba9dc9d71"
   },
   "outputs": [
    {
     "data": {
      "text/plain": [
       "torch.Size([128, 64, 1024])"
      ]
     },
     "execution_count": 139,
     "metadata": {},
     "output_type": "execute_result"
    }
   ],
   "source": [
    "x.shape"
   ]
  },
  {
   "cell_type": "markdown",
   "metadata": {
    "id": "grPNMjEZW-BY"
   },
   "source": [
    "- 128 - размер батча\n",
    "- 64 - количество слов\n",
    "- 1024 - эмбеддинг слова"
   ]
  },
  {
   "cell_type": "code",
   "execution_count": 140,
   "metadata": {
    "execution": {
     "iopub.execute_input": "2021-12-18T14:43:05.409307Z",
     "iopub.status.busy": "2021-12-18T14:43:05.408435Z",
     "iopub.status.idle": "2021-12-18T14:43:05.427734Z",
     "shell.execute_reply": "2021-12-18T14:43:05.427127Z",
     "shell.execute_reply.started": "2021-12-18T14:43:05.409089Z"
    },
    "id": "btJ-ApiOW-BY"
   },
   "outputs": [],
   "source": [
    "# in_channels - размер входных эмбеддингов\n",
    "# out_channels - количество/какой размер эмбеддингов мы хотим получить\n",
    "# kernel_size - размер окна/н-граммы\n",
    "cnn = torch.nn.Conv1d(in_channels=1024, out_channels=512, kernel_size=3)"
   ]
  },
  {
   "cell_type": "code",
   "execution_count": 141,
   "metadata": {
    "execution": {
     "iopub.execute_input": "2021-12-18T14:43:05.433863Z",
     "iopub.status.busy": "2021-12-18T14:43:05.433142Z",
     "iopub.status.idle": "2021-12-18T14:43:05.437003Z",
     "shell.execute_reply": "2021-12-18T14:43:05.436288Z",
     "shell.execute_reply.started": "2021-12-18T14:43:05.433827Z"
    },
    "id": "QIYff7YyW-Bb",
    "outputId": "4b035956-a45e-4ecd-fa4f-d0ae1d78e273"
   },
   "outputs": [],
   "source": [
    "# выпадет ошибка, посмотрите какая\n",
    "# pred = cnn(x)"
   ]
  },
  {
   "cell_type": "code",
   "execution_count": 142,
   "metadata": {
    "execution": {
     "iopub.execute_input": "2021-12-18T14:43:05.438752Z",
     "iopub.status.busy": "2021-12-18T14:43:05.438478Z",
     "iopub.status.idle": "2021-12-18T14:43:05.446935Z",
     "shell.execute_reply": "2021-12-18T14:43:05.446070Z",
     "shell.execute_reply.started": "2021-12-18T14:43:05.438716Z"
    },
    "id": "7tVn6YKLW-Bd",
    "outputId": "af20b078-c926-478c-d071-9208913d194d"
   },
   "outputs": [
    {
     "data": {
      "text/plain": [
       "torch.Size([128, 1024, 64])"
      ]
     },
     "execution_count": 142,
     "metadata": {},
     "output_type": "execute_result"
    }
   ],
   "source": [
    "x_transposed = x.transpose(1, 2)\n",
    "x_transposed.shape\n",
    "# перевели в (batch, input_size, seq_len)"
   ]
  },
  {
   "cell_type": "code",
   "execution_count": 143,
   "metadata": {
    "execution": {
     "iopub.execute_input": "2021-12-18T14:43:05.448826Z",
     "iopub.status.busy": "2021-12-18T14:43:05.448517Z",
     "iopub.status.idle": "2021-12-18T14:43:05.761392Z",
     "shell.execute_reply": "2021-12-18T14:43:05.760690Z",
     "shell.execute_reply.started": "2021-12-18T14:43:05.448793Z"
    },
    "id": "2N4w6-iWW-Be",
    "outputId": "0e7b1cbd-3155-4d08-bee7-e27e5915aa59"
   },
   "outputs": [
    {
     "data": {
      "text/plain": [
       "torch.Size([128, 512, 62])"
      ]
     },
     "execution_count": 143,
     "metadata": {},
     "output_type": "execute_result"
    }
   ],
   "source": [
    "pred_transposed = cnn(x_transposed)\n",
    "pred_transposed.shape\n",
    "# осталась разрмерность (batch, output_size, seq_len)"
   ]
  },
  {
   "cell_type": "code",
   "execution_count": 144,
   "metadata": {
    "execution": {
     "iopub.execute_input": "2021-12-18T14:43:05.763097Z",
     "iopub.status.busy": "2021-12-18T14:43:05.762705Z",
     "iopub.status.idle": "2021-12-18T14:43:05.769677Z",
     "shell.execute_reply": "2021-12-18T14:43:05.768868Z",
     "shell.execute_reply.started": "2021-12-18T14:43:05.763062Z"
    },
    "id": "7-C3_phaW-Bf",
    "outputId": "befc5452-3be4-423b-8f54-0096fee3fdd8"
   },
   "outputs": [
    {
     "data": {
      "text/plain": [
       "torch.Size([128, 62, 512])"
      ]
     },
     "execution_count": 144,
     "metadata": {},
     "output_type": "execute_result"
    }
   ],
   "source": [
    "# переведем обратно в (batch, seq_len, input_size)\n",
    "pred = pred_transposed.transpose(1, 2)\n",
    "pred.shape"
   ]
  },
  {
   "cell_type": "markdown",
   "metadata": {
    "id": "stBQ3yhqW-Bi"
   },
   "source": [
    "# Подготовим данные в DataLoader"
   ]
  },
  {
   "cell_type": "code",
   "execution_count": 145,
   "metadata": {
    "execution": {
     "iopub.execute_input": "2021-12-18T14:43:05.771475Z",
     "iopub.status.busy": "2021-12-18T14:43:05.771171Z",
     "iopub.status.idle": "2021-12-18T14:43:05.775775Z",
     "shell.execute_reply": "2021-12-18T14:43:05.775037Z",
     "shell.execute_reply.started": "2021-12-18T14:43:05.771439Z"
    },
    "id": "vPX_m5M4W-Bi"
   },
   "outputs": [],
   "source": [
    "from torch.utils.data import Dataset, DataLoader"
   ]
  },
  {
   "cell_type": "code",
   "execution_count": 146,
   "metadata": {
    "execution": {
     "iopub.execute_input": "2021-12-18T14:43:05.777534Z",
     "iopub.status.busy": "2021-12-18T14:43:05.777039Z",
     "iopub.status.idle": "2021-12-18T14:43:05.786992Z",
     "shell.execute_reply": "2021-12-18T14:43:05.786321Z",
     "shell.execute_reply.started": "2021-12-18T14:43:05.777498Z"
    },
    "id": "hV76BdN0W-Bj",
    "outputId": "a1654503-2d13-4689-8ed7-687946ae0c07"
   },
   "outputs": [
    {
     "data": {
      "text/plain": [
       "False"
      ]
     },
     "execution_count": 146,
     "metadata": {},
     "output_type": "execute_result"
    }
   ],
   "source": [
    "'UNK' in word2index"
   ]
  },
  {
   "cell_type": "code",
   "execution_count": 147,
   "metadata": {
    "execution": {
     "iopub.execute_input": "2021-12-18T14:43:05.789365Z",
     "iopub.status.busy": "2021-12-18T14:43:05.788922Z",
     "iopub.status.idle": "2021-12-18T14:43:05.800899Z",
     "shell.execute_reply": "2021-12-18T14:43:05.800268Z",
     "shell.execute_reply.started": "2021-12-18T14:43:05.789328Z"
    },
    "id": "INB_dPAnW-Bk",
    "outputId": "8cdbf223-4169-491d-8ac6-a8b054821dfc"
   },
   "outputs": [
    {
     "data": {
      "text/html": [
       "<div>\n",
       "<style scoped>\n",
       "    .dataframe tbody tr th:only-of-type {\n",
       "        vertical-align: middle;\n",
       "    }\n",
       "\n",
       "    .dataframe tbody tr th {\n",
       "        vertical-align: top;\n",
       "    }\n",
       "\n",
       "    .dataframe thead th {\n",
       "        text-align: right;\n",
       "    }\n",
       "</style>\n",
       "<table border=\"1\" class=\"dataframe\">\n",
       "  <thead>\n",
       "    <tr style=\"text-align: right;\">\n",
       "      <th></th>\n",
       "      <th>category</th>\n",
       "      <th>text</th>\n",
       "    </tr>\n",
       "  </thead>\n",
       "  <tbody>\n",
       "    <tr>\n",
       "      <th>0</th>\n",
       "      <td>business</td>\n",
       "      <td>Могут ли в россельхозбанке дать в залог норков...</td>\n",
       "    </tr>\n",
       "    <tr>\n",
       "      <th>1</th>\n",
       "      <td>law</td>\n",
       "      <td>Может ли срочник перевестись на контракт после...</td>\n",
       "    </tr>\n",
       "    <tr>\n",
       "      <th>2</th>\n",
       "      <td>business</td>\n",
       "      <td>Продажа недвижимости по ипотеки ? ( арестованы...</td>\n",
       "    </tr>\n",
       "    <tr>\n",
       "      <th>3</th>\n",
       "      <td>business</td>\n",
       "      <td>В чем смысл криптовалюты, какая от неё выгода ...</td>\n",
       "    </tr>\n",
       "    <tr>\n",
       "      <th>4</th>\n",
       "      <td>law</td>\n",
       "      <td>часть 1 статья 158 похитил телефон</td>\n",
       "    </tr>\n",
       "  </tbody>\n",
       "</table>\n",
       "</div>"
      ],
      "text/plain": [
       "   category                                               text\n",
       "0  business  Могут ли в россельхозбанке дать в залог норков...\n",
       "1       law  Может ли срочник перевестись на контракт после...\n",
       "2  business  Продажа недвижимости по ипотеки ? ( арестованы...\n",
       "3  business  В чем смысл криптовалюты, какая от неё выгода ...\n",
       "4       law                 часть 1 статья 158 похитил телефон"
      ]
     },
     "execution_count": 147,
     "metadata": {},
     "output_type": "execute_result"
    }
   ],
   "source": [
    "data.head()"
   ]
  },
  {
   "cell_type": "markdown",
   "metadata": {
    "id": "1qv1mKAeW-Bl"
   },
   "source": [
    "# Замапим категории в индексы"
   ]
  },
  {
   "cell_type": "code",
   "execution_count": 148,
   "metadata": {
    "execution": {
     "iopub.execute_input": "2021-12-18T14:43:05.802413Z",
     "iopub.status.busy": "2021-12-18T14:43:05.802169Z",
     "iopub.status.idle": "2021-12-18T14:43:05.826882Z",
     "shell.execute_reply": "2021-12-18T14:43:05.826198Z",
     "shell.execute_reply.started": "2021-12-18T14:43:05.802381Z"
    },
    "id": "iHeFzZe1W-Bl"
   },
   "outputs": [],
   "source": [
    "cat_mapper = {cat: n for n, cat in enumerate(data.category.unique())}"
   ]
  },
  {
   "cell_type": "code",
   "execution_count": 149,
   "metadata": {
    "execution": {
     "iopub.execute_input": "2021-12-18T14:43:05.828427Z",
     "iopub.status.busy": "2021-12-18T14:43:05.828170Z",
     "iopub.status.idle": "2021-12-18T14:43:05.834207Z",
     "shell.execute_reply": "2021-12-18T14:43:05.833491Z",
     "shell.execute_reply.started": "2021-12-18T14:43:05.828394Z"
    },
    "id": "X3x9QhXYW-Bn",
    "outputId": "c9765fe3-e228-4737-feac-e1dde33cc6cf"
   },
   "outputs": [
    {
     "data": {
      "text/plain": [
       "{'business': 0, 'law': 1, 'love': 2, 'relax': 3, 'food': 4}"
      ]
     },
     "execution_count": 149,
     "metadata": {},
     "output_type": "execute_result"
    }
   ],
   "source": [
    "cat_mapper"
   ]
  },
  {
   "cell_type": "code",
   "execution_count": 150,
   "metadata": {
    "execution": {
     "iopub.execute_input": "2021-12-18T14:43:05.836336Z",
     "iopub.status.busy": "2021-12-18T14:43:05.835674Z",
     "iopub.status.idle": "2021-12-18T14:43:05.863553Z",
     "shell.execute_reply": "2021-12-18T14:43:05.862902Z",
     "shell.execute_reply.started": "2021-12-18T14:43:05.836300Z"
    },
    "id": "ef--8SWbW-Bo"
   },
   "outputs": [],
   "source": [
    "data.category = data.category.map(cat_mapper)"
   ]
  },
  {
   "cell_type": "markdown",
   "metadata": {
    "id": "vc48ALg_W-Bp"
   },
   "source": [
    "# Читалка данных"
   ]
  },
  {
   "cell_type": "markdown",
   "metadata": {
    "id": "WFIQEv6nvE4c"
   },
   "source": [
    "## Что происходит ниже\n",
    "1. Мы задаем x_data, y_data (таргеты), word2index (маппер из слова в индекс слова), sequence_length (максимальная длина последовательности, если больше, ограничить ею), pad_token (токен паддинга и задаем его индекс pad_index).\n",
    "1. Загружаем данные:\n",
    "    1. Проходимся по датасету\n",
    "    1. Предобрабатываем каждый текст в датасете\n",
    "    1. Индексируем его\n",
    "    1. Паддим до нужной длины\n",
    "1. Когда нам нужно достать пример из датасета мы берем индексированный ```x``` и соответствующий этому индексу ```y```, наш ```x``` также паддим (или ограничиваем длину) и переводим в ```torch.Tensor(x).long()```. Для ```y``` этого делать не потребуется, в dataloader'е таргеты преобразуются в тензор сами.\n"
   ]
  },
  {
   "cell_type": "code",
   "execution_count": 151,
   "metadata": {
    "execution": {
     "iopub.execute_input": "2021-12-18T14:43:05.865467Z",
     "iopub.status.busy": "2021-12-18T14:43:05.864798Z",
     "iopub.status.idle": "2021-12-18T14:43:05.877897Z",
     "shell.execute_reply": "2021-12-18T14:43:05.877188Z",
     "shell.execute_reply.started": "2021-12-18T14:43:05.865429Z"
    },
    "id": "ZkX8SC_sW-Bp"
   },
   "outputs": [],
   "source": [
    "class WordData(Dataset):\n",
    "    \n",
    "    def __init__(self, x_data, y_data, word2index, sequence_length=32, pad_token='PAD', verbose=True):\n",
    "        \n",
    "        super().__init__()\n",
    "        \n",
    "        self.x_data = []\n",
    "        self.y_data = y_data\n",
    "        \n",
    "        self.word2index = word2index\n",
    "        self.sequence_length = sequence_length\n",
    "        \n",
    "        self.pad_token = pad_token\n",
    "        self.pad_index = self.word2index[self.pad_token]\n",
    "        \n",
    "        self.load(x_data, verbose=verbose)\n",
    "        \n",
    "    @staticmethod\n",
    "    def process_text(text):\n",
    "        \n",
    "        # Место для вашей предобработки\n",
    "        \n",
    "        words = wordpunct_tokenize(text.lower())\n",
    "        #words = re.findall('[a-яА-ЯеЁ]+', text.lower())\n",
    "        return words\n",
    "        \n",
    "    def load(self, data, verbose=True):\n",
    "        \n",
    "        data_iterator = tqdm(data, desc='Loading data', disable=not verbose)\n",
    "        \n",
    "        for text in data_iterator:\n",
    "            \n",
    "            words = self.process_text(text)\n",
    "            \n",
    "            indexed_words = self.indexing(words)\n",
    "            \n",
    "            self.x_data.append(indexed_words)\n",
    "    \n",
    "    def indexing(self, tokenized_text):\n",
    "\n",
    "        # здесь мы не используем токен UNK, потому что мы его специально не учили\n",
    "        # становится непонятно какой же эмбеддинг присвоить неизвестному слову,\n",
    "        # поэтому просто выбрасываем наши неизветсные слова\n",
    "        \n",
    "        return [self.word2index[word] for word in tokenized_text if word in self.word2index]\n",
    "    \n",
    "    def padding(self, sequence):\n",
    "        \n",
    "        # Ограничить длину self.sequence_length\n",
    "        # если длина меньше максимально - западить\n",
    "        if len(sequence)< self.sequence_length:\n",
    "          add_pad = self.sequence_length - len(sequence)\n",
    "          return sequence+[self.pad_index]*add_pad\n",
    "        else:\n",
    "          return sequence[:self.sequence_length]\n",
    "    \n",
    "    def __len__(self):\n",
    "        \n",
    "        return len(self.x_data)\n",
    "    \n",
    "    def __getitem__(self, idx):\n",
    "        \n",
    "        x = self.x_data[idx]\n",
    "        x = self.padding(x)\n",
    "        x = torch.Tensor(x).long()\n",
    "        \n",
    "        y = self.y_data[idx]\n",
    "        \n",
    "        return x, y"
   ]
  },
  {
   "cell_type": "code",
   "execution_count": 152,
   "metadata": {
    "execution": {
     "iopub.execute_input": "2021-12-18T14:43:05.880072Z",
     "iopub.status.busy": "2021-12-18T14:43:05.879612Z",
     "iopub.status.idle": "2021-12-18T14:43:05.889045Z",
     "shell.execute_reply": "2021-12-18T14:43:05.888333Z",
     "shell.execute_reply.started": "2021-12-18T14:43:05.880036Z"
    },
    "id": "R3WW8V9lyLm0"
   },
   "outputs": [],
   "source": [
    "from sklearn.model_selection import train_test_split\n",
    "from sklearn.metrics import f1_score"
   ]
  },
  {
   "cell_type": "code",
   "execution_count": 153,
   "metadata": {
    "execution": {
     "iopub.execute_input": "2021-12-18T14:43:05.890852Z",
     "iopub.status.busy": "2021-12-18T14:43:05.890363Z",
     "iopub.status.idle": "2021-12-18T14:43:09.515740Z",
     "shell.execute_reply": "2021-12-18T14:43:09.514941Z",
     "shell.execute_reply.started": "2021-12-18T14:43:05.890814Z"
    },
    "id": "Lnc2nD8gW-Br",
    "outputId": "8703206c-3b8e-4c30-a4c0-2ea494554d4a"
   },
   "outputs": [
    {
     "name": "stderr",
     "output_type": "stream",
     "text": [
      "Loading data: 100%|██████████| 214001/214001 [00:03<00:00, 67151.28it/s]\n",
      "Loading data: 100%|██████████| 23778/23778 [00:00<00:00, 81171.69it/s]\n"
     ]
    }
   ],
   "source": [
    "x_train, x_validation, y_train, y_validation = train_test_split(data.text, data.category, test_size=0.1)\n",
    "\n",
    "train_dataset = WordData(list(x_train), list(y_train), word2index)\n",
    "train_loader = DataLoader(train_dataset, batch_size=64)\n",
    "\n",
    "validation_dataset = WordData(list(x_validation), list(y_validation), word2index)\n",
    "validation_loader = DataLoader(validation_dataset, batch_size=64)"
   ]
  },
  {
   "cell_type": "code",
   "execution_count": 154,
   "metadata": {
    "execution": {
     "iopub.execute_input": "2021-12-18T14:43:09.517382Z",
     "iopub.status.busy": "2021-12-18T14:43:09.517063Z",
     "iopub.status.idle": "2021-12-18T14:43:09.528982Z",
     "shell.execute_reply": "2021-12-18T14:43:09.528321Z",
     "shell.execute_reply.started": "2021-12-18T14:43:09.517345Z"
    },
    "id": "dGeftxdgW-Br"
   },
   "outputs": [],
   "source": [
    "for x, y in train_loader:\n",
    "    break"
   ]
  },
  {
   "cell_type": "code",
   "execution_count": 155,
   "metadata": {
    "execution": {
     "iopub.execute_input": "2021-12-18T14:43:09.530440Z",
     "iopub.status.busy": "2021-12-18T14:43:09.530192Z",
     "iopub.status.idle": "2021-12-18T14:43:09.538783Z",
     "shell.execute_reply": "2021-12-18T14:43:09.536400Z",
     "shell.execute_reply.started": "2021-12-18T14:43:09.530407Z"
    },
    "id": "nNkGQffBW-Bs",
    "outputId": "2b3fe1d0-c175-460d-b24e-9b981df83944"
   },
   "outputs": [
    {
     "data": {
      "text/plain": [
       "tensor([[  129,   155,   423,  ...,     0,     0,     0],\n",
       "        [   24,    66,  5423,  ...,     0,     0,     0],\n",
       "        [27775,     1,   779,  ...,     0,     0,     0],\n",
       "        ...,\n",
       "        [  593,  3464,  1355,  ...,     0,     0,     0],\n",
       "        [   19,    65,   245,  ...,     0,     0,     0],\n",
       "        [ 3989,   779,     1,  ...,     0,     0,     0]])"
      ]
     },
     "execution_count": 155,
     "metadata": {},
     "output_type": "execute_result"
    }
   ],
   "source": [
    "x"
   ]
  },
  {
   "cell_type": "code",
   "execution_count": 156,
   "metadata": {
    "execution": {
     "iopub.execute_input": "2021-12-18T14:43:09.540663Z",
     "iopub.status.busy": "2021-12-18T14:43:09.539820Z",
     "iopub.status.idle": "2021-12-18T14:43:09.546728Z",
     "shell.execute_reply": "2021-12-18T14:43:09.545927Z",
     "shell.execute_reply.started": "2021-12-18T14:43:09.540627Z"
    },
    "id": "fxUk4nGcW-Bt",
    "outputId": "5753b46b-db3c-4232-811e-c5c9b00d83cc"
   },
   "outputs": [
    {
     "data": {
      "text/plain": [
       "tensor([2, 2, 3, 1, 2, 1, 3, 0, 0, 4, 2, 4, 1, 1, 1, 4, 0, 0, 4, 2, 4, 1, 1, 1,\n",
       "        2, 1, 4, 1, 1, 0, 1, 2, 0, 1, 3, 3, 1, 3, 3, 4, 1, 0, 2, 3, 4, 4, 4, 2,\n",
       "        1, 3, 1, 1, 3, 1, 4, 1, 4, 0, 1, 4, 0, 0, 1, 0])"
      ]
     },
     "execution_count": 156,
     "metadata": {},
     "output_type": "execute_result"
    }
   ],
   "source": [
    "y"
   ]
  },
  {
   "cell_type": "markdown",
   "metadata": {
    "id": "Zy0dkkTIW-Bw"
   },
   "source": [
    "# Обучить нейронку"
   ]
  },
  {
   "cell_type": "code",
   "execution_count": 157,
   "metadata": {
    "execution": {
     "iopub.execute_input": "2021-12-18T14:43:09.548737Z",
     "iopub.status.busy": "2021-12-18T14:43:09.548144Z",
     "iopub.status.idle": "2021-12-18T14:43:09.569408Z",
     "shell.execute_reply": "2021-12-18T14:43:09.568658Z",
     "shell.execute_reply.started": "2021-12-18T14:43:09.548700Z"
    },
    "id": "3wwkxZm1vE43"
   },
   "outputs": [],
   "source": [
    "from math import sqrt\n",
    "\n",
    "class model_with_att(torch.nn.Module):\n",
    "  def __init__(self, matrix_w, n, lstm_hidden_size, att_out_size, conv_out_size, linear_out_size, use_dropout=False):\n",
    "        \n",
    "        super().__init__()\n",
    "\n",
    "        self.n = n\n",
    "        self.emb_size = matrix_w.shape[1]\n",
    "        self.emb_layer = torch.nn.Embedding.from_pretrained(torch.Tensor(matrix_w))\n",
    "        self.use_dropout = use_dropout\n",
    "        self.dropout = torch.nn.Dropout(p=0.4)\n",
    "\n",
    "        self.LSTM = torch.nn.LSTM(input_size=self.emb_size, hidden_size=lstm_hidden_size, num_layers=2, dropout=0.1, bidirectional=True)\n",
    "        # задайте лстм, можно 2 уровня, лучше бидирекциональный, в доке торча есть инофрмация как это сделать в одну строчку\n",
    "        \n",
    "        self.q_proj = torch.nn.Linear(in_features=2*lstm_hidden_size, out_features=att_out_size, bias=True)\n",
    "        self.k_proj = torch.nn.Linear(in_features=2*lstm_hidden_size, out_features=att_out_size, bias=True)\n",
    "        self.v_proj = torch.nn.Linear(in_features=2*lstm_hidden_size, out_features=att_out_size, bias=True)\n",
    "\n",
    "        self.att_soft = torch.nn.Softmax(dim = 2)\n",
    "        # три конволюционных фильтра с разными ядрами (3,4,5) чтобы были всякие нграммы ловить\n",
    "        self.cnn_3gr = torch.nn.Conv1d(in_channels=att_out_size, out_channels=conv_out_size, kernel_size=3, stride=1)\n",
    "        self.cnn_4gr = torch.nn.Conv1d(in_channels=att_out_size, out_channels=conv_out_size, kernel_size=4, stride=1)\n",
    "        self.cnn_5gr = torch.nn.Conv1d(in_channels=att_out_size, out_channels=conv_out_size, kernel_size=5, stride=1)          \n",
    "\n",
    "        self.linear_1 = torch.nn.Linear(in_features=3*conv_out_size, out_features=linear_out_size, bias=True)\n",
    "\n",
    "        # сверху накидываем два полносвязных слоя для классификации\n",
    "        self.relu = torch.nn.ReLU()\n",
    "        self.linear_2 = torch.nn.Linear(in_features=linear_out_size, out_features=n) \n",
    "\n",
    "        \n",
    "  def forward(self, x):\n",
    "      x_emb = self.emb_layer(x)\n",
    "      # транспонируйте тензор для лстм как было описано выше\n",
    "      x_emb = x_emb.transpose(0,1)\n",
    "      x, _ = self.LSTM(x_emb) # применим лстм, не забываем что на выходе у него много всяких последовательностей, нам нужна только эта\n",
    "      # транспонируйте обратно\n",
    "      x = x.transpose(0,1)\n",
    "\n",
    "      x_q = self.q_proj(x) #применим линейные преобразования для селф-эттеншена\n",
    "      x_k = self.k_proj(x)\n",
    "      x_v = self.v_proj(x)\n",
    "\n",
    "      att_scores = torch.bmm(x_k.transpose(2,1), x_q) / (self.emb_size)**0.5\n",
    "      # посмотрите в презентацию и перемножьте нужные тензора изспольуя функцию bmm из торча, перед этим одну из матриц обзательно транспонируйте\n",
    "      # результат обязательно поделите на корень из последней размерности (то есть на рземер эмбеддинга из предыдущего слоя)\n",
    "      att_dist = self.att_soft(att_scores) # накидываем софтмакс\n",
    "      attention_vectors = torch.bmm(att_dist, x_v.transpose(2,1))\n",
    "\n",
    "      # x_att = attention_vectors.transpose(2,1) #транспонируем для конфолючионнах фильтров\n",
    "      x_att = attention_vectors\n",
    "\n",
    "      x_cnn3 = self.cnn_3gr(x_att)\n",
    "      x_cnn4 = self.cnn_4gr(x_att)\n",
    "      x_cnn5 = self.cnn_5gr(x_att)\n",
    "\n",
    "      if self.use_dropout:\n",
    "        x_cnn3 = self.dropout(x_cnn3)\n",
    "        x_cnn4 = self.dropout(x_cnn4)\n",
    "        x_cnn5 = self.dropout(x_cnn5)\n",
    "\n",
    "      frst, _ =  x_cnn3.max(dim= -1,) # cделаем макс пуллинг\n",
    "      sc, _ = x_cnn4.max(dim= -1,)\n",
    "      thr, _ = x_cnn5.max(dim= -1,)\n",
    "      \n",
    "      x_cat = torch.cat((frst, sc, thr), dim=-1) # а теперь объединим результаты\n",
    "      \n",
    "      x = self.linear_1(x_cat)\n",
    "      x = self.relu(x)    \n",
    "      x = self.linear_2(x)\n",
    "    \n",
    "      return x"
   ]
  },
  {
   "cell_type": "code",
   "execution_count": 158,
   "metadata": {
    "execution": {
     "iopub.execute_input": "2021-12-18T14:43:09.572681Z",
     "iopub.status.busy": "2021-12-18T14:43:09.571726Z",
     "iopub.status.idle": "2021-12-18T14:43:09.584097Z",
     "shell.execute_reply": "2021-12-18T14:43:09.583360Z",
     "shell.execute_reply.started": "2021-12-18T14:43:09.572490Z"
    },
    "id": "jFbyUXLE0WPv"
   },
   "outputs": [],
   "source": [
    "n_classes = data.category.unique().shape[0]"
   ]
  },
  {
   "cell_type": "code",
   "execution_count": 159,
   "metadata": {
    "execution": {
     "iopub.execute_input": "2021-12-18T14:43:09.587425Z",
     "iopub.status.busy": "2021-12-18T14:43:09.585433Z",
     "iopub.status.idle": "2021-12-18T14:43:09.720519Z",
     "shell.execute_reply": "2021-12-18T14:43:09.719819Z",
     "shell.execute_reply.started": "2021-12-18T14:43:09.587396Z"
    },
    "id": "HESRY6tzL1bg"
   },
   "outputs": [],
   "source": [
    "model_base = model_with_att(vectors, n_classes, lstm_hidden_size=256, att_out_size=256, conv_out_size=128, linear_out_size=256, use_dropout=False)"
   ]
  },
  {
   "cell_type": "code",
   "execution_count": 160,
   "metadata": {
    "execution": {
     "iopub.execute_input": "2021-12-18T14:43:09.723256Z",
     "iopub.status.busy": "2021-12-18T14:43:09.721616Z",
     "iopub.status.idle": "2021-12-18T14:43:09.729343Z",
     "shell.execute_reply": "2021-12-18T14:43:09.728480Z",
     "shell.execute_reply.started": "2021-12-18T14:43:09.723217Z"
    },
    "id": "jVlR4dSzNHq0",
    "outputId": "78746c65-02f0-4763-f014-2c9ccf1d9222"
   },
   "outputs": [
    {
     "data": {
      "text/plain": [
       "model_with_att(\n",
       "  (emb_layer): Embedding(117619, 300)\n",
       "  (dropout): Dropout(p=0.4, inplace=False)\n",
       "  (LSTM): LSTM(300, 256, num_layers=2, dropout=0.1, bidirectional=True)\n",
       "  (q_proj): Linear(in_features=512, out_features=256, bias=True)\n",
       "  (k_proj): Linear(in_features=512, out_features=256, bias=True)\n",
       "  (v_proj): Linear(in_features=512, out_features=256, bias=True)\n",
       "  (att_soft): Softmax(dim=2)\n",
       "  (cnn_3gr): Conv1d(256, 128, kernel_size=(3,), stride=(1,))\n",
       "  (cnn_4gr): Conv1d(256, 128, kernel_size=(4,), stride=(1,))\n",
       "  (cnn_5gr): Conv1d(256, 128, kernel_size=(5,), stride=(1,))\n",
       "  (linear_1): Linear(in_features=384, out_features=256, bias=True)\n",
       "  (relu): ReLU()\n",
       "  (linear_2): Linear(in_features=256, out_features=5, bias=True)\n",
       ")"
      ]
     },
     "execution_count": 160,
     "metadata": {},
     "output_type": "execute_result"
    }
   ],
   "source": [
    "model_base"
   ]
  },
  {
   "cell_type": "code",
   "execution_count": 161,
   "metadata": {
    "execution": {
     "iopub.execute_input": "2021-12-18T14:43:09.731023Z",
     "iopub.status.busy": "2021-12-18T14:43:09.730558Z",
     "iopub.status.idle": "2021-12-18T14:43:09.931260Z",
     "shell.execute_reply": "2021-12-18T14:43:09.930515Z",
     "shell.execute_reply.started": "2021-12-18T14:43:09.730990Z"
    },
    "id": "E66MWNgM0QKM"
   },
   "outputs": [],
   "source": [
    "with torch.no_grad():\n",
    "    pred = model_base(x)"
   ]
  },
  {
   "cell_type": "code",
   "execution_count": 162,
   "metadata": {
    "execution": {
     "iopub.execute_input": "2021-12-18T14:43:09.932869Z",
     "iopub.status.busy": "2021-12-18T14:43:09.932610Z",
     "iopub.status.idle": "2021-12-18T14:43:09.938391Z",
     "shell.execute_reply": "2021-12-18T14:43:09.937617Z",
     "shell.execute_reply.started": "2021-12-18T14:43:09.932837Z"
    },
    "id": "ErboeQbv0dnC",
    "outputId": "e3faa895-34d6-43fa-dcb7-b112859091ab"
   },
   "outputs": [
    {
     "data": {
      "text/plain": [
       "torch.Size([64, 5])"
      ]
     },
     "execution_count": 162,
     "metadata": {},
     "output_type": "execute_result"
    }
   ],
   "source": [
    "pred.shape"
   ]
  },
  {
   "cell_type": "code",
   "execution_count": 163,
   "metadata": {
    "execution": {
     "iopub.execute_input": "2021-12-18T14:43:09.940524Z",
     "iopub.status.busy": "2021-12-18T14:43:09.939987Z",
     "iopub.status.idle": "2021-12-18T14:43:09.946105Z",
     "shell.execute_reply": "2021-12-18T14:43:09.945326Z",
     "shell.execute_reply.started": "2021-12-18T14:43:09.940482Z"
    },
    "id": "bL6zIZSt0h9W"
   },
   "outputs": [],
   "source": [
    "device = torch.device('cuda') if torch.cuda.is_available() else torch.device('cpu')"
   ]
  },
  {
   "cell_type": "markdown",
   "metadata": {
    "id": "Olt9B6vdMhDV"
   },
   "source": [
    "Baseline"
   ]
  },
  {
   "cell_type": "code",
   "execution_count": 164,
   "metadata": {
    "execution": {
     "iopub.execute_input": "2021-12-18T14:43:09.948077Z",
     "iopub.status.busy": "2021-12-18T14:43:09.947524Z",
     "iopub.status.idle": "2021-12-18T14:43:09.998571Z",
     "shell.execute_reply": "2021-12-18T14:43:09.997932Z",
     "shell.execute_reply.started": "2021-12-18T14:43:09.948039Z"
    },
    "id": "Vsxw4M2m0m2B"
   },
   "outputs": [],
   "source": [
    "criterion = torch.nn.CrossEntropyLoss()\n",
    "optimizer = torch.optim.Adam(params=model_base.parameters())\n",
    "\n",
    "model = model_base.to(device)\n",
    "criterion = criterion.to(device)"
   ]
  },
  {
   "cell_type": "code",
   "execution_count": 165,
   "metadata": {
    "execution": {
     "iopub.execute_input": "2021-12-18T14:43:10.000137Z",
     "iopub.status.busy": "2021-12-18T14:43:09.999869Z",
     "iopub.status.idle": "2021-12-18T14:50:04.058328Z",
     "shell.execute_reply": "2021-12-18T14:50:04.056610Z",
     "shell.execute_reply.started": "2021-12-18T14:43:10.000103Z"
    },
    "id": "7rUTc0l60pV9",
    "outputId": "e9acbb05-f069-4a06-dde3-dce9781df117"
   },
   "outputs": [
    {
     "name": "stderr",
     "output_type": "stream",
     "text": [
      "Epoch 1: 100%|██████████| 214001/214001 [01:23<00:00, 2551.06it/s, train_loss=0.513]\n"
     ]
    },
    {
     "name": "stdout",
     "output_type": "stream",
     "text": [
      "\n",
      "Losses: train - 0.638, test - 0.496\n",
      "F1 test - 0.825\n"
     ]
    },
    {
     "name": "stderr",
     "output_type": "stream",
     "text": [
      "Epoch 2: 100%|██████████| 214001/214001 [01:20<00:00, 2673.71it/s, train_loss=0.46] \n"
     ]
    },
    {
     "name": "stdout",
     "output_type": "stream",
     "text": [
      "\n",
      "Losses: train - 0.481, test - 0.462\n",
      "F1 test - 0.833\n"
     ]
    },
    {
     "name": "stderr",
     "output_type": "stream",
     "text": [
      "Epoch 3: 100%|██████████| 214001/214001 [01:19<00:00, 2695.53it/s, train_loss=0.43] \n"
     ]
    },
    {
     "name": "stdout",
     "output_type": "stream",
     "text": [
      "\n",
      "Losses: train - 0.446, test - 0.448\n",
      "F1 test - 0.839\n"
     ]
    },
    {
     "name": "stderr",
     "output_type": "stream",
     "text": [
      "Epoch 4: 100%|██████████| 214001/214001 [01:19<00:00, 2678.45it/s, train_loss=0.406]\n"
     ]
    },
    {
     "name": "stdout",
     "output_type": "stream",
     "text": [
      "\n",
      "Losses: train - 0.420, test - 0.441\n",
      "F1 test - 0.842\n"
     ]
    },
    {
     "name": "stderr",
     "output_type": "stream",
     "text": [
      "Epoch 5: 100%|██████████| 214001/214001 [01:19<00:00, 2683.31it/s, train_loss=0.384]\n"
     ]
    },
    {
     "name": "stdout",
     "output_type": "stream",
     "text": [
      "\n",
      "Losses: train - 0.397, test - 0.442\n",
      "F1 test - 0.843\n",
      "Early stopping\n"
     ]
    }
   ],
   "source": [
    "epochs = 10\n",
    "losses = []\n",
    "best_test_loss = 10.\n",
    "\n",
    "test_f1 = []\n",
    "\n",
    "for n_epoch in range(epochs):\n",
    "    \n",
    "    train_losses = []\n",
    "    test_losses = []\n",
    "    test_targets = []\n",
    "    test_pred_class = []\n",
    "    \n",
    "    progress_bar = tqdm(total=len(train_loader.dataset), desc='Epoch {}'.format(n_epoch + 1))\n",
    "    \n",
    "    model.train()\n",
    "    \n",
    "    for x, y in train_loader:\n",
    "\n",
    "        x = x.to(device)\n",
    "        y = y.to(device)\n",
    "        \n",
    "        optimizer.zero_grad()\n",
    "        \n",
    "        pred = model(x)\n",
    "        loss = criterion(pred, y)\n",
    "        \n",
    "        loss.backward()\n",
    "        \n",
    "        optimizer.step()\n",
    "        \n",
    "        train_losses.append(loss.item())\n",
    "        losses.append(loss.item())\n",
    "        \n",
    "        progress_bar.set_postfix(train_loss = np.mean(losses[-500:]))\n",
    "\n",
    "        progress_bar.update(x.shape[0])\n",
    "        \n",
    "    progress_bar.close()\n",
    "    \n",
    "    model.eval()\n",
    "    \n",
    "    for x, y in validation_loader:\n",
    "        \n",
    "        x = x.to(device)\n",
    "\n",
    "        with torch.no_grad():\n",
    "\n",
    "            pred = model(x)\n",
    "\n",
    "            pred = pred.cpu()\n",
    "\n",
    "            test_targets.append(y.numpy())\n",
    "            test_pred_class.append(np.argmax(pred, axis=1))\n",
    "\n",
    "            loss = criterion(pred, y)\n",
    "\n",
    "            test_losses.append(loss.item())\n",
    "        \n",
    "    mean_test_loss = np.mean(test_losses)\n",
    "\n",
    "    test_targets = np.concatenate(test_targets).squeeze()\n",
    "    test_pred_class = np.concatenate(test_pred_class).squeeze()\n",
    "\n",
    "    f1 = f1_score(test_targets, test_pred_class, average='micro')\n",
    "\n",
    "    test_f1.append(f1)\n",
    "    \n",
    "    print()\n",
    "    print('Losses: train - {:.3f}, test - {:.3f}'.format(np.mean(train_losses), mean_test_loss))\n",
    "\n",
    "    print('F1 test - {:.3f}'.format(f1))\n",
    "        \n",
    "    # Early stopping:\n",
    "    if mean_test_loss < best_test_loss:\n",
    "        best_test_loss = mean_test_loss\n",
    "    else:\n",
    "        print('Early stopping')\n",
    "        break"
   ]
  },
  {
   "cell_type": "markdown",
   "metadata": {
    "id": "A4Xw1UYuMp_W"
   },
   "source": [
    "Покрутим немного архитектуру модели внутри (на самом деле я изначально сделала с такими размерностями и все сразу получилось)"
   ]
  },
  {
   "cell_type": "code",
   "execution_count": 166,
   "metadata": {
    "execution": {
     "iopub.execute_input": "2021-12-18T14:50:04.060198Z",
     "iopub.status.busy": "2021-12-18T14:50:04.059903Z",
     "iopub.status.idle": "2021-12-18T14:50:04.064552Z",
     "shell.execute_reply": "2021-12-18T14:50:04.063702Z",
     "shell.execute_reply.started": "2021-12-18T14:50:04.060159Z"
    },
    "id": "I7BQnEP73t6h"
   },
   "outputs": [],
   "source": [
    "from tqdm.auto import tqdm"
   ]
  },
  {
   "cell_type": "code",
   "execution_count": 167,
   "metadata": {
    "execution": {
     "iopub.execute_input": "2021-12-18T14:50:04.066936Z",
     "iopub.status.busy": "2021-12-18T14:50:04.066334Z",
     "iopub.status.idle": "2021-12-18T14:50:04.260871Z",
     "shell.execute_reply": "2021-12-18T14:50:04.260150Z",
     "shell.execute_reply.started": "2021-12-18T14:50:04.066882Z"
    },
    "id": "OZgh4ONx0HvT"
   },
   "outputs": [],
   "source": [
    "model_new = model_with_att(vectors, n_classes, lstm_hidden_size=512, att_out_size=256, conv_out_size=64, linear_out_size=256, use_dropout=False)"
   ]
  },
  {
   "cell_type": "code",
   "execution_count": 168,
   "metadata": {
    "execution": {
     "iopub.execute_input": "2021-12-18T14:50:04.262562Z",
     "iopub.status.busy": "2021-12-18T14:50:04.262321Z",
     "iopub.status.idle": "2021-12-18T14:50:04.271225Z",
     "shell.execute_reply": "2021-12-18T14:50:04.270555Z",
     "shell.execute_reply.started": "2021-12-18T14:50:04.262527Z"
    },
    "id": "CNO6VSbJgQ36",
    "outputId": "aec2a51c-a971-44e3-a445-9b63f08105d6"
   },
   "outputs": [
    {
     "data": {
      "text/plain": [
       "model_with_att(\n",
       "  (emb_layer): Embedding(117619, 300)\n",
       "  (dropout): Dropout(p=0.4, inplace=False)\n",
       "  (LSTM): LSTM(300, 512, num_layers=2, dropout=0.1, bidirectional=True)\n",
       "  (q_proj): Linear(in_features=1024, out_features=256, bias=True)\n",
       "  (k_proj): Linear(in_features=1024, out_features=256, bias=True)\n",
       "  (v_proj): Linear(in_features=1024, out_features=256, bias=True)\n",
       "  (att_soft): Softmax(dim=2)\n",
       "  (cnn_3gr): Conv1d(256, 64, kernel_size=(3,), stride=(1,))\n",
       "  (cnn_4gr): Conv1d(256, 64, kernel_size=(4,), stride=(1,))\n",
       "  (cnn_5gr): Conv1d(256, 64, kernel_size=(5,), stride=(1,))\n",
       "  (linear_1): Linear(in_features=192, out_features=256, bias=True)\n",
       "  (relu): ReLU()\n",
       "  (linear_2): Linear(in_features=256, out_features=5, bias=True)\n",
       ")"
      ]
     },
     "execution_count": 168,
     "metadata": {},
     "output_type": "execute_result"
    }
   ],
   "source": [
    "model_new"
   ]
  },
  {
   "cell_type": "code",
   "execution_count": 169,
   "metadata": {
    "execution": {
     "iopub.execute_input": "2021-12-18T14:50:04.273330Z",
     "iopub.status.busy": "2021-12-18T14:50:04.272652Z",
     "iopub.status.idle": "2021-12-18T14:50:04.329286Z",
     "shell.execute_reply": "2021-12-18T14:50:04.328591Z",
     "shell.execute_reply.started": "2021-12-18T14:50:04.273292Z"
    },
    "id": "qkXE58GpMwo_"
   },
   "outputs": [],
   "source": [
    "criterion = torch.nn.CrossEntropyLoss()\n",
    "optimizer = torch.optim.Adam(params=model_new.parameters())\n",
    "\n",
    "model = model_new.to(device)\n",
    "criterion = criterion.to(device)"
   ]
  },
  {
   "cell_type": "code",
   "execution_count": 173,
   "metadata": {
    "execution": {
     "iopub.execute_input": "2021-12-18T15:30:31.162011Z",
     "iopub.status.busy": "2021-12-18T15:30:31.161736Z",
     "iopub.status.idle": "2021-12-18T15:35:06.341970Z",
     "shell.execute_reply": "2021-12-18T15:35:06.340336Z",
     "shell.execute_reply.started": "2021-12-18T15:30:31.161982Z"
    },
    "id": "7nKLhYWIM5EO",
    "outputId": "30660a33-a369-40e6-eda9-8b71288d068a"
   },
   "outputs": [
    {
     "data": {
      "application/vnd.jupyter.widget-view+json": {
       "model_id": "a7416e1755fa456eb2dd59d5e56ee68f",
       "version_major": 2,
       "version_minor": 0
      },
      "text/plain": [
       "Epoch 1:   0%|          | 0/214001 [00:00<?, ?it/s]"
      ]
     },
     "metadata": {},
     "output_type": "display_data"
    },
    {
     "name": "stdout",
     "output_type": "stream",
     "text": [
      "\n",
      "Losses: train - 0.181, test - 0.772\n",
      "F1 test - 0.823\n"
     ]
    },
    {
     "data": {
      "application/vnd.jupyter.widget-view+json": {
       "model_id": "933d6ac2606d4553a745b24d33ce2cfd",
       "version_major": 2,
       "version_minor": 0
      },
      "text/plain": [
       "Epoch 2:   0%|          | 0/214001 [00:00<?, ?it/s]"
      ]
     },
     "metadata": {},
     "output_type": "display_data"
    },
    {
     "name": "stdout",
     "output_type": "stream",
     "text": [
      "\n",
      "Losses: train - 0.159, test - 0.843\n",
      "F1 test - 0.820\n",
      "Early stopping\n"
     ]
    }
   ],
   "source": [
    "epochs = 10\n",
    "losses = []\n",
    "best_test_loss = 10.\n",
    "\n",
    "test_f1 = []\n",
    "\n",
    "for n_epoch in range(epochs):\n",
    "    \n",
    "    train_losses = []\n",
    "    test_losses = []\n",
    "    test_targets = []\n",
    "    test_pred_class = []\n",
    "    \n",
    "    progress_bar = tqdm(total=len(train_loader.dataset), desc='Epoch {}'.format(n_epoch + 1))\n",
    "    \n",
    "    model.train()\n",
    "    \n",
    "    for x, y in train_loader:\n",
    "\n",
    "        x = x.to(device)\n",
    "        y = y.to(device)\n",
    "        \n",
    "        optimizer.zero_grad()\n",
    "        \n",
    "        pred = model(x)\n",
    "        loss = criterion(pred, y)\n",
    "        \n",
    "        loss.backward()\n",
    "        \n",
    "        optimizer.step()\n",
    "        \n",
    "        train_losses.append(loss.item())\n",
    "        losses.append(loss.item())\n",
    "        \n",
    "        progress_bar.set_postfix(train_loss = np.mean(losses[-500:]))\n",
    "\n",
    "        progress_bar.update(x.shape[0])\n",
    "        \n",
    "    progress_bar.close()\n",
    "    \n",
    "    model.eval()\n",
    "    \n",
    "    for x, y in validation_loader:\n",
    "        \n",
    "        x = x.to(device)\n",
    "\n",
    "        with torch.no_grad():\n",
    "\n",
    "            pred = model(x)\n",
    "\n",
    "            pred = pred.cpu()\n",
    "\n",
    "            test_targets.append(y.numpy())\n",
    "            test_pred_class.append(np.argmax(pred, axis=1))\n",
    "\n",
    "            loss = criterion(pred, y)\n",
    "\n",
    "            test_losses.append(loss.item())\n",
    "        \n",
    "    mean_test_loss = np.mean(test_losses)\n",
    "\n",
    "    test_targets = np.concatenate(test_targets).squeeze()\n",
    "    test_pred_class = np.concatenate(test_pred_class).squeeze()\n",
    "\n",
    "    f1 = f1_score(test_targets, test_pred_class, average='micro')\n",
    "\n",
    "    test_f1.append(f1)\n",
    "    \n",
    "    print()\n",
    "    print('Losses: train - {:.3f}, test - {:.3f}'.format(np.mean(train_losses), mean_test_loss))\n",
    "\n",
    "    print('F1 test - {:.3f}'.format(f1))\n",
    "        \n",
    "#     Early stopping:\n",
    "    if mean_test_loss < best_test_loss:\n",
    "        best_test_loss = mean_test_loss\n",
    "    else:\n",
    "        print('Early stopping')\n",
    "        break"
   ]
  },
  {
   "cell_type": "markdown",
   "metadata": {
    "id": "1TMaPbh3oWwc"
   },
   "source": [
    "Если вы запускаете много раз колаб окна и ткдм начинает беситься, можно запустить окно ниже, ткдм обновится и все снова станет хорошо"
   ]
  },
  {
   "cell_type": "code",
   "execution_count": 171,
   "metadata": {
    "execution": {
     "iopub.execute_input": "2021-12-18T15:13:01.820961Z",
     "iopub.status.busy": "2021-12-18T15:13:01.820710Z",
     "iopub.status.idle": "2021-12-18T15:13:01.826295Z",
     "shell.execute_reply": "2021-12-18T15:13:01.825576Z",
     "shell.execute_reply.started": "2021-12-18T15:13:01.820929Z"
    },
    "id": "_aPjTQcR0vm2",
    "outputId": "03d584f8-2f8c-4e0b-ae8e-7112f6624275"
   },
   "outputs": [],
   "source": [
    "for instance in list(tqdm._instances): \n",
    "    tqdm._decr_instances(instance)"
   ]
  },
  {
   "cell_type": "markdown",
   "metadata": {
    "id": "u3nnnMs9ywVw"
   },
   "source": [
    "# Оценка\n",
    "1. Добрались сюда - очень хорошо - получилась такая же точность или около того - 7 баллов.\n",
    "2. Поставили эксперименты и повысили точность относительно своей и не ниже F1 test - 0.841 - 8 баллов.\n",
    "3. Запустили бертовую тетрадку и разобрались. Получился сравнимый результат - 10 баллов "
   ]
  },
  {
   "cell_type": "code",
   "execution_count": null,
   "metadata": {
    "id": "e5BgHdtW2sO3"
   },
   "outputs": [],
   "source": []
  }
 ],
 "metadata": {
  "kernelspec": {
   "display_name": "Python 3 (ipykernel)",
   "language": "python",
   "name": "python3"
  },
  "language_info": {
   "codemirror_mode": {
    "name": "ipython",
    "version": 3
   },
   "file_extension": ".py",
   "mimetype": "text/x-python",
   "name": "python",
   "nbconvert_exporter": "python",
   "pygments_lexer": "ipython3",
   "version": "3.7.3"
  }
 },
 "nbformat": 4,
 "nbformat_minor": 4
}
