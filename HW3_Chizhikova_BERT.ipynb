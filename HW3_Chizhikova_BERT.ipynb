{
 "cells": [
  {
   "cell_type": "markdown",
   "metadata": {
    "id": "EKOTlwcmxmej"
   },
   "source": [
    "# BERT Fine-Tuning Tutorial with PyTorch\n",
    "\n",
    "By Chris McCormick and Nick Ryan"
   ]
  },
  {
   "cell_type": "markdown",
   "metadata": {
    "id": "MPgpITmdwvX0"
   },
   "source": [
    "*Revised on 12/13/19 to use the new [transformers](https://github.com/huggingface/transformers) interface.*\n",
    "\n",
    "\n"
   ]
  },
  {
   "cell_type": "markdown",
   "metadata": {
    "id": "BJR6t_gCQe_x"
   },
   "source": [
    "In this tutorial I'll show you how to use BERT with the huggingface PyTorch library to quickly and efficiently fine-tune a model to get near state of the art performance in sentence classification. More broadly, I describe the practical application of transfer learning in NLP to create high performance models with minimal effort on a range of NLP tasks.\n",
    "\n",
    "This post is presented in two forms--as a blog post [here](http://mccormickml.com/2019/07/22/BERT-fine-tuning/) and as a Colab Notebook [here](https://colab.research.google.com/drive/1Y4o3jh3ZH70tl6mCd76vz_IxX23biCPP). \n",
    "\n",
    "The content is identical in both, but: \n",
    "* The blog post includes a comments section for discussion. \n",
    "* The Colab Notebook will allow you to run the code and inspect it as you read through.\n",
    "\n",
    "I've also published a video walkthrough of this post on my YouTube channel! [Part 1](https://youtu.be/x66kkDnbzi4) and [Part 2](https://youtu.be/Hnvb9b7a_Ps).\n",
    "\n"
   ]
  },
  {
   "cell_type": "markdown",
   "metadata": {
    "id": "ADkUGTqixRWo"
   },
   "source": [
    "# Introduction"
   ]
  },
  {
   "cell_type": "markdown",
   "metadata": {
    "id": "L9vxxTBsuL24"
   },
   "source": [
    "\n",
    "## History\n",
    "\n",
    "2018 was a breakthrough year in NLP. Transfer learning, particularly models like Allen AI's ELMO, OpenAI's Open-GPT, and Google's BERT allowed researchers to smash multiple benchmarks with minimal task-specific fine-tuning and provided the rest of the NLP community with pretrained models that could easily (with less data and less compute time) be fine-tuned and implemented to produce state of the art results. Unfortunately, for many starting out in NLP and even for some experienced practicioners, the theory and practical application of these powerful models is still not well understood.\n"
   ]
  },
  {
   "cell_type": "markdown",
   "metadata": {
    "id": "qCgvR9INuP5q"
   },
   "source": [
    "\n",
    "## What is BERT?\n",
    "\n",
    "BERT (Bidirectional Encoder Representations from Transformers), released in late 2018, is the model we will use in this tutorial to provide readers with a better understanding of and practical guidance for using transfer learning models in NLP. BERT is a method of pretraining language representations that was used to create models that NLP practicioners can then download and use for free. You can either use these models to extract high quality language features from your text data, or you can fine-tune these models on a specific task (classification, entity recognition, question answering, etc.) with your own data to produce state of the art predictions.\n",
    "\n",
    "This post will explain how you can modify and fine-tune BERT to create a powerful NLP model that quickly gives you state of the art results. \n"
   ]
  },
  {
   "cell_type": "markdown",
   "metadata": {
    "id": "DaVGdtOkuXUZ"
   },
   "source": [
    "\n",
    "## Advantages of Fine-Tuning\n"
   ]
  },
  {
   "cell_type": "markdown",
   "metadata": {
    "id": "5llwu8GBuqMb"
   },
   "source": [
    "\n",
    "In this tutorial, we will use BERT to train a text classifier. Specifically, we will take the pre-trained BERT model, add an untrained layer of neurons on the end, and train the new model for our classification task. Why do this rather than train a train a specific deep learning model (a CNN, BiLSTM, etc.) that is well suited for the specific NLP task you need? \n",
    "\n",
    "1. **Quicker Development**\n",
    "\n",
    "    * First, the pre-trained BERT model weights already encode a lot of information about our language. As a result, it takes much less time to train our fine-tuned model - it is as if we have already trained the bottom layers of our network extensively and only need to gently tune them while using their output as features for our classification task. In fact, the authors recommend only 2-4 epochs of training for fine-tuning BERT on a specific NLP task (compared to the hundreds of GPU hours needed to train the original BERT model or a LSTM from scratch!). \n",
    "\n",
    "2. **Less Data**\n",
    "\n",
    "    * In addition and perhaps just as important, because of the pre-trained weights this method allows us to fine-tune our task on a much smaller dataset than would be required in a model that is built from scratch. A major drawback of NLP models built from scratch is that we often need a prohibitively large dataset in order to train our network to reasonable accuracy, meaning a lot of time and energy had to be put into dataset creation. By fine-tuning BERT, we are now able to get away with training a model to good performance on a much smaller amount of training data.\n",
    "\n",
    "3. **Better Results**\n",
    "\n",
    "    * Finally, this simple fine-tuning procedure (typically adding one fully-connected layer on top of BERT and training for a few epochs) was shown to achieve state of the art results with minimal task-specific adjustments for a wide variety of tasks: classification, language inference, semantic similarity, question answering, etc. Rather than implementing custom and sometimes-obscure architetures shown to work well on a specific task, simply fine-tuning BERT is shown to be a better (or at least equal) alternative.\n"
   ]
  },
  {
   "cell_type": "markdown",
   "metadata": {
    "id": "RX_ZDhicpHkV"
   },
   "source": [
    "# 1. Setup"
   ]
  },
  {
   "cell_type": "markdown",
   "metadata": {
    "id": "nSU7yERLP_66"
   },
   "source": [
    "## 1.1. Using Colab GPU for Training\n"
   ]
  },
  {
   "cell_type": "markdown",
   "metadata": {
    "id": "GI0iOY8zvZzL"
   },
   "source": [
    "\n",
    "Google Colab offers free GPUs and TPUs! Since we'll be training a large neural network it's best to take advantage of this (in this case we'll attach a GPU), otherwise training will take a very long time.\n",
    "\n",
    "A GPU can be added by going to the menu and selecting:\n",
    "\n",
    "`Edit 🡒 Notebook Settings 🡒 Hardware accelerator 🡒 (GPU)`\n",
    "\n",
    "Then run the following cell to confirm that the GPU is detected."
   ]
  },
  {
   "cell_type": "markdown",
   "metadata": {
    "id": "cqG7FzRVFEIv"
   },
   "source": [
    "In order for torch to use the GPU, we need to identify and specify the GPU as the device. Later, in our training loop, we will load data onto the device. "
   ]
  },
  {
   "cell_type": "code",
   "execution_count": 1,
   "metadata": {
    "execution": {
     "iopub.execute_input": "2021-12-18T16:12:11.443364Z",
     "iopub.status.busy": "2021-12-18T16:12:11.442764Z",
     "iopub.status.idle": "2021-12-18T16:12:11.466944Z",
     "shell.execute_reply": "2021-12-18T16:12:11.466234Z",
     "shell.execute_reply.started": "2021-12-18T16:12:11.443268Z"
    },
    "executionInfo": {
     "elapsed": 230,
     "status": "ok",
     "timestamp": 1639779021841,
     "user": {
      "displayName": "Nastya Chizhikova",
      "photoUrl": "https://lh3.googleusercontent.com/a-/AOh14GjlPeMpPXRo-co4WmZs84TmYM17QvAc8Z42pM7t=s64",
      "userId": "14025025607393068995"
     },
     "user_tz": -180
    },
    "id": "DsmQcvYichSo"
   },
   "outputs": [],
   "source": [
    "import pandas as pd"
   ]
  },
  {
   "cell_type": "code",
   "execution_count": 2,
   "metadata": {
    "execution": {
     "iopub.execute_input": "2021-12-18T16:12:11.469192Z",
     "iopub.status.busy": "2021-12-18T16:12:11.468663Z",
     "iopub.status.idle": "2021-12-18T16:12:12.956526Z",
     "shell.execute_reply": "2021-12-18T16:12:12.955755Z",
     "shell.execute_reply.started": "2021-12-18T16:12:11.469142Z"
    },
    "executionInfo": {
     "elapsed": 7991,
     "status": "ok",
     "timestamp": 1639778983053,
     "user": {
      "displayName": "Nastya Chizhikova",
      "photoUrl": "https://lh3.googleusercontent.com/a-/AOh14GjlPeMpPXRo-co4WmZs84TmYM17QvAc8Z42pM7t=s64",
      "userId": "14025025607393068995"
     },
     "user_tz": -180
    },
    "id": "oYsV4H8fCpZ-",
    "outputId": "9c6da719-b233-44b7-9fc0-633d5a1c9103"
   },
   "outputs": [
    {
     "name": "stdout",
     "output_type": "stream",
     "text": [
      "There are 1 GPU(s) available.\n",
      "We will use the GPU: Tesla P100-PCIE-16GB\n"
     ]
    }
   ],
   "source": [
    "import torch\n",
    "\n",
    "# If there's a GPU available...\n",
    "if torch.cuda.is_available():    \n",
    "\n",
    "    # Tell PyTorch to use the GPU.    \n",
    "    device = torch.device(\"cuda\")\n",
    "\n",
    "    print('There are %d GPU(s) available.' % torch.cuda.device_count())\n",
    "\n",
    "    print('We will use the GPU:', torch.cuda.get_device_name(0))\n",
    "\n",
    "# If not...\n",
    "else:\n",
    "    print('No GPU available, using the CPU instead.')\n",
    "    device = torch.device(\"cpu\")"
   ]
  },
  {
   "cell_type": "markdown",
   "metadata": {
    "id": "2ElsnSNUridI"
   },
   "source": [
    "## 1.2. Installing the Hugging Face Library\n"
   ]
  },
  {
   "cell_type": "markdown",
   "metadata": {
    "id": "G_N2UDLevYWn"
   },
   "source": [
    "\n",
    "Next, let's install the [transformers](https://github.com/huggingface/transformers) package from Hugging Face which will give us a pytorch interface for working with BERT. (This library contains interfaces for other pretrained language models like OpenAI's GPT and GPT-2.) We've selected the pytorch interface because it strikes a nice balance between the high-level APIs (which are easy to use but don't provide insight into how things work) and tensorflow code (which contains lots of details but often sidetracks us into lessons about tensorflow, when the purpose here is BERT!).\n",
    "\n",
    "At the moment, the Hugging Face library seems to be the most widely accepted and powerful pytorch interface for working with BERT. In addition to supporting a variety of different pre-trained transformer models, the library also includes pre-built modifications of these models suited to your specific task. For example, in this tutorial we will use `BertForSequenceClassification`.\n",
    "\n",
    "The library also includes task-specific classes for token classification, question answering, next sentence prediciton, etc. Using these pre-built classes simplifies the process of modifying BERT for your purposes.\n"
   ]
  },
  {
   "cell_type": "code",
   "execution_count": 3,
   "metadata": {
    "execution": {
     "iopub.execute_input": "2021-12-18T16:12:12.958739Z",
     "iopub.status.busy": "2021-12-18T16:12:12.958311Z",
     "iopub.status.idle": "2021-12-18T16:12:21.692225Z",
     "shell.execute_reply": "2021-12-18T16:12:21.691357Z",
     "shell.execute_reply.started": "2021-12-18T16:12:12.958702Z"
    },
    "executionInfo": {
     "elapsed": 15912,
     "status": "ok",
     "timestamp": 1639779003186,
     "user": {
      "displayName": "Nastya Chizhikova",
      "photoUrl": "https://lh3.googleusercontent.com/a-/AOh14GjlPeMpPXRo-co4WmZs84TmYM17QvAc8Z42pM7t=s64",
      "userId": "14025025607393068995"
     },
     "user_tz": -180
    },
    "id": "0NmMdkZO8R6q",
    "outputId": "92baf029-0fb2-4e07-a1c0-b9c2d4008d18"
   },
   "outputs": [
    {
     "name": "stdout",
     "output_type": "stream",
     "text": [
      "\u001b[33mWARNING: Running pip as the 'root' user can result in broken permissions and conflicting behaviour with the system package manager. It is recommended to use a virtual environment instead: https://pip.pypa.io/warnings/venv\u001b[0m\n"
     ]
    }
   ],
   "source": [
    "!pip install --quiet transformers"
   ]
  },
  {
   "cell_type": "markdown",
   "metadata": {
    "id": "lxddqmruamSj"
   },
   "source": [
    "The code in this notebook is actually a simplified version of the [run_glue.py](https://github.com/huggingface/transformers/blob/master/examples/run_glue.py) example script from huggingface.\n",
    "\n",
    "`run_glue.py` is a helpful utility which allows you to pick which GLUE benchmark task you want to run on, and which pre-trained model you want to use (you can see the list of possible models [here](https://github.com/huggingface/transformers/blob/e6cff60b4cbc1158fbd6e4a1c3afda8dc224f566/examples/run_glue.py#L69)). It also supports using either the CPU, a single GPU, or multiple GPUs. It even supports using 16-bit precision if you want further speed up.\n",
    "\n",
    "Unfortunately, all of this configurability comes at the cost of *readability*. In this Notebook, we've simplified the code greatly and added plenty of comments to make it clear what's going on. "
   ]
  },
  {
   "cell_type": "markdown",
   "metadata": {
    "id": "guw6ZNtaswKc"
   },
   "source": [
    "# 2. Loading CoLA Dataset\n"
   ]
  },
  {
   "cell_type": "markdown",
   "metadata": {
    "id": "_9ZKxKc04Btk"
   },
   "source": [
    "We'll use [The Corpus of Linguistic Acceptability (CoLA)](https://nyu-mll.github.io/CoLA/) dataset for single sentence classification. It's a set of sentences labeled as grammatically correct or incorrect. It was first published in May of 2018, and is one of the tests included in the \"GLUE Benchmark\" on which models like BERT are competing.\n"
   ]
  },
  {
   "cell_type": "markdown",
   "metadata": {
    "id": "4JrUHXms16cn"
   },
   "source": [
    "## 2.1. Download & Extract"
   ]
  },
  {
   "cell_type": "markdown",
   "metadata": {
    "id": "3ZNVW6xd0T0X"
   },
   "source": [
    "We'll use the `wget` package to download the dataset to the Colab instance's file system. "
   ]
  },
  {
   "cell_type": "code",
   "execution_count": 4,
   "metadata": {
    "execution": {
     "iopub.execute_input": "2021-12-18T16:12:21.696361Z",
     "iopub.status.busy": "2021-12-18T16:12:21.696139Z",
     "iopub.status.idle": "2021-12-18T16:12:24.043732Z",
     "shell.execute_reply": "2021-12-18T16:12:24.042891Z",
     "shell.execute_reply.started": "2021-12-18T16:12:21.696333Z"
    },
    "executionInfo": {
     "elapsed": 973,
     "status": "ok",
     "timestamp": 1639779004153,
     "user": {
      "displayName": "Nastya Chizhikova",
      "photoUrl": "https://lh3.googleusercontent.com/a-/AOh14GjlPeMpPXRo-co4WmZs84TmYM17QvAc8Z42pM7t=s64",
      "userId": "14025025607393068995"
     },
     "user_tz": -180
    },
    "id": "-iyHlDIO7Fxq",
    "outputId": "0b13446f-67c4-49be-8f0d-1a6e27614c4b"
   },
   "outputs": [
    {
     "name": "stdout",
     "output_type": "stream",
     "text": [
      "--2021-12-18 16:12:22--  https://raw.githubusercontent.com/semensorokin/DLforNLP_course_material/master/Homework2/answers_subsample.csv\n",
      "Resolving raw.githubusercontent.com (raw.githubusercontent.com)... 185.199.108.133, 185.199.109.133, 185.199.110.133, ...\n",
      "Connecting to raw.githubusercontent.com (raw.githubusercontent.com)|185.199.108.133|:443... connected.\n",
      "HTTP request sent, awaiting response... 200 OK\n",
      "Length: 28717126 (27M) [text/plain]\n",
      "Saving to: ‘answers_subsample.csv’\n",
      "\n",
      "answers_subsample.c 100%[===================>]  27.39M  --.-KB/s    in 0.1s    \n",
      "\n",
      "2021-12-18 16:12:23 (231 MB/s) - ‘answers_subsample.csv’ saved [28717126/28717126]\n",
      "\n"
     ]
    }
   ],
   "source": [
    "!wget https://raw.githubusercontent.com/semensorokin/DLforNLP_course_material/master/Homework2/answers_subsample.csv"
   ]
  },
  {
   "cell_type": "code",
   "execution_count": 5,
   "metadata": {
    "execution": {
     "iopub.execute_input": "2021-12-18T16:12:24.046918Z",
     "iopub.status.busy": "2021-12-18T16:12:24.046447Z",
     "iopub.status.idle": "2021-12-18T16:12:24.656694Z",
     "shell.execute_reply": "2021-12-18T16:12:24.655933Z",
     "shell.execute_reply.started": "2021-12-18T16:12:24.046877Z"
    },
    "executionInfo": {
     "elapsed": 748,
     "status": "ok",
     "timestamp": 1639781457869,
     "user": {
      "displayName": "Nastya Chizhikova",
      "photoUrl": "https://lh3.googleusercontent.com/a-/AOh14GjlPeMpPXRo-co4WmZs84TmYM17QvAc8Z42pM7t=s64",
      "userId": "14025025607393068995"
     },
     "user_tz": -180
    },
    "id": "mxtB9aL77JJp"
   },
   "outputs": [],
   "source": [
    "data = pd.read_csv('answers_subsample.csv')"
   ]
  },
  {
   "cell_type": "code",
   "execution_count": 6,
   "metadata": {
    "execution": {
     "iopub.execute_input": "2021-12-18T16:12:24.658156Z",
     "iopub.status.busy": "2021-12-18T16:12:24.657825Z",
     "iopub.status.idle": "2021-12-18T16:12:24.666183Z",
     "shell.execute_reply": "2021-12-18T16:12:24.665435Z",
     "shell.execute_reply.started": "2021-12-18T16:12:24.658113Z"
    },
    "executionInfo": {
     "elapsed": 9,
     "status": "ok",
     "timestamp": 1639781457871,
     "user": {
      "displayName": "Nastya Chizhikova",
      "photoUrl": "https://lh3.googleusercontent.com/a-/AOh14GjlPeMpPXRo-co4WmZs84TmYM17QvAc8Z42pM7t=s64",
      "userId": "14025025607393068995"
     },
     "user_tz": -180
    },
    "id": "k4W13ABsdDFd",
    "outputId": "325d61ff-913b-4cf3-c696-55c6ff252113"
   },
   "outputs": [
    {
     "data": {
      "text/plain": [
       "(237779, 2)"
      ]
     },
     "execution_count": 6,
     "metadata": {},
     "output_type": "execute_result"
    }
   ],
   "source": [
    "data.shape"
   ]
  },
  {
   "cell_type": "code",
   "execution_count": 7,
   "metadata": {
    "execution": {
     "iopub.execute_input": "2021-12-18T16:12:24.668169Z",
     "iopub.status.busy": "2021-12-18T16:12:24.667431Z",
     "iopub.status.idle": "2021-12-18T16:12:24.685721Z",
     "shell.execute_reply": "2021-12-18T16:12:24.685050Z",
     "shell.execute_reply.started": "2021-12-18T16:12:24.668118Z"
    },
    "executionInfo": {
     "elapsed": 337,
     "status": "ok",
     "timestamp": 1639781479420,
     "user": {
      "displayName": "Nastya Chizhikova",
      "photoUrl": "https://lh3.googleusercontent.com/a-/AOh14GjlPeMpPXRo-co4WmZs84TmYM17QvAc8Z42pM7t=s64",
      "userId": "14025025607393068995"
     },
     "user_tz": -180
    },
    "id": "-r3wrkohl5US",
    "outputId": "582d481c-7615-492f-ed01-2832a1671756"
   },
   "outputs": [
    {
     "data": {
      "text/html": [
       "<div>\n",
       "<style scoped>\n",
       "    .dataframe tbody tr th:only-of-type {\n",
       "        vertical-align: middle;\n",
       "    }\n",
       "\n",
       "    .dataframe tbody tr th {\n",
       "        vertical-align: top;\n",
       "    }\n",
       "\n",
       "    .dataframe thead th {\n",
       "        text-align: right;\n",
       "    }\n",
       "</style>\n",
       "<table border=\"1\" class=\"dataframe\">\n",
       "  <thead>\n",
       "    <tr style=\"text-align: right;\">\n",
       "      <th></th>\n",
       "      <th>category</th>\n",
       "      <th>text</th>\n",
       "    </tr>\n",
       "  </thead>\n",
       "  <tbody>\n",
       "    <tr>\n",
       "      <th>0</th>\n",
       "      <td>business</td>\n",
       "      <td>Могут ли в россельхозбанке дать в залог норков...</td>\n",
       "    </tr>\n",
       "    <tr>\n",
       "      <th>1</th>\n",
       "      <td>law</td>\n",
       "      <td>Может ли срочник перевестись на контракт после...</td>\n",
       "    </tr>\n",
       "  </tbody>\n",
       "</table>\n",
       "</div>"
      ],
      "text/plain": [
       "   category                                               text\n",
       "0  business  Могут ли в россельхозбанке дать в залог норков...\n",
       "1       law  Может ли срочник перевестись на контракт после..."
      ]
     },
     "execution_count": 7,
     "metadata": {},
     "output_type": "execute_result"
    }
   ],
   "source": [
    "data.head(2)"
   ]
  },
  {
   "cell_type": "code",
   "execution_count": 8,
   "metadata": {
    "execution": {
     "iopub.execute_input": "2021-12-18T16:12:24.687430Z",
     "iopub.status.busy": "2021-12-18T16:12:24.687018Z",
     "iopub.status.idle": "2021-12-18T16:12:25.457961Z",
     "shell.execute_reply": "2021-12-18T16:12:25.457143Z",
     "shell.execute_reply.started": "2021-12-18T16:12:24.687395Z"
    },
    "executionInfo": {
     "elapsed": 225,
     "status": "ok",
     "timestamp": 1639781460525,
     "user": {
      "displayName": "Nastya Chizhikova",
      "photoUrl": "https://lh3.googleusercontent.com/a-/AOh14GjlPeMpPXRo-co4WmZs84TmYM17QvAc8Z42pM7t=s64",
      "userId": "14025025607393068995"
     },
     "user_tz": -180
    },
    "id": "Is--2CqdZo8N"
   },
   "outputs": [],
   "source": [
    "from sklearn.model_selection import train_test_split"
   ]
  },
  {
   "cell_type": "code",
   "execution_count": 9,
   "metadata": {
    "execution": {
     "iopub.execute_input": "2021-12-18T16:12:25.460708Z",
     "iopub.status.busy": "2021-12-18T16:12:25.460229Z",
     "iopub.status.idle": "2021-12-18T16:12:25.527618Z",
     "shell.execute_reply": "2021-12-18T16:12:25.526816Z",
     "shell.execute_reply.started": "2021-12-18T16:12:25.460654Z"
    },
    "executionInfo": {
     "elapsed": 3,
     "status": "ok",
     "timestamp": 1639781501066,
     "user": {
      "displayName": "Nastya Chizhikova",
      "photoUrl": "https://lh3.googleusercontent.com/a-/AOh14GjlPeMpPXRo-co4WmZs84TmYM17QvAc8Z42pM7t=s64",
      "userId": "14025025607393068995"
     },
     "user_tz": -180
    },
    "id": "m10A6TpRaoNH"
   },
   "outputs": [],
   "source": [
    "x_train, x_test, y_train, y_test = train_test_split(data.text, data.category, test_size=0.1)"
   ]
  },
  {
   "cell_type": "markdown",
   "metadata": {
    "id": "08pO03Ff1BjI"
   },
   "source": [
    "The dataset is hosted on GitHub in this repo: https://nyu-mll.github.io/CoLA/"
   ]
  },
  {
   "cell_type": "markdown",
   "metadata": {
    "id": "oQUy9Tat2EF_"
   },
   "source": [
    "## 2.2. Parse"
   ]
  },
  {
   "cell_type": "markdown",
   "metadata": {
    "id": "xeyVCXT31EZQ"
   },
   "source": [
    "We can see from the file names that both `tokenized` and `raw` versions of the data are available. \n",
    "\n",
    "We can't use the pre-tokenized version because, in order to apply the pre-trained BERT, we *must* use the tokenizer provided by the model. This is because (1) the model has a specific, fixed vocabulary and (2) the BERT tokenizer has a particular way of handling out-of-vocabulary words."
   ]
  },
  {
   "cell_type": "markdown",
   "metadata": {
    "id": "MYWzeGSY2xh3"
   },
   "source": [
    "We'll use pandas to parse the \"in-domain\" training set and look at a few of its properties and data points."
   ]
  },
  {
   "cell_type": "code",
   "execution_count": 10,
   "metadata": {
    "execution": {
     "iopub.execute_input": "2021-12-18T16:12:25.529662Z",
     "iopub.status.busy": "2021-12-18T16:12:25.529226Z",
     "iopub.status.idle": "2021-12-18T16:12:27.170682Z",
     "shell.execute_reply": "2021-12-18T16:12:27.169948Z",
     "shell.execute_reply.started": "2021-12-18T16:12:25.529619Z"
    },
    "executionInfo": {
     "elapsed": 1702,
     "status": "ok",
     "timestamp": 1639781734010,
     "user": {
      "displayName": "Nastya Chizhikova",
      "photoUrl": "https://lh3.googleusercontent.com/a-/AOh14GjlPeMpPXRo-co4WmZs84TmYM17QvAc8Z42pM7t=s64",
      "userId": "14025025607393068995"
     },
     "user_tz": -180
    },
    "id": "_UkeC7SG2krJ",
    "outputId": "9d9c4035-dfdc-4f31-b83e-73e0f4516125"
   },
   "outputs": [
    {
     "name": "stdout",
     "output_type": "stream",
     "text": [
      "New categories ratio:  business    20.0\n",
      "food        20.0\n",
      "law         20.0\n",
      "love        20.0\n",
      "relax       20.0\n",
      "Name: label, dtype: float64\n",
      "Number of training sentences: 50,000\n",
      "\n"
     ]
    },
    {
     "data": {
      "text/html": [
       "<div>\n",
       "<style scoped>\n",
       "    .dataframe tbody tr th:only-of-type {\n",
       "        vertical-align: middle;\n",
       "    }\n",
       "\n",
       "    .dataframe tbody tr th {\n",
       "        vertical-align: top;\n",
       "    }\n",
       "\n",
       "    .dataframe thead th {\n",
       "        text-align: right;\n",
       "    }\n",
       "</style>\n",
       "<table border=\"1\" class=\"dataframe\">\n",
       "  <thead>\n",
       "    <tr style=\"text-align: right;\">\n",
       "      <th></th>\n",
       "      <th>sentence</th>\n",
       "      <th>label</th>\n",
       "    </tr>\n",
       "  </thead>\n",
       "  <tbody>\n",
       "    <tr>\n",
       "      <th>8521</th>\n",
       "      <td>как перевести деньги на номер? если не подключ...</td>\n",
       "      <td>business</td>\n",
       "    </tr>\n",
       "    <tr>\n",
       "      <th>28205</th>\n",
       "      <td>До скольки можно гулять в 16 лет во Владимирск...</td>\n",
       "      <td>law</td>\n",
       "    </tr>\n",
       "    <tr>\n",
       "      <th>35540</th>\n",
       "      <td>С чего начать разговор с девушкой? Несколько э...</td>\n",
       "      <td>love</td>\n",
       "    </tr>\n",
       "    <tr>\n",
       "      <th>19479</th>\n",
       "      <td>Как вы варите вкусный куриный бульон?</td>\n",
       "      <td>food</td>\n",
       "    </tr>\n",
       "    <tr>\n",
       "      <th>40288</th>\n",
       "      <td>как-так получилось что самый слабый номер побе...</td>\n",
       "      <td>relax</td>\n",
       "    </tr>\n",
       "    <tr>\n",
       "      <th>13479</th>\n",
       "      <td>малиновое варенье какими свойствами обладает?</td>\n",
       "      <td>food</td>\n",
       "    </tr>\n",
       "    <tr>\n",
       "      <th>32571</th>\n",
       "      <td>Вчера во время секса со своей женщиной уснул п...</td>\n",
       "      <td>love</td>\n",
       "    </tr>\n",
       "    <tr>\n",
       "      <th>8419</th>\n",
       "      <td>Регистрация ИП</td>\n",
       "      <td>business</td>\n",
       "    </tr>\n",
       "    <tr>\n",
       "      <th>31823</th>\n",
       "      <td>Как девушки относятся к парням-изобретателям?</td>\n",
       "      <td>love</td>\n",
       "    </tr>\n",
       "    <tr>\n",
       "      <th>20248</th>\n",
       "      <td>Нужно ли писать заявление о вступлении в насле...</td>\n",
       "      <td>law</td>\n",
       "    </tr>\n",
       "  </tbody>\n",
       "</table>\n",
       "</div>"
      ],
      "text/plain": [
       "                                                sentence     label\n",
       "8521   как перевести деньги на номер? если не подключ...  business\n",
       "28205  До скольки можно гулять в 16 лет во Владимирск...       law\n",
       "35540  С чего начать разговор с девушкой? Несколько э...      love\n",
       "19479              Как вы варите вкусный куриный бульон?      food\n",
       "40288  как-так получилось что самый слабый номер побе...     relax\n",
       "13479      малиновое варенье какими свойствами обладает?      food\n",
       "32571  Вчера во время секса со своей женщиной уснул п...      love\n",
       "8419                                      Регистрация ИП  business\n",
       "31823      Как девушки относятся к парням-изобретателям?      love\n",
       "20248  Нужно ли писать заявление о вступлении в насле...       law"
      ]
     },
     "execution_count": 10,
     "metadata": {},
     "output_type": "execute_result"
    }
   ],
   "source": [
    "import pandas as pd\n",
    "from imblearn.under_sampling import RandomUnderSampler \n",
    "import numpy as np\n",
    "\n",
    "# Load the dataset into a pandas dataframe.\n",
    "df_train = pd.DataFrame({'sentence': x_train.squeeze(), 'label': y_train})\n",
    "df_test = pd.DataFrame({'sentence': x_test.squeeze(), 'label': y_test})\n",
    "\n",
    "undersample = RandomUnderSampler(sampling_strategy={'law':10000, 'business':10000, 'food':10000, 'relax':10000, 'love':10000})\n",
    "X_res, y_res = undersample.fit_resample(np.array(df_train.sentence).reshape(-1, 1), df_train.label)\n",
    "\n",
    "print('New categories ratio: ', y_res.value_counts() * 100 / len(y_res))\n",
    "df_train = pd.DataFrame({'sentence': X_res.squeeze(), 'label': y_res})\n",
    "\n",
    "# Report the number of sentences.\n",
    "print('Number of training sentences: {:,}\\n'.format(df_train.shape[0]))\n",
    "\n",
    "# Display 10 random rows from the data.\n",
    "df_train.sample(10)"
   ]
  },
  {
   "cell_type": "markdown",
   "metadata": {
    "id": "kfWzpPi92UAH"
   },
   "source": [
    "The two properties we actually care about are the the `sentence` and its `label`, which is referred to as the \"acceptibility judgment\" (0=unacceptable, 1=acceptable)."
   ]
  },
  {
   "cell_type": "markdown",
   "metadata": {
    "id": "H_LpQfzCn9_o"
   },
   "source": [
    "Here are five sentences which are labeled as not grammatically acceptible. Note how much more difficult this task is than something like sentiment analysis!"
   ]
  },
  {
   "cell_type": "markdown",
   "metadata": {
    "id": "4SMZ5T5Imhlx"
   },
   "source": [
    "\n",
    "\n",
    "Let's extract the sentences and labels of our training set as numpy ndarrays."
   ]
  },
  {
   "cell_type": "code",
   "execution_count": 11,
   "metadata": {
    "execution": {
     "iopub.execute_input": "2021-12-18T16:12:27.174150Z",
     "iopub.status.busy": "2021-12-18T16:12:27.173937Z",
     "iopub.status.idle": "2021-12-18T16:12:27.211993Z",
     "shell.execute_reply": "2021-12-18T16:12:27.211238Z",
     "shell.execute_reply.started": "2021-12-18T16:12:27.174125Z"
    },
    "executionInfo": {
     "elapsed": 224,
     "status": "ok",
     "timestamp": 1639781757056,
     "user": {
      "displayName": "Nastya Chizhikova",
      "photoUrl": "https://lh3.googleusercontent.com/a-/AOh14GjlPeMpPXRo-co4WmZs84TmYM17QvAc8Z42pM7t=s64",
      "userId": "14025025607393068995"
     },
     "user_tz": -180
    },
    "id": "GuE5BqICAne2"
   },
   "outputs": [],
   "source": [
    "# Get the lists of sentences and their labels.\n",
    "\n",
    "sentences = df_train.sentence.values\n",
    "labels = df_train.label.replace({'law':0, 'business':1, 'food':2, 'relax':3, 'love':4}).values"
   ]
  },
  {
   "cell_type": "markdown",
   "metadata": {
    "id": "ex5O1eV-Pfct"
   },
   "source": [
    "# 3. Tokenization & Input Formatting\n",
    "\n",
    "In this section, we'll transform our dataset into the format that BERT can be trained on."
   ]
  },
  {
   "cell_type": "markdown",
   "metadata": {
    "id": "-8kEDRvShcU5"
   },
   "source": [
    "## 3.1. BERT Tokenizer"
   ]
  },
  {
   "cell_type": "markdown",
   "metadata": {
    "id": "bWOPOyWghJp2"
   },
   "source": [
    "\n",
    "To feed our text to BERT, it must be split into tokens, and then these tokens must be mapped to their index in the tokenizer vocabulary.\n",
    "\n",
    "The tokenization must be performed by the tokenizer included with BERT--the below cell will download this for us. We'll be using the \"uncased\" version here.\n"
   ]
  },
  {
   "cell_type": "code",
   "execution_count": 12,
   "metadata": {
    "execution": {
     "iopub.execute_input": "2021-12-18T16:12:27.213610Z",
     "iopub.status.busy": "2021-12-18T16:12:27.213266Z",
     "iopub.status.idle": "2021-12-18T16:12:38.591650Z",
     "shell.execute_reply": "2021-12-18T16:12:38.590834Z",
     "shell.execute_reply.started": "2021-12-18T16:12:27.213572Z"
    },
    "executionInfo": {
     "elapsed": 1436,
     "status": "ok",
     "timestamp": 1639781761181,
     "user": {
      "displayName": "Nastya Chizhikova",
      "photoUrl": "https://lh3.googleusercontent.com/a-/AOh14GjlPeMpPXRo-co4WmZs84TmYM17QvAc8Z42pM7t=s64",
      "userId": "14025025607393068995"
     },
     "user_tz": -180
    },
    "id": "Z474sSC6oe7A",
    "outputId": "397d3fb0-58df-4b07-a175-55b8a2456118"
   },
   "outputs": [
    {
     "name": "stdout",
     "output_type": "stream",
     "text": [
      "Loading BERT tokenizer...\n"
     ]
    },
    {
     "data": {
      "application/vnd.jupyter.widget-view+json": {
       "model_id": "c79852ca8f664940932ac58bd7136f82",
       "version_major": 2,
       "version_minor": 0
      },
      "text/plain": [
       "Downloading:   0%|          | 0.00/851k [00:00<?, ?B/s]"
      ]
     },
     "metadata": {},
     "output_type": "display_data"
    },
    {
     "data": {
      "application/vnd.jupyter.widget-view+json": {
       "model_id": "90624ab7839847908b4af3adc67283b7",
       "version_major": 2,
       "version_minor": 0
      },
      "text/plain": [
       "Downloading:   0%|          | 0.00/28.0 [00:00<?, ?B/s]"
      ]
     },
     "metadata": {},
     "output_type": "display_data"
    },
    {
     "data": {
      "application/vnd.jupyter.widget-view+json": {
       "model_id": "58586e9f8fe243f3a1778ab2df38f01a",
       "version_major": 2,
       "version_minor": 0
      },
      "text/plain": [
       "Downloading:   0%|          | 0.00/1.64M [00:00<?, ?B/s]"
      ]
     },
     "metadata": {},
     "output_type": "display_data"
    },
    {
     "data": {
      "application/vnd.jupyter.widget-view+json": {
       "model_id": "76d34704db7f433b9eb5a145dd3d1e64",
       "version_major": 2,
       "version_minor": 0
      },
      "text/plain": [
       "Downloading:   0%|          | 0.00/625 [00:00<?, ?B/s]"
      ]
     },
     "metadata": {},
     "output_type": "display_data"
    }
   ],
   "source": [
    "from transformers import BertTokenizer\n",
    "\n",
    "# Load the BERT tokenizer.\n",
    "print('Loading BERT tokenizer...')\n",
    "tokenizer = BertTokenizer.from_pretrained('bert-base-multilingual-uncased', do_lower_case=True)"
   ]
  },
  {
   "cell_type": "markdown",
   "metadata": {
    "id": "dFzmtleW6KmJ"
   },
   "source": [
    "Let's apply the tokenizer to one sentence just to see the output.\n"
   ]
  },
  {
   "cell_type": "code",
   "execution_count": 13,
   "metadata": {
    "execution": {
     "iopub.execute_input": "2021-12-18T16:12:38.593160Z",
     "iopub.status.busy": "2021-12-18T16:12:38.592885Z",
     "iopub.status.idle": "2021-12-18T16:12:38.604413Z",
     "shell.execute_reply": "2021-12-18T16:12:38.603375Z",
     "shell.execute_reply.started": "2021-12-18T16:12:38.593127Z"
    },
    "executionInfo": {
     "elapsed": 5,
     "status": "ok",
     "timestamp": 1639781762520,
     "user": {
      "displayName": "Nastya Chizhikova",
      "photoUrl": "https://lh3.googleusercontent.com/a-/AOh14GjlPeMpPXRo-co4WmZs84TmYM17QvAc8Z42pM7t=s64",
      "userId": "14025025607393068995"
     },
     "user_tz": -180
    },
    "id": "dLIbudgfh6F0",
    "outputId": "eaa9107f-f70b-4fed-e4e5-400e58b5b994"
   },
   "outputs": [
    {
     "name": "stdout",
     "output_type": "stream",
     "text": [
      " Original:  Мы можем получать детские мы не работаем официально но мы на себя работаем\n",
      "Tokenized:  ['мы', 'може', '##м', 'полу', '##чать', 'де', '##тски', '##е', 'мы', 'не', 'работа', '##ем', 'официально', 'но', 'мы', 'на', 'себя', 'работа', '##ем']\n",
      "Token IDs:  [26623, 13280, 10260, 82102, 37312, 11494, 52972, 10226, 26623, 10396, 25872, 12690, 47929, 11299, 26623, 10124, 18291, 25872, 12690]\n"
     ]
    }
   ],
   "source": [
    "# Print the original sentence.\n",
    "print(' Original: ', sentences[0])\n",
    "\n",
    "# Print the sentence split into tokens.\n",
    "print('Tokenized: ', tokenizer.tokenize(sentences[0]))\n",
    "\n",
    "# Print the sentence mapped to token ids.\n",
    "print('Token IDs: ', tokenizer.convert_tokens_to_ids(tokenizer.tokenize(sentences[0])))"
   ]
  },
  {
   "cell_type": "markdown",
   "metadata": {
    "id": "WeNIc4auFUdF"
   },
   "source": [
    "When we actually convert all of our sentences, we'll use the `tokenize.encode` function to handle both steps, rather than calling `tokenize` and `convert_tokens_to_ids` separately. \n",
    "\n",
    "Before we can do that, though, we need to talk about some of BERT's formatting requirements."
   ]
  },
  {
   "cell_type": "markdown",
   "metadata": {
    "id": "6vog11nd8H_X"
   },
   "source": [
    "## 3.1.1 Required Formatting\n",
    "\n",
    "About BPE"
   ]
  },
  {
   "cell_type": "code",
   "execution_count": null,
   "metadata": {
    "id": "VE4wL21y8HVW"
   },
   "outputs": [],
   "source": []
  },
  {
   "cell_type": "markdown",
   "metadata": {
    "id": "viKGCCh8izww"
   },
   "source": [
    "## 3.2. Required Formatting"
   ]
  },
  {
   "cell_type": "markdown",
   "metadata": {
    "id": "yDcqNlvVhL5W"
   },
   "source": [
    "The above code left out a few required formatting steps that we'll look at here.\n",
    "\n",
    "*Side Note: The input format to BERT seems \"over-specified\" to me... We are required to give it a number of pieces of information which seem redundant, or like they could easily be inferred from the data without us explicity providing it. But it is what it is, and I suspect it will make more sense once I have a deeper understanding of the BERT internals.*\n",
    "\n",
    "We are required to:\n",
    "1. Add special tokens to the start and end of each sentence.\n",
    "2. Pad & truncate all sentences to a single constant length.\n",
    "3. Explicitly differentiate real tokens from padding tokens with the \"attention mask\".\n",
    "\n"
   ]
  },
  {
   "cell_type": "markdown",
   "metadata": {
    "id": "V6mceWWOjZnw"
   },
   "source": [
    "### Special Tokens\n"
   ]
  },
  {
   "cell_type": "markdown",
   "metadata": {
    "id": "Ykk0P9JiKtVe"
   },
   "source": [
    "\n",
    "**`[SEP]`**\n",
    "\n",
    "At the end of every sentence, we need to append the special `[SEP]` token. \n",
    "\n",
    "This token is an artifact of two-sentence tasks, where BERT is given two separate sentences and asked to determine something (e.g., can the answer to the question in sentence A be found in sentence B?). \n",
    "\n",
    "I am not certain yet why the token is still required when we have only single-sentence input, but it is!\n"
   ]
  },
  {
   "cell_type": "markdown",
   "metadata": {
    "id": "86C9objaKu8f"
   },
   "source": [
    "**`[CLS]`**\n",
    "\n",
    "For classification tasks, we must prepend the special `[CLS]` token to the beginning of every sentence.\n",
    "\n",
    "This token has special significance. BERT consists of 12 Transformer layers. Each transformer takes in a list of token embeddings, and produces the same number of embeddings on the output (but with the feature values changed, of course!).\n",
    "\n",
    "![Illustration of CLS token purpose](http://www.mccormickml.com/assets/BERT/CLS_token_500x606.png)\n",
    "\n",
    "On the output of the final (12th) transformer, *only the first embedding (corresponding to the [CLS] token) is used by the classifier*.\n",
    "\n",
    ">  \"The first token of every sequence is always a special classification token (`[CLS]`). The final hidden state\n",
    "corresponding to this token is used as the aggregate sequence representation for classification\n",
    "tasks.\" (from the [BERT paper](https://arxiv.org/pdf/1810.04805.pdf))\n",
    "\n",
    "I'm not sure why the authors took this strategy instead of some kind of pooling of all the final vectors, but I'm sure that if pooling were better they would have gone that route. \n",
    "\n",
    "Also, because BERT is trained to only use this [CLS] token for classification, we know that the model has been motivated to encode everything it needs for the classification step into that single 768-value embedding vector.\n",
    "\n"
   ]
  },
  {
   "cell_type": "markdown",
   "metadata": {
    "id": "u51v0kFxeteu"
   },
   "source": [
    "### Sentence Length & Attention Mask\n",
    "\n"
   ]
  },
  {
   "cell_type": "markdown",
   "metadata": {
    "id": "qPNuwqZVK3T6"
   },
   "source": [
    "The sentences in our dataset obviously have varying lengths, so how does BERT handle this?\n",
    "\n",
    "BERT has two constraints:\n",
    "1. All sentences must be padded or truncated to a single, fixed length.\n",
    "2. The maximum sentence length is 512 tokens.\n",
    "\n",
    "Padding is done with a special `[PAD]` token, which is at index 0 in the BERT vocabulary. The below illustration demonstrates padding out to a \"MAX_LEN\" of 8 tokens.\n",
    "\n",
    "<img src=\"http://www.mccormickml.com/assets/BERT/padding_and_mask.png\" width=\"600\">\n",
    "\n",
    "The \"Attention Mask\" is simply an array of 1s and 0s indicating which tokens are padding and which aren't (seems kind of redundant, doesn't it?! Again, I don't currently know why).\n",
    "\n",
    "I've experimented with running this notebook with two different values of MAX_LEN, and it impacted both the training speed and the  test set accuracy.\n",
    "\n",
    "With a Tesla K80 and:\n",
    "\n",
    "```\n",
    "MAX_LEN = 128  -->  Training epochs take ~5:28 each, score is 0.535\n",
    "MAX_LEN = 64   -->  Training epochs take ~2:57 each, score is 0.566\n",
    "```\n",
    "These results suggest to me that the padding tokens aren't simply skipped over--that they are in fact fed through the model and incorporated in the results (thereby impacting both model speed and accuracy). I'll have to dig into the architecture more to understand this.\n",
    "\n",
    "\n",
    "\n",
    "\n"
   ]
  },
  {
   "cell_type": "markdown",
   "metadata": {
    "id": "l6w8elb-58GJ"
   },
   "source": [
    "## 3.2. Sentences to IDs"
   ]
  },
  {
   "cell_type": "markdown",
   "metadata": {
    "id": "1M296yz577fV"
   },
   "source": [
    "The `tokenizer.encode` function combines multiple steps for us:\n",
    "1. Split the sentence into tokens.\n",
    "2. Add the special `[CLS]` and `[SEP]` tokens.\n",
    "3. Map the tokens to their IDs.\n",
    "\n",
    "Oddly, this function can perform truncating for us, but doesn't handle padding. "
   ]
  },
  {
   "cell_type": "code",
   "execution_count": 14,
   "metadata": {
    "execution": {
     "iopub.execute_input": "2021-12-18T16:12:38.606042Z",
     "iopub.status.busy": "2021-12-18T16:12:38.605726Z",
     "iopub.status.idle": "2021-12-18T16:13:09.107522Z",
     "shell.execute_reply": "2021-12-18T16:13:09.106775Z",
     "shell.execute_reply.started": "2021-12-18T16:12:38.606005Z"
    },
    "executionInfo": {
     "elapsed": 38763,
     "status": "ok",
     "timestamp": 1639781808079,
     "user": {
      "displayName": "Nastya Chizhikova",
      "photoUrl": "https://lh3.googleusercontent.com/a-/AOh14GjlPeMpPXRo-co4WmZs84TmYM17QvAc8Z42pM7t=s64",
      "userId": "14025025607393068995"
     },
     "user_tz": -180
    },
    "id": "2bBdb3pt8LuQ",
    "outputId": "57c99aed-ff1d-4c39-8ef8-a1ac7850d02b"
   },
   "outputs": [
    {
     "data": {
      "application/vnd.jupyter.widget-view+json": {
       "model_id": "f94aafdb82894b1fb8b4ecf635197492",
       "version_major": 2,
       "version_minor": 0
      },
      "text/plain": [
       "  0%|          | 0/50000 [00:00<?, ?it/s]"
      ]
     },
     "metadata": {},
     "output_type": "display_data"
    },
    {
     "name": "stdout",
     "output_type": "stream",
     "text": [
      "Original:  Мы можем получать детские мы не работаем официально но мы на себя работаем\n",
      "Token IDs: [101, 26623, 13280, 10260, 82102, 37312, 11494, 52972, 10226, 26623, 10396, 25872, 12690, 47929, 11299, 26623, 10124, 18291, 25872, 12690, 102]\n"
     ]
    }
   ],
   "source": [
    "from tqdm.auto import tqdm\n",
    "\n",
    "# Tokenize all of the sentences and map the tokens to thier word IDs.\n",
    "input_ids = []\n",
    "\n",
    "# For every sentence...\n",
    "for sent in tqdm(sentences):\n",
    "    # `encode` will:\n",
    "    #   (1) Tokenize the sentence.\n",
    "    #   (2) Prepend the `[CLS]` token to the start.\n",
    "    #   (3) Append the `[SEP]` token to the end.\n",
    "    #   (4) Map tokens to their IDs.\n",
    "    encoded_sent = tokenizer.encode(\n",
    "                        sent,                      # Sentence to encode.\n",
    "                        add_special_tokens = True, # Add '[CLS]' and '[SEP]'\n",
    "\n",
    "                        # This function also supports truncation and conversion\n",
    "                        # to pytorch tensors, but we need to do padding, so we\n",
    "                        # can't use these features :( .\n",
    "                        #max_length = 128,          # Truncate all sentences.\n",
    "                        #return_tensors = 'pt',     # Return pytorch tensors.\n",
    "                   )\n",
    "    \n",
    "    # Add the encoded sentence to the list.\n",
    "    input_ids.append(encoded_sent)\n",
    "\n",
    "# Print sentence 0, now as a list of IDs.\n",
    "print('Original: ', sentences[0])\n",
    "print('Token IDs:', input_ids[0])"
   ]
  },
  {
   "cell_type": "markdown",
   "metadata": {
    "id": "WhwCKszh6ych"
   },
   "source": [
    "## 3.3. Padding & Truncating"
   ]
  },
  {
   "cell_type": "markdown",
   "metadata": {
    "id": "xytsw1oIfnX0"
   },
   "source": [
    "Pad and truncate our sequences so that they all have the same length, `MAX_LEN`."
   ]
  },
  {
   "cell_type": "markdown",
   "metadata": {
    "id": "zqiWTDrn_nGB"
   },
   "source": [
    "First, what's the maximum sentence length in our dataset?"
   ]
  },
  {
   "cell_type": "code",
   "execution_count": 15,
   "metadata": {
    "execution": {
     "iopub.execute_input": "2021-12-18T16:13:09.109553Z",
     "iopub.status.busy": "2021-12-18T16:13:09.108787Z",
     "iopub.status.idle": "2021-12-18T16:13:09.125437Z",
     "shell.execute_reply": "2021-12-18T16:13:09.124561Z",
     "shell.execute_reply.started": "2021-12-18T16:13:09.109513Z"
    },
    "executionInfo": {
     "elapsed": 8,
     "status": "ok",
     "timestamp": 1639781808080,
     "user": {
      "displayName": "Nastya Chizhikova",
      "photoUrl": "https://lh3.googleusercontent.com/a-/AOh14GjlPeMpPXRo-co4WmZs84TmYM17QvAc8Z42pM7t=s64",
      "userId": "14025025607393068995"
     },
     "user_tz": -180
    },
    "id": "JhUZO9vc_l6T",
    "outputId": "4f0cd01e-b38c-4caa-d07c-841ac3edf40d"
   },
   "outputs": [
    {
     "name": "stdout",
     "output_type": "stream",
     "text": [
      "Max sentence length:  82\n"
     ]
    }
   ],
   "source": [
    "print('Max sentence length: ', max([len(sen) for sen in input_ids]))"
   ]
  },
  {
   "cell_type": "markdown",
   "metadata": {
    "id": "hp-54FcQ_p3h"
   },
   "source": [
    "Given that, let's choose MAX_LEN = 64 and apply the padding."
   ]
  },
  {
   "cell_type": "code",
   "execution_count": 16,
   "metadata": {
    "execution": {
     "iopub.execute_input": "2021-12-18T16:13:09.128271Z",
     "iopub.status.busy": "2021-12-18T16:13:09.127614Z",
     "iopub.status.idle": "2021-12-18T16:13:09.592511Z",
     "shell.execute_reply": "2021-12-18T16:13:09.591778Z",
     "shell.execute_reply.started": "2021-12-18T16:13:09.128228Z"
    },
    "executionInfo": {
     "elapsed": 383,
     "status": "ok",
     "timestamp": 1639781808458,
     "user": {
      "displayName": "Nastya Chizhikova",
      "photoUrl": "https://lh3.googleusercontent.com/a-/AOh14GjlPeMpPXRo-co4WmZs84TmYM17QvAc8Z42pM7t=s64",
      "userId": "14025025607393068995"
     },
     "user_tz": -180
    },
    "id": "Cp9BPRd1tMIo",
    "outputId": "e58904a1-0a07-4d09-d863-3cef8952cc96"
   },
   "outputs": [
    {
     "name": "stdout",
     "output_type": "stream",
     "text": [
      "\n",
      "Padding/truncating all sentences to 70 values...\n",
      "\n",
      "Padding token: \"[PAD]\", ID: 0\n",
      "\n",
      "Done.\n"
     ]
    }
   ],
   "source": [
    "# We'll borrow the `pad_sequences` utility function to do this.\n",
    "from keras.preprocessing.sequence import pad_sequences\n",
    "\n",
    "# Set the maximum sequence length.\n",
    "# I've chosen 64 somewhat arbitrarily. It's slightly larger than the\n",
    "# maximum training sentence length of 47...\n",
    "MAX_LEN = 70\n",
    "\n",
    "print('\\nPadding/truncating all sentences to %d values...' % MAX_LEN)\n",
    "\n",
    "print('\\nPadding token: \"{:}\", ID: {:}'.format(tokenizer.pad_token, tokenizer.pad_token_id))\n",
    "\n",
    "# Pad our input tokens with value 0.\n",
    "# \"post\" indicates that we want to pad and truncate at the end of the sequence,\n",
    "# as opposed to the beginning.\n",
    "input_ids = pad_sequences(input_ids, maxlen=MAX_LEN, dtype=\"long\", \n",
    "                          value=0, truncating=\"post\", padding=\"post\")\n",
    "\n",
    "print('\\nDone.')"
   ]
  },
  {
   "cell_type": "markdown",
   "metadata": {
    "id": "kDs-MYtYH8sL"
   },
   "source": [
    "## 3.4. Attention Masks"
   ]
  },
  {
   "cell_type": "markdown",
   "metadata": {
    "id": "KhGulL1pExCT"
   },
   "source": [
    "The attention mask simply makes it explicit which tokens are actual words versus which are padding. \n",
    "\n",
    "The BERT vocabulary does not use the ID 0, so if a token ID is 0, then it's padding, and otherwise it's a real token."
   ]
  },
  {
   "cell_type": "code",
   "execution_count": 17,
   "metadata": {
    "execution": {
     "iopub.execute_input": "2021-12-18T16:13:09.594079Z",
     "iopub.status.busy": "2021-12-18T16:13:09.593793Z",
     "iopub.status.idle": "2021-12-18T16:13:13.142624Z",
     "shell.execute_reply": "2021-12-18T16:13:13.141891Z",
     "shell.execute_reply.started": "2021-12-18T16:13:09.594010Z"
    },
    "executionInfo": {
     "elapsed": 2656,
     "status": "ok",
     "timestamp": 1639781811110,
     "user": {
      "displayName": "Nastya Chizhikova",
      "photoUrl": "https://lh3.googleusercontent.com/a-/AOh14GjlPeMpPXRo-co4WmZs84TmYM17QvAc8Z42pM7t=s64",
      "userId": "14025025607393068995"
     },
     "user_tz": -180
    },
    "id": "cDoC24LeEv3N"
   },
   "outputs": [],
   "source": [
    "# Create attention masks\n",
    "attention_masks = []\n",
    "\n",
    "# For each sentence...\n",
    "for sent in input_ids:\n",
    "    \n",
    "    # Create the attention mask.\n",
    "    #   - If a token ID is 0, then it's padding, set the mask to 0.\n",
    "    #   - If a token ID is > 0, then it's a real token, set the mask to 1.\n",
    "    att_mask = [int(token_id > 0) for token_id in sent]\n",
    "    \n",
    "    # Store the attention mask for this sentence.\n",
    "    attention_masks.append(att_mask)"
   ]
  },
  {
   "cell_type": "markdown",
   "metadata": {
    "id": "aRp4O7D295d_"
   },
   "source": [
    "## 3.5. Training & Validation Split\n"
   ]
  },
  {
   "cell_type": "markdown",
   "metadata": {
    "id": "qu0ao7p8rb06"
   },
   "source": [
    "Divide up our training set to use 90% for training and 10% for validation."
   ]
  },
  {
   "cell_type": "code",
   "execution_count": 18,
   "metadata": {
    "execution": {
     "iopub.execute_input": "2021-12-18T16:13:13.144410Z",
     "iopub.status.busy": "2021-12-18T16:13:13.143834Z",
     "iopub.status.idle": "2021-12-18T16:13:13.186833Z",
     "shell.execute_reply": "2021-12-18T16:13:13.186097Z",
     "shell.execute_reply.started": "2021-12-18T16:13:13.144373Z"
    },
    "executionInfo": {
     "elapsed": 17,
     "status": "ok",
     "timestamp": 1639781811110,
     "user": {
      "displayName": "Nastya Chizhikova",
      "photoUrl": "https://lh3.googleusercontent.com/a-/AOh14GjlPeMpPXRo-co4WmZs84TmYM17QvAc8Z42pM7t=s64",
      "userId": "14025025607393068995"
     },
     "user_tz": -180
    },
    "id": "aFbE-UHvsb7-"
   },
   "outputs": [],
   "source": [
    "# Use train_test_split to split our data into train and validation sets for\n",
    "# training\n",
    "from sklearn.model_selection import train_test_split\n",
    "\n",
    "# Use 90% for training and 10% for validation.\n",
    "train_inputs, validation_inputs, train_labels, validation_labels = train_test_split(input_ids, labels, \n",
    "                                                            random_state=2018, test_size=0.1)\n",
    "# Do the same for the masks.\n",
    "train_masks, validation_masks, _, _ = train_test_split(attention_masks, labels,\n",
    "                                             random_state=2018, test_size=0.1)"
   ]
  },
  {
   "cell_type": "markdown",
   "metadata": {
    "id": "7LzSbTqW9_BR"
   },
   "source": [
    "## 3.6. Converting to PyTorch Data Types"
   ]
  },
  {
   "cell_type": "markdown",
   "metadata": {
    "id": "6p1uXczp-Je4"
   },
   "source": [
    "Our model expects PyTorch tensors rather than numpy.ndarrays, so convert all of our dataset variables."
   ]
  },
  {
   "cell_type": "code",
   "execution_count": 19,
   "metadata": {
    "execution": {
     "iopub.execute_input": "2021-12-18T16:13:13.188700Z",
     "iopub.status.busy": "2021-12-18T16:13:13.188069Z",
     "iopub.status.idle": "2021-12-18T16:13:13.640863Z",
     "shell.execute_reply": "2021-12-18T16:13:13.640141Z",
     "shell.execute_reply.started": "2021-12-18T16:13:13.188653Z"
    },
    "executionInfo": {
     "elapsed": 577,
     "status": "ok",
     "timestamp": 1639781832093,
     "user": {
      "displayName": "Nastya Chizhikova",
      "photoUrl": "https://lh3.googleusercontent.com/a-/AOh14GjlPeMpPXRo-co4WmZs84TmYM17QvAc8Z42pM7t=s64",
      "userId": "14025025607393068995"
     },
     "user_tz": -180
    },
    "id": "jw5K2A5Ko1RF"
   },
   "outputs": [],
   "source": [
    "# Convert all inputs and labels into torch tensors, the required datatype \n",
    "# for our model.\n",
    "train_inputs = torch.tensor(train_inputs)\n",
    "validation_inputs = torch.tensor(validation_inputs)\n",
    "\n",
    "train_labels = torch.tensor(train_labels)\n",
    "validation_labels = torch.tensor(validation_labels)\n",
    "\n",
    "train_masks = torch.tensor(train_masks)\n",
    "validation_masks = torch.tensor(validation_masks)"
   ]
  },
  {
   "cell_type": "markdown",
   "metadata": {
    "id": "dD9i6Z2pG-sN"
   },
   "source": [
    "We'll also create an iterator for our dataset using the torch DataLoader class. This helps save on memory during training because, unlike a for loop, with an iterator the entire dataset does not need to be loaded into memory."
   ]
  },
  {
   "cell_type": "code",
   "execution_count": 20,
   "metadata": {
    "execution": {
     "iopub.execute_input": "2021-12-18T16:13:13.642505Z",
     "iopub.status.busy": "2021-12-18T16:13:13.642058Z",
     "iopub.status.idle": "2021-12-18T16:13:13.654304Z",
     "shell.execute_reply": "2021-12-18T16:13:13.653681Z",
     "shell.execute_reply.started": "2021-12-18T16:13:13.642465Z"
    },
    "executionInfo": {
     "elapsed": 217,
     "status": "ok",
     "timestamp": 1639781834428,
     "user": {
      "displayName": "Nastya Chizhikova",
      "photoUrl": "https://lh3.googleusercontent.com/a-/AOh14GjlPeMpPXRo-co4WmZs84TmYM17QvAc8Z42pM7t=s64",
      "userId": "14025025607393068995"
     },
     "user_tz": -180
    },
    "id": "GEgLpFVlo1Z-"
   },
   "outputs": [],
   "source": [
    "from torch.utils.data import TensorDataset, DataLoader, RandomSampler, SequentialSampler\n",
    "\n",
    "# The DataLoader needs to know our batch size for training, so we specify it \n",
    "# here.\n",
    "# For fine-tuning BERT on a specific task, the authors recommend a batch size of\n",
    "# 16 or 32.\n",
    "\n",
    "batch_size = 32\n",
    "\n",
    "# Create the DataLoader for our training set.\n",
    "train_data = TensorDataset(train_inputs, train_masks, train_labels)\n",
    "train_sampler = RandomSampler(train_data)\n",
    "train_dataloader = DataLoader(train_data, sampler=train_sampler, batch_size=batch_size)\n",
    "\n",
    "# Create the DataLoader for our validation set.\n",
    "validation_data = TensorDataset(validation_inputs, validation_masks, validation_labels)\n",
    "validation_sampler = SequentialSampler(validation_data)\n",
    "validation_dataloader = DataLoader(validation_data, sampler=validation_sampler, batch_size=batch_size)\n"
   ]
  },
  {
   "cell_type": "markdown",
   "metadata": {
    "id": "8bwa6Rts-02-"
   },
   "source": [
    "# 4. Train Our Classification Model"
   ]
  },
  {
   "cell_type": "markdown",
   "metadata": {
    "id": "3xYQ3iLO08SX"
   },
   "source": [
    "Now that our input data is properly formatted, it's time to fine tune the BERT model. "
   ]
  },
  {
   "cell_type": "markdown",
   "metadata": {
    "id": "D6TKgyUzPIQc"
   },
   "source": [
    "## 4.1. BertForSequenceClassification"
   ]
  },
  {
   "cell_type": "markdown",
   "metadata": {
    "id": "1sjzRT1V0zwm"
   },
   "source": [
    "For this task, we first want to modify the pre-trained BERT model to give outputs for classification, and then we want to continue training the model on our dataset until that the entire model, end-to-end, is well-suited for our task. \n",
    "\n",
    "Thankfully, the huggingface pytorch implementation includes a set of interfaces designed for a variety of NLP tasks. Though these interfaces are all built on top of a trained BERT model, each has different top layers and output types designed to accomodate their specific NLP task.  \n",
    "\n",
    "Here is the current list of classes provided for fine-tuning:\n",
    "* BertModel\n",
    "* BertForPreTraining\n",
    "* BertForMaskedLM\n",
    "* BertForNextSentencePrediction\n",
    "* **BertForSequenceClassification** - The one we'll use.\n",
    "* BertForTokenClassification\n",
    "* BertForQuestionAnswering\n",
    "\n",
    "The documentation for these can be found under [here](https://huggingface.co/transformers/v2.2.0/model_doc/bert.html)."
   ]
  },
  {
   "cell_type": "markdown",
   "metadata": {
    "id": "BXYitPoE-cjH"
   },
   "source": [
    "\n",
    "\n",
    "We'll be using [BertForSequenceClassification](https://huggingface.co/transformers/v2.2.0/model_doc/bert.html#bertforsequenceclassification). This is the normal BERT model with an added single linear layer on top for classification that we will use as a sentence classifier. As we feed input data, the entire pre-trained BERT model and the additional untrained classification layer is trained on our specific task. \n"
   ]
  },
  {
   "cell_type": "markdown",
   "metadata": {
    "id": "WnQW9E-bBCRt"
   },
   "source": [
    "OK, let's load BERT! There are a few different pre-trained BERT models available. \"bert-base-uncased\" means the version that has only lowercase letters (\"uncased\") and is the smaller version of the two (\"base\" vs \"large\").\n",
    "\n",
    "The documentation for `from_pretrained` can be found [here](https://huggingface.co/transformers/v2.2.0/main_classes/model.html#transformers.PreTrainedModel.from_pretrained), with the additional parameters defined [here](https://huggingface.co/transformers/v2.2.0/main_classes/configuration.html#transformers.PretrainedConfig)."
   ]
  },
  {
   "cell_type": "code",
   "execution_count": 21,
   "metadata": {
    "execution": {
     "iopub.execute_input": "2021-12-18T16:13:13.655898Z",
     "iopub.status.busy": "2021-12-18T16:13:13.655551Z",
     "iopub.status.idle": "2021-12-18T16:13:44.617511Z",
     "shell.execute_reply": "2021-12-18T16:13:44.616796Z",
     "shell.execute_reply.started": "2021-12-18T16:13:13.655841Z"
    },
    "executionInfo": {
     "elapsed": 3060,
     "status": "ok",
     "timestamp": 1639781840596,
     "user": {
      "displayName": "Nastya Chizhikova",
      "photoUrl": "https://lh3.googleusercontent.com/a-/AOh14GjlPeMpPXRo-co4WmZs84TmYM17QvAc8Z42pM7t=s64",
      "userId": "14025025607393068995"
     },
     "user_tz": -180
    },
    "id": "gFsCTp_mporB",
    "outputId": "05c5fb2c-0d1f-42c0-abdd-73fd013b72cd"
   },
   "outputs": [
    {
     "data": {
      "application/vnd.jupyter.widget-view+json": {
       "model_id": "63b7140b31d8410db32b4dd7b1fd77dc",
       "version_major": 2,
       "version_minor": 0
      },
      "text/plain": [
       "Downloading:   0%|          | 0.00/641M [00:00<?, ?B/s]"
      ]
     },
     "metadata": {},
     "output_type": "display_data"
    },
    {
     "name": "stderr",
     "output_type": "stream",
     "text": [
      "Some weights of the model checkpoint at bert-base-multilingual-uncased were not used when initializing BertForSequenceClassification: ['cls.seq_relationship.weight', 'cls.predictions.decoder.weight', 'cls.predictions.bias', 'cls.predictions.transform.LayerNorm.weight', 'cls.predictions.transform.dense.bias', 'cls.predictions.transform.dense.weight', 'cls.predictions.transform.LayerNorm.bias', 'cls.seq_relationship.bias']\n",
      "- This IS expected if you are initializing BertForSequenceClassification from the checkpoint of a model trained on another task or with another architecture (e.g. initializing a BertForSequenceClassification model from a BertForPreTraining model).\n",
      "- This IS NOT expected if you are initializing BertForSequenceClassification from the checkpoint of a model that you expect to be exactly identical (initializing a BertForSequenceClassification model from a BertForSequenceClassification model).\n",
      "Some weights of BertForSequenceClassification were not initialized from the model checkpoint at bert-base-multilingual-uncased and are newly initialized: ['classifier.bias', 'classifier.weight']\n",
      "You should probably TRAIN this model on a down-stream task to be able to use it for predictions and inference.\n"
     ]
    },
    {
     "data": {
      "text/plain": [
       "BertForSequenceClassification(\n",
       "  (bert): BertModel(\n",
       "    (embeddings): BertEmbeddings(\n",
       "      (word_embeddings): Embedding(105879, 768, padding_idx=0)\n",
       "      (position_embeddings): Embedding(512, 768)\n",
       "      (token_type_embeddings): Embedding(2, 768)\n",
       "      (LayerNorm): LayerNorm((768,), eps=1e-12, elementwise_affine=True)\n",
       "      (dropout): Dropout(p=0.1, inplace=False)\n",
       "    )\n",
       "    (encoder): BertEncoder(\n",
       "      (layer): ModuleList(\n",
       "        (0): BertLayer(\n",
       "          (attention): BertAttention(\n",
       "            (self): BertSelfAttention(\n",
       "              (query): Linear(in_features=768, out_features=768, bias=True)\n",
       "              (key): Linear(in_features=768, out_features=768, bias=True)\n",
       "              (value): Linear(in_features=768, out_features=768, bias=True)\n",
       "              (dropout): Dropout(p=0.1, inplace=False)\n",
       "            )\n",
       "            (output): BertSelfOutput(\n",
       "              (dense): Linear(in_features=768, out_features=768, bias=True)\n",
       "              (LayerNorm): LayerNorm((768,), eps=1e-12, elementwise_affine=True)\n",
       "              (dropout): Dropout(p=0.1, inplace=False)\n",
       "            )\n",
       "          )\n",
       "          (intermediate): BertIntermediate(\n",
       "            (dense): Linear(in_features=768, out_features=3072, bias=True)\n",
       "          )\n",
       "          (output): BertOutput(\n",
       "            (dense): Linear(in_features=3072, out_features=768, bias=True)\n",
       "            (LayerNorm): LayerNorm((768,), eps=1e-12, elementwise_affine=True)\n",
       "            (dropout): Dropout(p=0.1, inplace=False)\n",
       "          )\n",
       "        )\n",
       "        (1): BertLayer(\n",
       "          (attention): BertAttention(\n",
       "            (self): BertSelfAttention(\n",
       "              (query): Linear(in_features=768, out_features=768, bias=True)\n",
       "              (key): Linear(in_features=768, out_features=768, bias=True)\n",
       "              (value): Linear(in_features=768, out_features=768, bias=True)\n",
       "              (dropout): Dropout(p=0.1, inplace=False)\n",
       "            )\n",
       "            (output): BertSelfOutput(\n",
       "              (dense): Linear(in_features=768, out_features=768, bias=True)\n",
       "              (LayerNorm): LayerNorm((768,), eps=1e-12, elementwise_affine=True)\n",
       "              (dropout): Dropout(p=0.1, inplace=False)\n",
       "            )\n",
       "          )\n",
       "          (intermediate): BertIntermediate(\n",
       "            (dense): Linear(in_features=768, out_features=3072, bias=True)\n",
       "          )\n",
       "          (output): BertOutput(\n",
       "            (dense): Linear(in_features=3072, out_features=768, bias=True)\n",
       "            (LayerNorm): LayerNorm((768,), eps=1e-12, elementwise_affine=True)\n",
       "            (dropout): Dropout(p=0.1, inplace=False)\n",
       "          )\n",
       "        )\n",
       "        (2): BertLayer(\n",
       "          (attention): BertAttention(\n",
       "            (self): BertSelfAttention(\n",
       "              (query): Linear(in_features=768, out_features=768, bias=True)\n",
       "              (key): Linear(in_features=768, out_features=768, bias=True)\n",
       "              (value): Linear(in_features=768, out_features=768, bias=True)\n",
       "              (dropout): Dropout(p=0.1, inplace=False)\n",
       "            )\n",
       "            (output): BertSelfOutput(\n",
       "              (dense): Linear(in_features=768, out_features=768, bias=True)\n",
       "              (LayerNorm): LayerNorm((768,), eps=1e-12, elementwise_affine=True)\n",
       "              (dropout): Dropout(p=0.1, inplace=False)\n",
       "            )\n",
       "          )\n",
       "          (intermediate): BertIntermediate(\n",
       "            (dense): Linear(in_features=768, out_features=3072, bias=True)\n",
       "          )\n",
       "          (output): BertOutput(\n",
       "            (dense): Linear(in_features=3072, out_features=768, bias=True)\n",
       "            (LayerNorm): LayerNorm((768,), eps=1e-12, elementwise_affine=True)\n",
       "            (dropout): Dropout(p=0.1, inplace=False)\n",
       "          )\n",
       "        )\n",
       "        (3): BertLayer(\n",
       "          (attention): BertAttention(\n",
       "            (self): BertSelfAttention(\n",
       "              (query): Linear(in_features=768, out_features=768, bias=True)\n",
       "              (key): Linear(in_features=768, out_features=768, bias=True)\n",
       "              (value): Linear(in_features=768, out_features=768, bias=True)\n",
       "              (dropout): Dropout(p=0.1, inplace=False)\n",
       "            )\n",
       "            (output): BertSelfOutput(\n",
       "              (dense): Linear(in_features=768, out_features=768, bias=True)\n",
       "              (LayerNorm): LayerNorm((768,), eps=1e-12, elementwise_affine=True)\n",
       "              (dropout): Dropout(p=0.1, inplace=False)\n",
       "            )\n",
       "          )\n",
       "          (intermediate): BertIntermediate(\n",
       "            (dense): Linear(in_features=768, out_features=3072, bias=True)\n",
       "          )\n",
       "          (output): BertOutput(\n",
       "            (dense): Linear(in_features=3072, out_features=768, bias=True)\n",
       "            (LayerNorm): LayerNorm((768,), eps=1e-12, elementwise_affine=True)\n",
       "            (dropout): Dropout(p=0.1, inplace=False)\n",
       "          )\n",
       "        )\n",
       "        (4): BertLayer(\n",
       "          (attention): BertAttention(\n",
       "            (self): BertSelfAttention(\n",
       "              (query): Linear(in_features=768, out_features=768, bias=True)\n",
       "              (key): Linear(in_features=768, out_features=768, bias=True)\n",
       "              (value): Linear(in_features=768, out_features=768, bias=True)\n",
       "              (dropout): Dropout(p=0.1, inplace=False)\n",
       "            )\n",
       "            (output): BertSelfOutput(\n",
       "              (dense): Linear(in_features=768, out_features=768, bias=True)\n",
       "              (LayerNorm): LayerNorm((768,), eps=1e-12, elementwise_affine=True)\n",
       "              (dropout): Dropout(p=0.1, inplace=False)\n",
       "            )\n",
       "          )\n",
       "          (intermediate): BertIntermediate(\n",
       "            (dense): Linear(in_features=768, out_features=3072, bias=True)\n",
       "          )\n",
       "          (output): BertOutput(\n",
       "            (dense): Linear(in_features=3072, out_features=768, bias=True)\n",
       "            (LayerNorm): LayerNorm((768,), eps=1e-12, elementwise_affine=True)\n",
       "            (dropout): Dropout(p=0.1, inplace=False)\n",
       "          )\n",
       "        )\n",
       "        (5): BertLayer(\n",
       "          (attention): BertAttention(\n",
       "            (self): BertSelfAttention(\n",
       "              (query): Linear(in_features=768, out_features=768, bias=True)\n",
       "              (key): Linear(in_features=768, out_features=768, bias=True)\n",
       "              (value): Linear(in_features=768, out_features=768, bias=True)\n",
       "              (dropout): Dropout(p=0.1, inplace=False)\n",
       "            )\n",
       "            (output): BertSelfOutput(\n",
       "              (dense): Linear(in_features=768, out_features=768, bias=True)\n",
       "              (LayerNorm): LayerNorm((768,), eps=1e-12, elementwise_affine=True)\n",
       "              (dropout): Dropout(p=0.1, inplace=False)\n",
       "            )\n",
       "          )\n",
       "          (intermediate): BertIntermediate(\n",
       "            (dense): Linear(in_features=768, out_features=3072, bias=True)\n",
       "          )\n",
       "          (output): BertOutput(\n",
       "            (dense): Linear(in_features=3072, out_features=768, bias=True)\n",
       "            (LayerNorm): LayerNorm((768,), eps=1e-12, elementwise_affine=True)\n",
       "            (dropout): Dropout(p=0.1, inplace=False)\n",
       "          )\n",
       "        )\n",
       "        (6): BertLayer(\n",
       "          (attention): BertAttention(\n",
       "            (self): BertSelfAttention(\n",
       "              (query): Linear(in_features=768, out_features=768, bias=True)\n",
       "              (key): Linear(in_features=768, out_features=768, bias=True)\n",
       "              (value): Linear(in_features=768, out_features=768, bias=True)\n",
       "              (dropout): Dropout(p=0.1, inplace=False)\n",
       "            )\n",
       "            (output): BertSelfOutput(\n",
       "              (dense): Linear(in_features=768, out_features=768, bias=True)\n",
       "              (LayerNorm): LayerNorm((768,), eps=1e-12, elementwise_affine=True)\n",
       "              (dropout): Dropout(p=0.1, inplace=False)\n",
       "            )\n",
       "          )\n",
       "          (intermediate): BertIntermediate(\n",
       "            (dense): Linear(in_features=768, out_features=3072, bias=True)\n",
       "          )\n",
       "          (output): BertOutput(\n",
       "            (dense): Linear(in_features=3072, out_features=768, bias=True)\n",
       "            (LayerNorm): LayerNorm((768,), eps=1e-12, elementwise_affine=True)\n",
       "            (dropout): Dropout(p=0.1, inplace=False)\n",
       "          )\n",
       "        )\n",
       "        (7): BertLayer(\n",
       "          (attention): BertAttention(\n",
       "            (self): BertSelfAttention(\n",
       "              (query): Linear(in_features=768, out_features=768, bias=True)\n",
       "              (key): Linear(in_features=768, out_features=768, bias=True)\n",
       "              (value): Linear(in_features=768, out_features=768, bias=True)\n",
       "              (dropout): Dropout(p=0.1, inplace=False)\n",
       "            )\n",
       "            (output): BertSelfOutput(\n",
       "              (dense): Linear(in_features=768, out_features=768, bias=True)\n",
       "              (LayerNorm): LayerNorm((768,), eps=1e-12, elementwise_affine=True)\n",
       "              (dropout): Dropout(p=0.1, inplace=False)\n",
       "            )\n",
       "          )\n",
       "          (intermediate): BertIntermediate(\n",
       "            (dense): Linear(in_features=768, out_features=3072, bias=True)\n",
       "          )\n",
       "          (output): BertOutput(\n",
       "            (dense): Linear(in_features=3072, out_features=768, bias=True)\n",
       "            (LayerNorm): LayerNorm((768,), eps=1e-12, elementwise_affine=True)\n",
       "            (dropout): Dropout(p=0.1, inplace=False)\n",
       "          )\n",
       "        )\n",
       "        (8): BertLayer(\n",
       "          (attention): BertAttention(\n",
       "            (self): BertSelfAttention(\n",
       "              (query): Linear(in_features=768, out_features=768, bias=True)\n",
       "              (key): Linear(in_features=768, out_features=768, bias=True)\n",
       "              (value): Linear(in_features=768, out_features=768, bias=True)\n",
       "              (dropout): Dropout(p=0.1, inplace=False)\n",
       "            )\n",
       "            (output): BertSelfOutput(\n",
       "              (dense): Linear(in_features=768, out_features=768, bias=True)\n",
       "              (LayerNorm): LayerNorm((768,), eps=1e-12, elementwise_affine=True)\n",
       "              (dropout): Dropout(p=0.1, inplace=False)\n",
       "            )\n",
       "          )\n",
       "          (intermediate): BertIntermediate(\n",
       "            (dense): Linear(in_features=768, out_features=3072, bias=True)\n",
       "          )\n",
       "          (output): BertOutput(\n",
       "            (dense): Linear(in_features=3072, out_features=768, bias=True)\n",
       "            (LayerNorm): LayerNorm((768,), eps=1e-12, elementwise_affine=True)\n",
       "            (dropout): Dropout(p=0.1, inplace=False)\n",
       "          )\n",
       "        )\n",
       "        (9): BertLayer(\n",
       "          (attention): BertAttention(\n",
       "            (self): BertSelfAttention(\n",
       "              (query): Linear(in_features=768, out_features=768, bias=True)\n",
       "              (key): Linear(in_features=768, out_features=768, bias=True)\n",
       "              (value): Linear(in_features=768, out_features=768, bias=True)\n",
       "              (dropout): Dropout(p=0.1, inplace=False)\n",
       "            )\n",
       "            (output): BertSelfOutput(\n",
       "              (dense): Linear(in_features=768, out_features=768, bias=True)\n",
       "              (LayerNorm): LayerNorm((768,), eps=1e-12, elementwise_affine=True)\n",
       "              (dropout): Dropout(p=0.1, inplace=False)\n",
       "            )\n",
       "          )\n",
       "          (intermediate): BertIntermediate(\n",
       "            (dense): Linear(in_features=768, out_features=3072, bias=True)\n",
       "          )\n",
       "          (output): BertOutput(\n",
       "            (dense): Linear(in_features=3072, out_features=768, bias=True)\n",
       "            (LayerNorm): LayerNorm((768,), eps=1e-12, elementwise_affine=True)\n",
       "            (dropout): Dropout(p=0.1, inplace=False)\n",
       "          )\n",
       "        )\n",
       "        (10): BertLayer(\n",
       "          (attention): BertAttention(\n",
       "            (self): BertSelfAttention(\n",
       "              (query): Linear(in_features=768, out_features=768, bias=True)\n",
       "              (key): Linear(in_features=768, out_features=768, bias=True)\n",
       "              (value): Linear(in_features=768, out_features=768, bias=True)\n",
       "              (dropout): Dropout(p=0.1, inplace=False)\n",
       "            )\n",
       "            (output): BertSelfOutput(\n",
       "              (dense): Linear(in_features=768, out_features=768, bias=True)\n",
       "              (LayerNorm): LayerNorm((768,), eps=1e-12, elementwise_affine=True)\n",
       "              (dropout): Dropout(p=0.1, inplace=False)\n",
       "            )\n",
       "          )\n",
       "          (intermediate): BertIntermediate(\n",
       "            (dense): Linear(in_features=768, out_features=3072, bias=True)\n",
       "          )\n",
       "          (output): BertOutput(\n",
       "            (dense): Linear(in_features=3072, out_features=768, bias=True)\n",
       "            (LayerNorm): LayerNorm((768,), eps=1e-12, elementwise_affine=True)\n",
       "            (dropout): Dropout(p=0.1, inplace=False)\n",
       "          )\n",
       "        )\n",
       "        (11): BertLayer(\n",
       "          (attention): BertAttention(\n",
       "            (self): BertSelfAttention(\n",
       "              (query): Linear(in_features=768, out_features=768, bias=True)\n",
       "              (key): Linear(in_features=768, out_features=768, bias=True)\n",
       "              (value): Linear(in_features=768, out_features=768, bias=True)\n",
       "              (dropout): Dropout(p=0.1, inplace=False)\n",
       "            )\n",
       "            (output): BertSelfOutput(\n",
       "              (dense): Linear(in_features=768, out_features=768, bias=True)\n",
       "              (LayerNorm): LayerNorm((768,), eps=1e-12, elementwise_affine=True)\n",
       "              (dropout): Dropout(p=0.1, inplace=False)\n",
       "            )\n",
       "          )\n",
       "          (intermediate): BertIntermediate(\n",
       "            (dense): Linear(in_features=768, out_features=3072, bias=True)\n",
       "          )\n",
       "          (output): BertOutput(\n",
       "            (dense): Linear(in_features=3072, out_features=768, bias=True)\n",
       "            (LayerNorm): LayerNorm((768,), eps=1e-12, elementwise_affine=True)\n",
       "            (dropout): Dropout(p=0.1, inplace=False)\n",
       "          )\n",
       "        )\n",
       "      )\n",
       "    )\n",
       "    (pooler): BertPooler(\n",
       "      (dense): Linear(in_features=768, out_features=768, bias=True)\n",
       "      (activation): Tanh()\n",
       "    )\n",
       "  )\n",
       "  (dropout): Dropout(p=0.1, inplace=False)\n",
       "  (classifier): Linear(in_features=768, out_features=5, bias=True)\n",
       ")"
      ]
     },
     "execution_count": 21,
     "metadata": {},
     "output_type": "execute_result"
    }
   ],
   "source": [
    "from transformers import BertForSequenceClassification, AdamW, BertConfig\n",
    "\n",
    "# Load BertForSequenceClassification, the pretrained BERT model with a single \n",
    "# linear classification layer on top. \n",
    "model = BertForSequenceClassification.from_pretrained(\n",
    "    \"bert-base-multilingual-uncased\", # Use the 12-layer BERT model, with an uncased vocab.\n",
    "    num_labels = 5, # The number of output labels--2 for binary classification.\n",
    "                    # You can increase this for multi-class tasks.   \n",
    "    output_attentions = False, # Whether the model returns attentions weights.\n",
    "    output_hidden_states = False, # Whether the model returns all hidden-states.\n",
    ")\n",
    "\n",
    "# Tell pytorch to run this model on the GPU.\n",
    "model.cuda()"
   ]
  },
  {
   "cell_type": "markdown",
   "metadata": {
    "id": "e0Jv6c7-HHDW"
   },
   "source": [
    "Just for curiosity's sake, we can browse all of the model's parameters by name here.\n",
    "\n",
    "In the below cell, I've printed out the names and dimensions of the weights for:\n",
    "\n",
    "1. The embedding layer.\n",
    "2. The first of the twelve transformers.\n",
    "3. The output layer.\n",
    "\n",
    "\n"
   ]
  },
  {
   "cell_type": "code",
   "execution_count": 22,
   "metadata": {
    "execution": {
     "iopub.execute_input": "2021-12-18T16:13:44.619305Z",
     "iopub.status.busy": "2021-12-18T16:13:44.618881Z",
     "iopub.status.idle": "2021-12-18T16:13:44.627139Z",
     "shell.execute_reply": "2021-12-18T16:13:44.626355Z",
     "shell.execute_reply.started": "2021-12-18T16:13:44.619267Z"
    },
    "executionInfo": {
     "elapsed": 11,
     "status": "ok",
     "timestamp": 1639781840598,
     "user": {
      "displayName": "Nastya Chizhikova",
      "photoUrl": "https://lh3.googleusercontent.com/a-/AOh14GjlPeMpPXRo-co4WmZs84TmYM17QvAc8Z42pM7t=s64",
      "userId": "14025025607393068995"
     },
     "user_tz": -180
    },
    "id": "a5cNVxcjeaDu"
   },
   "outputs": [],
   "source": [
    "b = model.bert.pooler.dense.weight\n",
    "c = model.classifier.weight\n",
    "b = b.cpu().detach().numpy()\n",
    "c = c.cpu().detach().numpy()"
   ]
  },
  {
   "cell_type": "code",
   "execution_count": 23,
   "metadata": {
    "execution": {
     "iopub.execute_input": "2021-12-18T16:13:44.629576Z",
     "iopub.status.busy": "2021-12-18T16:13:44.629166Z",
     "iopub.status.idle": "2021-12-18T16:13:44.867341Z",
     "shell.execute_reply": "2021-12-18T16:13:44.866408Z",
     "shell.execute_reply.started": "2021-12-18T16:13:44.629539Z"
    },
    "executionInfo": {
     "elapsed": 225,
     "status": "ok",
     "timestamp": 1639781842204,
     "user": {
      "displayName": "Nastya Chizhikova",
      "photoUrl": "https://lh3.googleusercontent.com/a-/AOh14GjlPeMpPXRo-co4WmZs84TmYM17QvAc8Z42pM7t=s64",
      "userId": "14025025607393068995"
     },
     "user_tz": -180
    },
    "id": "8PIiVlDYCtSq",
    "outputId": "6274e097-f1cb-43ef-de88-e39ef5b3faed"
   },
   "outputs": [
    {
     "name": "stdout",
     "output_type": "stream",
     "text": [
      "The BERT model has 201 different named parameters.\n",
      "\n",
      "==== Embedding Layer ====\n",
      "\n",
      "bert.embeddings.word_embeddings.weight                  (105879, 768)\n",
      "bert.embeddings.position_embeddings.weight                (512, 768)\n",
      "bert.embeddings.token_type_embeddings.weight                (2, 768)\n",
      "bert.embeddings.LayerNorm.weight                              (768,)\n",
      "bert.embeddings.LayerNorm.bias                                (768,)\n",
      "\n",
      "==== First Transformer ====\n",
      "\n",
      "bert.encoder.layer.0.attention.self.query.weight          (768, 768)\n",
      "bert.encoder.layer.0.attention.self.query.bias                (768,)\n",
      "bert.encoder.layer.0.attention.self.key.weight            (768, 768)\n",
      "bert.encoder.layer.0.attention.self.key.bias                  (768,)\n",
      "bert.encoder.layer.0.attention.self.value.weight          (768, 768)\n",
      "bert.encoder.layer.0.attention.self.value.bias                (768,)\n",
      "bert.encoder.layer.0.attention.output.dense.weight        (768, 768)\n",
      "bert.encoder.layer.0.attention.output.dense.bias              (768,)\n",
      "bert.encoder.layer.0.attention.output.LayerNorm.weight        (768,)\n",
      "bert.encoder.layer.0.attention.output.LayerNorm.bias          (768,)\n",
      "bert.encoder.layer.0.intermediate.dense.weight           (3072, 768)\n",
      "bert.encoder.layer.0.intermediate.dense.bias                 (3072,)\n",
      "bert.encoder.layer.0.output.dense.weight                 (768, 3072)\n",
      "bert.encoder.layer.0.output.dense.bias                        (768,)\n",
      "bert.encoder.layer.0.output.LayerNorm.weight                  (768,)\n",
      "bert.encoder.layer.0.output.LayerNorm.bias                    (768,)\n",
      "\n",
      "==== Output Layer ====\n",
      "\n",
      "bert.pooler.dense.weight                                  (768, 768)\n",
      "bert.pooler.dense.bias                                        (768,)\n",
      "classifier.weight                                           (5, 768)\n",
      "classifier.bias                                                 (5,)\n"
     ]
    }
   ],
   "source": [
    "# Get all of the model's parameters as a list of tuples.\n",
    "params = list(model.named_parameters())\n",
    "\n",
    "print('The BERT model has {:} different named parameters.\\n'.format(len(params)))\n",
    "\n",
    "print('==== Embedding Layer ====\\n')\n",
    "\n",
    "for p in params[0:5]:\n",
    "    print(\"{:<55} {:>12}\".format(p[0], str(tuple(p[1].size()))))\n",
    "\n",
    "print('\\n==== First Transformer ====\\n')\n",
    "\n",
    "for p in params[5:21]:\n",
    "    print(\"{:<55} {:>12}\".format(p[0], str(tuple(p[1].size()))))\n",
    "\n",
    "print('\\n==== Output Layer ====\\n')\n",
    "\n",
    "for p in params[-4:]:\n",
    "    print(\"{:<55} {:>12}\".format(p[0], str(tuple(p[1].size()))))"
   ]
  },
  {
   "cell_type": "markdown",
   "metadata": {
    "id": "qRWT-D4U_Pvx"
   },
   "source": [
    "## 4.2. Optimizer & Learning Rate Scheduler"
   ]
  },
  {
   "cell_type": "markdown",
   "metadata": {
    "id": "8o-VEBobKwHk"
   },
   "source": [
    "Now that we have our model loaded we need to grab the training hyperparameters from within the stored model.\n",
    "\n",
    "For the purposes of fine-tuning, the authors recommend choosing from the following values:\n",
    "- Batch size: 16, 32  (We chose 32 when creating our DataLoaders).\n",
    "- Learning rate (Adam): 5e-5, 3e-5, 2e-5  (We'll use 2e-5).\n",
    "- Number of epochs: 2, 3, 4  (We'll use 4).\n",
    "\n",
    "The epsilon parameter `eps = 1e-8` is \"a very small number to prevent any division by zero in the implementation\" (from [here](https://machinelearningmastery.com/adam-optimization-algorithm-for-deep-learning/)).\n",
    "\n",
    "You can find the creation of the AdamW optimizer in `run_glue.py` [here](https://github.com/huggingface/transformers/blob/5bfcd0485ece086ebcbed2d008813037968a9e58/examples/run_glue.py#L109)."
   ]
  },
  {
   "cell_type": "code",
   "execution_count": 24,
   "metadata": {
    "execution": {
     "iopub.execute_input": "2021-12-18T16:13:44.869588Z",
     "iopub.status.busy": "2021-12-18T16:13:44.868713Z",
     "iopub.status.idle": "2021-12-18T16:13:44.877837Z",
     "shell.execute_reply": "2021-12-18T16:13:44.877127Z",
     "shell.execute_reply.started": "2021-12-18T16:13:44.869549Z"
    },
    "executionInfo": {
     "elapsed": 3,
     "status": "ok",
     "timestamp": 1639781844848,
     "user": {
      "displayName": "Nastya Chizhikova",
      "photoUrl": "https://lh3.googleusercontent.com/a-/AOh14GjlPeMpPXRo-co4WmZs84TmYM17QvAc8Z42pM7t=s64",
      "userId": "14025025607393068995"
     },
     "user_tz": -180
    },
    "id": "GLs72DuMODJO"
   },
   "outputs": [],
   "source": [
    "# Note: AdamW is a class from the huggingface library (as opposed to pytorch) \n",
    "# I believe the 'W' stands for 'Weight Decay fix\"\n",
    "optimizer = AdamW(model.parameters(),\n",
    "                  lr = 2e-5, # args.learning_rate - default is 5e-5, our notebook had 2e-5\n",
    "                  eps = 1e-8 # args.adam_epsilon  - default is 1e-8.\n",
    "                )\n"
   ]
  },
  {
   "cell_type": "code",
   "execution_count": 25,
   "metadata": {
    "execution": {
     "iopub.execute_input": "2021-12-18T16:13:44.881293Z",
     "iopub.status.busy": "2021-12-18T16:13:44.880560Z",
     "iopub.status.idle": "2021-12-18T16:13:44.886334Z",
     "shell.execute_reply": "2021-12-18T16:13:44.885241Z",
     "shell.execute_reply.started": "2021-12-18T16:13:44.881266Z"
    },
    "executionInfo": {
     "elapsed": 217,
     "status": "ok",
     "timestamp": 1639781846630,
     "user": {
      "displayName": "Nastya Chizhikova",
      "photoUrl": "https://lh3.googleusercontent.com/a-/AOh14GjlPeMpPXRo-co4WmZs84TmYM17QvAc8Z42pM7t=s64",
      "userId": "14025025607393068995"
     },
     "user_tz": -180
    },
    "id": "-p0upAhhRiIx"
   },
   "outputs": [],
   "source": [
    "from transformers import get_linear_schedule_with_warmup\n",
    "\n",
    "# Number of training epochs (authors recommend between 2 and 4)\n",
    "epochs = 4\n",
    "\n",
    "# Total number of training steps is number of batches * number of epochs.\n",
    "total_steps = len(train_dataloader) * epochs\n",
    "\n",
    "# Create the learning rate scheduler.\n",
    "scheduler = get_linear_schedule_with_warmup(optimizer, \n",
    "                                            num_warmup_steps = 100, # Default value in run_glue.py\n",
    "                                            num_training_steps = total_steps)"
   ]
  },
  {
   "cell_type": "markdown",
   "metadata": {
    "id": "RqfmWwUR_Sox"
   },
   "source": [
    "## 4.3. Training Loop"
   ]
  },
  {
   "cell_type": "markdown",
   "metadata": {
    "id": "_QXZhFb4LnV5"
   },
   "source": [
    "Below is our training loop. There's a lot going on, but fundamentally for each pass in our loop we have a trianing phase and a validation phase. At each pass we need to:\n",
    "\n",
    "Training loop:\n",
    "- Unpack our data inputs and labels\n",
    "- Load data onto the GPU for acceleration\n",
    "- Clear out the gradients calculated in the previous pass. \n",
    "    - In pytorch the gradients accumulate by default (useful for things like RNNs) unless you explicitly clear them out.\n",
    "- Forward pass (feed input data through the network)\n",
    "- Backward pass (backpropagation)\n",
    "- Tell the network to update parameters with optimizer.step()\n",
    "- Track variables for monitoring progress\n",
    "\n",
    "Evalution loop:\n",
    "- Unpack our data inputs and labels\n",
    "- Load data onto the GPU for acceleration\n",
    "- Forward pass (feed input data through the network)\n",
    "- Compute loss on our validation data and track variables for monitoring progress\n",
    "\n",
    "So please read carefully through the comments to get an understanding of what's happening. If you're unfamiliar with pytorch a quick look at some of their [beginner tutorials](https://pytorch.org/tutorials/beginner/blitz/cifar10_tutorial.html#sphx-glr-beginner-blitz-cifar10-tutorial-py) will help show you that training loops really involve only a few simple steps; the rest is usually just decoration and logging.  "
   ]
  },
  {
   "cell_type": "markdown",
   "metadata": {
    "id": "pE5B99H5H2-W"
   },
   "source": [
    "Define a helper function for calculating accuracy."
   ]
  },
  {
   "cell_type": "code",
   "execution_count": 26,
   "metadata": {
    "execution": {
     "iopub.execute_input": "2021-12-18T16:13:44.888032Z",
     "iopub.status.busy": "2021-12-18T16:13:44.887596Z",
     "iopub.status.idle": "2021-12-18T16:13:44.895510Z",
     "shell.execute_reply": "2021-12-18T16:13:44.894730Z",
     "shell.execute_reply.started": "2021-12-18T16:13:44.887994Z"
    },
    "executionInfo": {
     "elapsed": 211,
     "status": "ok",
     "timestamp": 1639781850584,
     "user": {
      "displayName": "Nastya Chizhikova",
      "photoUrl": "https://lh3.googleusercontent.com/a-/AOh14GjlPeMpPXRo-co4WmZs84TmYM17QvAc8Z42pM7t=s64",
      "userId": "14025025607393068995"
     },
     "user_tz": -180
    },
    "id": "9cQNvaZ9bnyy"
   },
   "outputs": [],
   "source": [
    "import numpy as np\n",
    "\n",
    "# Function to calculate the accuracy of our predictions vs labels\n",
    "def flat_accuracy(preds, labels):\n",
    "    pred_flat = np.argmax(preds, axis=1).flatten()\n",
    "    labels_flat = labels.flatten()\n",
    "    return np.sum(pred_flat == labels_flat) / len(labels_flat)"
   ]
  },
  {
   "cell_type": "markdown",
   "metadata": {
    "id": "KNhRtWPXH9C3"
   },
   "source": [
    "Helper function for formatting elapsed times.\n"
   ]
  },
  {
   "cell_type": "code",
   "execution_count": 27,
   "metadata": {
    "execution": {
     "iopub.execute_input": "2021-12-18T16:13:44.897631Z",
     "iopub.status.busy": "2021-12-18T16:13:44.897016Z",
     "iopub.status.idle": "2021-12-18T16:13:44.904230Z",
     "shell.execute_reply": "2021-12-18T16:13:44.903525Z",
     "shell.execute_reply.started": "2021-12-18T16:13:44.897590Z"
    },
    "executionInfo": {
     "elapsed": 214,
     "status": "ok",
     "timestamp": 1639781852677,
     "user": {
      "displayName": "Nastya Chizhikova",
      "photoUrl": "https://lh3.googleusercontent.com/a-/AOh14GjlPeMpPXRo-co4WmZs84TmYM17QvAc8Z42pM7t=s64",
      "userId": "14025025607393068995"
     },
     "user_tz": -180
    },
    "id": "gpt6tR83keZD"
   },
   "outputs": [],
   "source": [
    "import time\n",
    "import datetime\n",
    "\n",
    "def format_time(elapsed):\n",
    "    '''\n",
    "    Takes a time in seconds and returns a string hh:mm:ss\n",
    "    '''\n",
    "    # Round to the nearest second.\n",
    "    elapsed_rounded = int(round((elapsed)))\n",
    "    \n",
    "    # Format as hh:mm:ss\n",
    "    return str(datetime.timedelta(seconds=elapsed_rounded))\n"
   ]
  },
  {
   "cell_type": "markdown",
   "metadata": {
    "id": "cfNIhN19te3N"
   },
   "source": [
    "We're ready to kick off the training!"
   ]
  },
  {
   "cell_type": "code",
   "execution_count": 28,
   "metadata": {
    "execution": {
     "iopub.execute_input": "2021-12-18T16:13:44.906508Z",
     "iopub.status.busy": "2021-12-18T16:13:44.905925Z",
     "iopub.status.idle": "2021-12-18T16:36:32.904762Z",
     "shell.execute_reply": "2021-12-18T16:36:32.903874Z",
     "shell.execute_reply.started": "2021-12-18T16:13:44.906470Z"
    },
    "executionInfo": {
     "elapsed": 1081150,
     "status": "error",
     "timestamp": 1639782936508,
     "user": {
      "displayName": "Nastya Chizhikova",
      "photoUrl": "https://lh3.googleusercontent.com/a-/AOh14GjlPeMpPXRo-co4WmZs84TmYM17QvAc8Z42pM7t=s64",
      "userId": "14025025607393068995"
     },
     "user_tz": -180
    },
    "id": "6J-FYdx6nFE_",
    "outputId": "f07265ab-d09a-4da6-db8e-ac497c87fe75"
   },
   "outputs": [
    {
     "name": "stdout",
     "output_type": "stream",
     "text": [
      "\n",
      "======== Epoch 1 / 4 ========\n",
      "Training...\n",
      "  Batch    40  of  1,407.    Elapsed: 0:00:10.\n",
      "  Batch    80  of  1,407.    Elapsed: 0:00:20.\n",
      "  Batch   120  of  1,407.    Elapsed: 0:00:29.\n",
      "  Batch   160  of  1,407.    Elapsed: 0:00:39.\n",
      "  Batch   200  of  1,407.    Elapsed: 0:00:48.\n",
      "  Batch   240  of  1,407.    Elapsed: 0:00:57.\n",
      "  Batch   280  of  1,407.    Elapsed: 0:01:07.\n",
      "  Batch   320  of  1,407.    Elapsed: 0:01:16.\n",
      "  Batch   360  of  1,407.    Elapsed: 0:01:26.\n",
      "  Batch   400  of  1,407.    Elapsed: 0:01:35.\n",
      "  Batch   440  of  1,407.    Elapsed: 0:01:44.\n",
      "  Batch   480  of  1,407.    Elapsed: 0:01:54.\n",
      "  Batch   520  of  1,407.    Elapsed: 0:02:03.\n",
      "  Batch   560  of  1,407.    Elapsed: 0:02:13.\n",
      "  Batch   600  of  1,407.    Elapsed: 0:02:22.\n",
      "  Batch   640  of  1,407.    Elapsed: 0:02:32.\n",
      "  Batch   680  of  1,407.    Elapsed: 0:02:41.\n",
      "  Batch   720  of  1,407.    Elapsed: 0:02:50.\n",
      "  Batch   760  of  1,407.    Elapsed: 0:03:00.\n",
      "  Batch   800  of  1,407.    Elapsed: 0:03:09.\n",
      "  Batch   840  of  1,407.    Elapsed: 0:03:19.\n",
      "  Batch   880  of  1,407.    Elapsed: 0:03:28.\n",
      "  Batch   920  of  1,407.    Elapsed: 0:03:38.\n",
      "  Batch   960  of  1,407.    Elapsed: 0:03:47.\n",
      "  Batch 1,000  of  1,407.    Elapsed: 0:03:56.\n",
      "  Batch 1,040  of  1,407.    Elapsed: 0:04:06.\n",
      "  Batch 1,080  of  1,407.    Elapsed: 0:04:15.\n",
      "  Batch 1,120  of  1,407.    Elapsed: 0:04:25.\n",
      "  Batch 1,160  of  1,407.    Elapsed: 0:04:34.\n",
      "  Batch 1,200  of  1,407.    Elapsed: 0:04:43.\n",
      "  Batch 1,240  of  1,407.    Elapsed: 0:04:53.\n",
      "  Batch 1,280  of  1,407.    Elapsed: 0:05:02.\n",
      "  Batch 1,320  of  1,407.    Elapsed: 0:05:12.\n",
      "  Batch 1,360  of  1,407.    Elapsed: 0:05:21.\n",
      "  Batch 1,400  of  1,407.    Elapsed: 0:05:31.\n",
      "\n",
      "  Average training loss: 0.67\n",
      "  Training epcoh took: 0:05:32\n",
      "\n",
      "Running Validation...\n",
      "  Accuracy: 0.83\n",
      "  Validation took: 0:00:11\n",
      "\n",
      "======== Epoch 2 / 4 ========\n",
      "Training...\n",
      "  Batch    40  of  1,407.    Elapsed: 0:00:09.\n",
      "  Batch    80  of  1,407.    Elapsed: 0:00:19.\n",
      "  Batch   120  of  1,407.    Elapsed: 0:00:28.\n",
      "  Batch   160  of  1,407.    Elapsed: 0:00:38.\n",
      "  Batch   200  of  1,407.    Elapsed: 0:00:47.\n",
      "  Batch   240  of  1,407.    Elapsed: 0:00:57.\n",
      "  Batch   280  of  1,407.    Elapsed: 0:01:06.\n",
      "  Batch   320  of  1,407.    Elapsed: 0:01:16.\n",
      "  Batch   360  of  1,407.    Elapsed: 0:01:25.\n",
      "  Batch   400  of  1,407.    Elapsed: 0:01:34.\n",
      "  Batch   440  of  1,407.    Elapsed: 0:01:44.\n",
      "  Batch   480  of  1,407.    Elapsed: 0:01:53.\n",
      "  Batch   520  of  1,407.    Elapsed: 0:02:03.\n",
      "  Batch   560  of  1,407.    Elapsed: 0:02:12.\n",
      "  Batch   600  of  1,407.    Elapsed: 0:02:22.\n",
      "  Batch   640  of  1,407.    Elapsed: 0:02:31.\n",
      "  Batch   680  of  1,407.    Elapsed: 0:02:40.\n",
      "  Batch   720  of  1,407.    Elapsed: 0:02:50.\n",
      "  Batch   760  of  1,407.    Elapsed: 0:02:59.\n",
      "  Batch   800  of  1,407.    Elapsed: 0:03:09.\n",
      "  Batch   840  of  1,407.    Elapsed: 0:03:18.\n",
      "  Batch   880  of  1,407.    Elapsed: 0:03:27.\n",
      "  Batch   920  of  1,407.    Elapsed: 0:03:37.\n",
      "  Batch   960  of  1,407.    Elapsed: 0:03:46.\n",
      "  Batch 1,000  of  1,407.    Elapsed: 0:03:56.\n",
      "  Batch 1,040  of  1,407.    Elapsed: 0:04:05.\n",
      "  Batch 1,080  of  1,407.    Elapsed: 0:04:15.\n",
      "  Batch 1,120  of  1,407.    Elapsed: 0:04:24.\n",
      "  Batch 1,160  of  1,407.    Elapsed: 0:04:33.\n",
      "  Batch 1,200  of  1,407.    Elapsed: 0:04:43.\n",
      "  Batch 1,240  of  1,407.    Elapsed: 0:04:52.\n",
      "  Batch 1,280  of  1,407.    Elapsed: 0:05:02.\n",
      "  Batch 1,320  of  1,407.    Elapsed: 0:05:11.\n",
      "  Batch 1,360  of  1,407.    Elapsed: 0:05:20.\n",
      "  Batch 1,400  of  1,407.    Elapsed: 0:05:30.\n",
      "\n",
      "  Average training loss: 0.42\n",
      "  Training epcoh took: 0:05:31\n",
      "\n",
      "Running Validation...\n",
      "  Accuracy: 0.82\n",
      "  Validation took: 0:00:11\n",
      "\n",
      "======== Epoch 3 / 4 ========\n",
      "Training...\n",
      "  Batch    40  of  1,407.    Elapsed: 0:00:09.\n",
      "  Batch    80  of  1,407.    Elapsed: 0:00:19.\n",
      "  Batch   120  of  1,407.    Elapsed: 0:00:28.\n",
      "  Batch   160  of  1,407.    Elapsed: 0:00:38.\n",
      "  Batch   200  of  1,407.    Elapsed: 0:00:47.\n",
      "  Batch   240  of  1,407.    Elapsed: 0:00:56.\n",
      "  Batch   280  of  1,407.    Elapsed: 0:01:06.\n",
      "  Batch   320  of  1,407.    Elapsed: 0:01:15.\n",
      "  Batch   360  of  1,407.    Elapsed: 0:01:25.\n",
      "  Batch   400  of  1,407.    Elapsed: 0:01:34.\n",
      "  Batch   440  of  1,407.    Elapsed: 0:01:44.\n",
      "  Batch   480  of  1,407.    Elapsed: 0:01:53.\n",
      "  Batch   520  of  1,407.    Elapsed: 0:02:02.\n",
      "  Batch   560  of  1,407.    Elapsed: 0:02:12.\n",
      "  Batch   600  of  1,407.    Elapsed: 0:02:21.\n",
      "  Batch   640  of  1,407.    Elapsed: 0:02:31.\n",
      "  Batch   680  of  1,407.    Elapsed: 0:02:40.\n",
      "  Batch   720  of  1,407.    Elapsed: 0:02:49.\n",
      "  Batch   760  of  1,407.    Elapsed: 0:02:59.\n",
      "  Batch   800  of  1,407.    Elapsed: 0:03:08.\n",
      "  Batch   840  of  1,407.    Elapsed: 0:03:18.\n",
      "  Batch   880  of  1,407.    Elapsed: 0:03:27.\n",
      "  Batch   920  of  1,407.    Elapsed: 0:03:37.\n",
      "  Batch   960  of  1,407.    Elapsed: 0:03:46.\n",
      "  Batch 1,000  of  1,407.    Elapsed: 0:03:55.\n",
      "  Batch 1,040  of  1,407.    Elapsed: 0:04:05.\n",
      "  Batch 1,080  of  1,407.    Elapsed: 0:04:14.\n",
      "  Batch 1,120  of  1,407.    Elapsed: 0:04:24.\n",
      "  Batch 1,160  of  1,407.    Elapsed: 0:04:33.\n",
      "  Batch 1,200  of  1,407.    Elapsed: 0:04:42.\n",
      "  Batch 1,240  of  1,407.    Elapsed: 0:04:52.\n",
      "  Batch 1,280  of  1,407.    Elapsed: 0:05:01.\n",
      "  Batch 1,320  of  1,407.    Elapsed: 0:05:11.\n",
      "  Batch 1,360  of  1,407.    Elapsed: 0:05:20.\n",
      "  Batch 1,400  of  1,407.    Elapsed: 0:05:30.\n",
      "\n",
      "  Average training loss: 0.32\n",
      "  Training epcoh took: 0:05:31\n",
      "\n",
      "Running Validation...\n",
      "  Accuracy: 0.83\n",
      "  Validation took: 0:00:11\n",
      "\n",
      "======== Epoch 4 / 4 ========\n",
      "Training...\n",
      "  Batch    40  of  1,407.    Elapsed: 0:00:09.\n",
      "  Batch    80  of  1,407.    Elapsed: 0:00:19.\n",
      "  Batch   120  of  1,407.    Elapsed: 0:00:28.\n",
      "  Batch   160  of  1,407.    Elapsed: 0:00:38.\n",
      "  Batch   200  of  1,407.    Elapsed: 0:00:47.\n",
      "  Batch   240  of  1,407.    Elapsed: 0:00:57.\n",
      "  Batch   280  of  1,407.    Elapsed: 0:01:06.\n",
      "  Batch   320  of  1,407.    Elapsed: 0:01:15.\n",
      "  Batch   360  of  1,407.    Elapsed: 0:01:25.\n",
      "  Batch   400  of  1,407.    Elapsed: 0:01:34.\n",
      "  Batch   440  of  1,407.    Elapsed: 0:01:44.\n",
      "  Batch   480  of  1,407.    Elapsed: 0:01:53.\n",
      "  Batch   520  of  1,407.    Elapsed: 0:02:02.\n",
      "  Batch   560  of  1,407.    Elapsed: 0:02:12.\n",
      "  Batch   600  of  1,407.    Elapsed: 0:02:21.\n",
      "  Batch   640  of  1,407.    Elapsed: 0:02:31.\n",
      "  Batch   680  of  1,407.    Elapsed: 0:02:40.\n",
      "  Batch   720  of  1,407.    Elapsed: 0:02:50.\n",
      "  Batch   760  of  1,407.    Elapsed: 0:02:59.\n",
      "  Batch   800  of  1,407.    Elapsed: 0:03:08.\n",
      "  Batch   840  of  1,407.    Elapsed: 0:03:18.\n",
      "  Batch   880  of  1,407.    Elapsed: 0:03:27.\n",
      "  Batch   920  of  1,407.    Elapsed: 0:03:37.\n",
      "  Batch   960  of  1,407.    Elapsed: 0:03:46.\n",
      "  Batch 1,000  of  1,407.    Elapsed: 0:03:55.\n",
      "  Batch 1,040  of  1,407.    Elapsed: 0:04:05.\n",
      "  Batch 1,080  of  1,407.    Elapsed: 0:04:14.\n",
      "  Batch 1,120  of  1,407.    Elapsed: 0:04:24.\n",
      "  Batch 1,160  of  1,407.    Elapsed: 0:04:33.\n",
      "  Batch 1,200  of  1,407.    Elapsed: 0:04:42.\n",
      "  Batch 1,240  of  1,407.    Elapsed: 0:04:52.\n",
      "  Batch 1,280  of  1,407.    Elapsed: 0:05:01.\n",
      "  Batch 1,320  of  1,407.    Elapsed: 0:05:11.\n",
      "  Batch 1,360  of  1,407.    Elapsed: 0:05:20.\n",
      "  Batch 1,400  of  1,407.    Elapsed: 0:05:30.\n",
      "\n",
      "  Average training loss: 0.24\n",
      "  Training epcoh took: 0:05:31\n",
      "\n",
      "Running Validation...\n",
      "  Accuracy: 0.83\n",
      "  Validation took: 0:00:11\n",
      "\n",
      "Training complete!\n"
     ]
    }
   ],
   "source": [
    "import random\n",
    "\n",
    "# This training code is based on the `run_glue.py` script here:\n",
    "# https://github.com/huggingface/transformers/blob/5bfcd0485ece086ebcbed2d008813037968a9e58/examples/run_glue.py#L128\n",
    "\n",
    "\n",
    "# Set the seed value all over the place to make this reproducible.\n",
    "seed_val = 42\n",
    "\n",
    "random.seed(seed_val)\n",
    "np.random.seed(seed_val)\n",
    "torch.manual_seed(seed_val)\n",
    "torch.cuda.manual_seed_all(seed_val)\n",
    "\n",
    "# Store the average loss after each epoch so we can plot them.\n",
    "loss_values = []\n",
    "\n",
    "# For each epoch...\n",
    "for epoch_i in range(0, epochs):\n",
    "    \n",
    "    # ========================================\n",
    "    #               Training\n",
    "    # ========================================\n",
    "    \n",
    "    # Perform one full pass over the training set.\n",
    "\n",
    "    print(\"\")\n",
    "    print('======== Epoch {:} / {:} ========'.format(epoch_i + 1, epochs))\n",
    "    print('Training...')\n",
    "\n",
    "    # Measure how long the training epoch takes.\n",
    "    t0 = time.time()\n",
    "\n",
    "    # Reset the total loss for this epoch.\n",
    "    total_loss = 0\n",
    "\n",
    "    # Put the model into training mode. Don't be mislead--the call to \n",
    "    # `train` just changes the *mode*, it doesn't *perform* the training.\n",
    "    # `dropout` and `batchnorm` layers behave differently during training\n",
    "    # vs. test (source: https://stackoverflow.com/questions/51433378/what-does-model-train-do-in-pytorch)\n",
    "    model.train()\n",
    "\n",
    "    # For each batch of training data...\n",
    "    for step, batch in enumerate(train_dataloader):\n",
    "\n",
    "        # Progress update every 40 batches.\n",
    "        if step % 40 == 0 and not step == 0:\n",
    "            # Calculate elapsed time in minutes.\n",
    "            elapsed = format_time(time.time() - t0)\n",
    "            \n",
    "            # Report progress.\n",
    "            print('  Batch {:>5,}  of  {:>5,}.    Elapsed: {:}.'.format(step, len(train_dataloader), elapsed))\n",
    "\n",
    "        # Unpack this training batch from our dataloader. \n",
    "        #\n",
    "        # As we unpack the batch, we'll also copy each tensor to the GPU using the \n",
    "        # `to` method.\n",
    "        #\n",
    "        # `batch` contains three pytorch tensors:\n",
    "        #   [0]: input ids \n",
    "        #   [1]: attention masks\n",
    "        #   [2]: labels \n",
    "        b_input_ids = batch[0].to(device)\n",
    "        b_input_mask = batch[1].to(device)\n",
    "        b_labels = batch[2].to(device)\n",
    "\n",
    "        # Always clear any previously calculated gradients before performing a\n",
    "        # backward pass. PyTorch doesn't do this automatically because \n",
    "        # accumulating the gradients is \"convenient while training RNNs\". \n",
    "        # (source: https://stackoverflow.com/questions/48001598/why-do-we-need-to-call-zero-grad-in-pytorch)\n",
    "        model.zero_grad()        \n",
    "\n",
    "        # Perform a forward pass (evaluate the model on this training batch).\n",
    "        # This will return the loss (rather than the model output) because we\n",
    "        # have provided the `labels`.\n",
    "        # The documentation for this `model` function is here: \n",
    "        # https://huggingface.co/transformers/v2.2.0/model_doc/bert.html#transformers.BertForSequenceClassification\n",
    "        outputs = model(b_input_ids, \n",
    "                    token_type_ids=None, \n",
    "                    attention_mask=b_input_mask, \n",
    "                    labels=b_labels)\n",
    "        \n",
    "        # The call to `model` always returns a tuple, so we need to pull the \n",
    "        # loss value out of the tuple.\n",
    "        loss = outputs[0]\n",
    "\n",
    "        # Accumulate the training loss over all of the batches so that we can\n",
    "        # calculate the average loss at the end. `loss` is a Tensor containing a\n",
    "        # single value; the `.item()` function just returns the Python value \n",
    "        # from the tensor.\n",
    "        total_loss += loss.item()\n",
    "\n",
    "        # Perform a backward pass to calculate the gradients.\n",
    "        loss.backward()\n",
    "\n",
    "        # Clip the norm of the gradients to 1.0.\n",
    "        # This is to help prevent the \"exploding gradients\" problem.\n",
    "        torch.nn.utils.clip_grad_norm_(model.parameters(), 1.0)\n",
    "\n",
    "        # Update parameters and take a step using the computed gradient.\n",
    "        # The optimizer dictates the \"update rule\"--how the parameters are\n",
    "        # modified based on their gradients, the learning rate, etc.\n",
    "        optimizer.step()\n",
    "\n",
    "        # Update the learning rate.\n",
    "        scheduler.step()\n",
    "\n",
    "    # Calculate the average loss over the training data.\n",
    "    avg_train_loss = total_loss / len(train_dataloader)            \n",
    "    \n",
    "    # Store the loss value for plotting the learning curve.\n",
    "    loss_values.append(avg_train_loss)\n",
    "\n",
    "    print(\"\")\n",
    "    print(\"  Average training loss: {0:.2f}\".format(avg_train_loss))\n",
    "    print(\"  Training epcoh took: {:}\".format(format_time(time.time() - t0)))\n",
    "        \n",
    "    # ========================================\n",
    "    #               Validation\n",
    "    # ========================================\n",
    "    # After the completion of each training epoch, measure our performance on\n",
    "    # our validation set.\n",
    "\n",
    "    print(\"\")\n",
    "    print(\"Running Validation...\")\n",
    "\n",
    "    t0 = time.time()\n",
    "\n",
    "    # Put the model in evaluation mode--the dropout layers behave differently\n",
    "    # during evaluation.\n",
    "    model.eval()\n",
    "\n",
    "    # Tracking variables \n",
    "    eval_loss, eval_accuracy = 0, 0\n",
    "    nb_eval_steps, nb_eval_examples = 0, 0\n",
    "\n",
    "    # Evaluate data for one epoch\n",
    "    for batch in validation_dataloader:\n",
    "        \n",
    "        # Add batch to GPU\n",
    "        batch = tuple(t.to(device) for t in batch)\n",
    "        \n",
    "        # Unpack the inputs from our dataloader\n",
    "        b_input_ids, b_input_mask, b_labels = batch\n",
    "        \n",
    "        # Telling the model not to compute or store gradients, saving memory and\n",
    "        # speeding up validation\n",
    "        with torch.no_grad():        \n",
    "\n",
    "            # Forward pass, calculate logit predictions.\n",
    "            # This will return the logits rather than the loss because we have\n",
    "            # not provided labels.\n",
    "            # token_type_ids is the same as the \"segment ids\", which \n",
    "            # differentiates sentence 1 and 2 in 2-sentence tasks.\n",
    "            # The documentation for this `model` function is here: \n",
    "            # https://huggingface.co/transformers/v2.2.0/model_doc/bert.html#transformers.BertForSequenceClassification\n",
    "            outputs = model(b_input_ids, \n",
    "                            token_type_ids=None, \n",
    "                            attention_mask=b_input_mask)\n",
    "        \n",
    "        # Get the \"logits\" output by the model. The \"logits\" are the output\n",
    "        # values prior to applying an activation function like the softmax.\n",
    "        logits = outputs[0]\n",
    "\n",
    "        # Move logits and labels to CPU\n",
    "        logits = logits.detach().cpu().numpy()\n",
    "        label_ids = b_labels.to('cpu').numpy()\n",
    "        \n",
    "        # Calculate the accuracy for this batch of test sentences.\n",
    "        tmp_eval_accuracy = flat_accuracy(logits, label_ids)\n",
    "        \n",
    "        # Accumulate the total accuracy.\n",
    "        eval_accuracy += tmp_eval_accuracy\n",
    "\n",
    "        # Track the number of batches\n",
    "        nb_eval_steps += 1\n",
    "\n",
    "    # Report the final accuracy for this validation run.\n",
    "    print(\"  Accuracy: {0:.2f}\".format(eval_accuracy/nb_eval_steps))\n",
    "    print(\"  Validation took: {:}\".format(format_time(time.time() - t0)))\n",
    "\n",
    "print(\"\")\n",
    "print(\"Training complete!\")"
   ]
  },
  {
   "cell_type": "markdown",
   "metadata": {
    "id": "1-G03mmwH3aI"
   },
   "source": [
    "Let's take a look at our training loss over all batches:"
   ]
  },
  {
   "cell_type": "code",
   "execution_count": 30,
   "metadata": {
    "execution": {
     "iopub.execute_input": "2021-12-18T16:48:38.729951Z",
     "iopub.status.busy": "2021-12-18T16:48:38.729687Z",
     "iopub.status.idle": "2021-12-18T16:48:39.270808Z",
     "shell.execute_reply": "2021-12-18T16:48:39.270147Z",
     "shell.execute_reply.started": "2021-12-18T16:48:38.729921Z"
    },
    "executionInfo": {
     "elapsed": 6,
     "status": "aborted",
     "timestamp": 1639781412690,
     "user": {
      "displayName": "Nastya Chizhikova",
      "photoUrl": "https://lh3.googleusercontent.com/a-/AOh14GjlPeMpPXRo-co4WmZs84TmYM17QvAc8Z42pM7t=s64",
      "userId": "14025025607393068995"
     },
     "user_tz": -180
    },
    "id": "68xreA9JAmG5"
   },
   "outputs": [
    {
     "data": {
      "image/png": "[encoded data removed]",
      "text/plain": [
       "<Figure size 864x432 with 1 Axes>"
      ]
     },
     "metadata": {},
     "output_type": "display_data"
    }
   ],
   "source": [
    "import matplotlib.pyplot as plt\n",
    "# % matplotlib inline\n",
    "\n",
    "import seaborn as sns\n",
    "\n",
    "# Use plot styling from seaborn.\n",
    "sns.set(style='darkgrid')\n",
    "\n",
    "# Increase the plot size and font size.\n",
    "sns.set(font_scale=1.5)\n",
    "plt.rcParams[\"figure.figsize\"] = (12,6)\n",
    "\n",
    "# Plot the learning curve.\n",
    "plt.plot(loss_values, 'b-o')\n",
    "\n",
    "# Label the plot.\n",
    "plt.title(\"Training loss\")\n",
    "plt.xlabel(\"Epoch\")\n",
    "plt.ylabel(\"Loss\")\n",
    "\n",
    "plt.show()"
   ]
  },
  {
   "cell_type": "markdown",
   "metadata": {
    "id": "mkyubuJSOzg3"
   },
   "source": [
    "# 5. Performance On Test Set"
   ]
  },
  {
   "cell_type": "markdown",
   "metadata": {
    "id": "DosV94BYIYxg"
   },
   "source": [
    "Now we'll load the holdout dataset and prepare inputs just as we did with the training set. Then we'll evaluate predictions using [Matthew's correlation coefficient](https://scikit-learn.org/stable/modules/generated/sklearn.metrics.matthews_corrcoef.html) because this is the metric used by the wider NLP community to evaluate performance on CoLA. With this metric, +1 is the best score, and -1 is the worst score. This way, we can see how well we perform against the state of the art models for this specific task."
   ]
  },
  {
   "cell_type": "markdown",
   "metadata": {
    "id": "Tg42jJqqM68F"
   },
   "source": [
    "### 5.1. Data Preparation\n"
   ]
  },
  {
   "cell_type": "markdown",
   "metadata": {
    "id": "xWe0_JW21MyV"
   },
   "source": [
    "\n",
    "We'll need to apply all of the same steps that we did for the training data to prepare our test data set."
   ]
  },
  {
   "cell_type": "code",
   "execution_count": 31,
   "metadata": {
    "execution": {
     "iopub.execute_input": "2021-12-18T16:48:46.763585Z",
     "iopub.status.busy": "2021-12-18T16:48:46.763258Z",
     "iopub.status.idle": "2021-12-18T16:49:02.357850Z",
     "shell.execute_reply": "2021-12-18T16:49:02.357111Z",
     "shell.execute_reply.started": "2021-12-18T16:48:46.763543Z"
    },
    "id": "mAN0LZBOOPVh"
   },
   "outputs": [
    {
     "name": "stdout",
     "output_type": "stream",
     "text": [
      "Number of test sentences: 23,778\n",
      "\n"
     ]
    }
   ],
   "source": [
    "import pandas as pd\n",
    "\n",
    "# Report the number of sentences.\n",
    "print('Number of test sentences: {:,}\\n'.format(df_test.shape[0]))\n",
    "\n",
    "# Create sentence and label lists\n",
    "sentences = df_test.sentence.values\n",
    "labels = df_test.label.replace({'law':0, 'business':1, 'food':2, 'relax':3, 'love':4}).values\n",
    "\n",
    "# Tokenize all of the sentences and map the tokens to thier word IDs.\n",
    "input_ids = []\n",
    "\n",
    "# For every sentence...\n",
    "for sent in sentences:\n",
    "    # `encode` will:\n",
    "    #   (1) Tokenize the sentence.\n",
    "    #   (2) Prepend the `[CLS]` token to the start.\n",
    "    #   (3) Append the `[SEP]` token to the end.\n",
    "    #   (4) Map tokens to their IDs.\n",
    "    encoded_sent = tokenizer.encode(\n",
    "                        sent,                      # Sentence to encode.\n",
    "                        add_special_tokens = True, # Add '[CLS]' and '[SEP]'\n",
    "                   )\n",
    "    \n",
    "    input_ids.append(encoded_sent)\n",
    "\n",
    "# Pad our input tokens\n",
    "input_ids = pad_sequences(input_ids, maxlen=MAX_LEN, \n",
    "                          dtype=\"long\", truncating=\"post\", padding=\"post\")\n",
    "\n",
    "# Create attention masks\n",
    "attention_masks = []\n",
    "\n",
    "# Create a mask of 1s for each token followed by 0s for padding\n",
    "for seq in input_ids:\n",
    "  seq_mask = [float(i>0) for i in seq]\n",
    "  attention_masks.append(seq_mask) \n",
    "\n",
    "# Convert to tensors.\n",
    "prediction_inputs = torch.tensor(input_ids)\n",
    "prediction_masks = torch.tensor(attention_masks)\n",
    "prediction_labels = torch.tensor(labels)\n",
    "\n",
    "# Set the batch size.  \n",
    "batch_size = 32  \n",
    "\n",
    "# Create the DataLoader.\n",
    "prediction_data = TensorDataset(prediction_inputs, prediction_masks, prediction_labels)\n",
    "prediction_sampler = SequentialSampler(prediction_data)\n",
    "prediction_dataloader = DataLoader(prediction_data, sampler=prediction_sampler, batch_size=batch_size)"
   ]
  },
  {
   "cell_type": "markdown",
   "metadata": {
    "id": "16lctEOyNFik"
   },
   "source": [
    "## 5.2. Evaluate on Test Set\n"
   ]
  },
  {
   "cell_type": "markdown",
   "metadata": {
    "id": "rhR99IISNMg9"
   },
   "source": [
    "\n",
    "With the test set prepared, we can apply our fine-tuned model to generate predictions on the test set."
   ]
  },
  {
   "cell_type": "code",
   "execution_count": 32,
   "metadata": {
    "execution": {
     "iopub.execute_input": "2021-12-18T16:49:02.359903Z",
     "iopub.status.busy": "2021-12-18T16:49:02.359641Z",
     "iopub.status.idle": "2021-12-18T16:49:52.668085Z",
     "shell.execute_reply": "2021-12-18T16:49:52.667363Z",
     "shell.execute_reply.started": "2021-12-18T16:49:02.359869Z"
    },
    "id": "Hba10sXR7Xi6"
   },
   "outputs": [
    {
     "name": "stdout",
     "output_type": "stream",
     "text": [
      "Predicting labels for 23,778 test sentences...\n",
      "    DONE.\n"
     ]
    }
   ],
   "source": [
    "# Prediction on test set\n",
    "\n",
    "print('Predicting labels for {:,} test sentences...'.format(len(prediction_inputs)))\n",
    "\n",
    "# Put model in evaluation mode\n",
    "model.eval()\n",
    "\n",
    "# Tracking variables \n",
    "predictions , true_labels = [], []\n",
    "\n",
    "# Predict \n",
    "for batch in prediction_dataloader:\n",
    "  # Add batch to GPU\n",
    "  batch = tuple(t.to(device) for t in batch)\n",
    "  \n",
    "  # Unpack the inputs from our dataloader\n",
    "  b_input_ids, b_input_mask, b_labels = batch\n",
    "  \n",
    "  # Telling the model not to compute or store gradients, saving memory and \n",
    "  # speeding up prediction\n",
    "  with torch.no_grad():\n",
    "      # Forward pass, calculate logit predictions\n",
    "      outputs = model(b_input_ids, token_type_ids=None, \n",
    "                      attention_mask=b_input_mask)\n",
    "\n",
    "  logits = outputs[0]\n",
    "\n",
    "  # Move logits and labels to CPU\n",
    "  logits = logits.detach().cpu().numpy()\n",
    "  label_ids = b_labels.to('cpu').numpy()\n",
    "  \n",
    "  # Store predictions and true labels\n",
    "  predictions.append(logits)\n",
    "  true_labels.append(label_ids)\n",
    "\n",
    "print('    DONE.')"
   ]
  },
  {
   "cell_type": "code",
   "execution_count": 33,
   "metadata": {
    "execution": {
     "iopub.execute_input": "2021-12-18T16:49:52.669992Z",
     "iopub.status.busy": "2021-12-18T16:49:52.669469Z",
     "iopub.status.idle": "2021-12-18T16:49:52.685868Z",
     "shell.execute_reply": "2021-12-18T16:49:52.685076Z",
     "shell.execute_reply.started": "2021-12-18T16:49:52.669951Z"
    }
   },
   "outputs": [],
   "source": [
    "pred_labels = []\n",
    "for pred in predictions:\n",
    "    pred_labels.extend(np.argmax(pred, axis=-1).tolist())\n",
    "\n",
    "target_labels = []\n",
    "for pred in true_labels:\n",
    "    target_labels.extend(pred.tolist())"
   ]
  },
  {
   "cell_type": "code",
   "execution_count": 34,
   "metadata": {
    "execution": {
     "iopub.execute_input": "2021-12-18T16:49:52.687476Z",
     "iopub.status.busy": "2021-12-18T16:49:52.687124Z",
     "iopub.status.idle": "2021-12-18T16:49:52.758811Z",
     "shell.execute_reply": "2021-12-18T16:49:52.758063Z",
     "shell.execute_reply.started": "2021-12-18T16:49:52.687439Z"
    }
   },
   "outputs": [
    {
     "data": {
      "text/plain": [
       "0.8271090924383884"
      ]
     },
     "execution_count": 34,
     "metadata": {},
     "output_type": "execute_result"
    }
   ],
   "source": [
    "from sklearn.metrics import f1_score\n",
    "\n",
    "f1_score(target_labels, pred_labels, average='micro')"
   ]
  },
  {
   "cell_type": "markdown",
   "metadata": {
    "id": "-5jscIM8R4Gv"
   },
   "source": [
    "Accuracy on the CoLA benchmark is measured using the \"[Matthews correlation coefficient](https://scikit-learn.org/stable/modules/generated/sklearn.metrics.matthews_corrcoef.html)\" (MCC).\n",
    "\n",
    "We use MCC here because the classes are imbalanced:\n"
   ]
  },
  {
   "cell_type": "code",
   "execution_count": 36,
   "metadata": {
    "execution": {
     "iopub.execute_input": "2021-12-18T16:51:05.446844Z",
     "iopub.status.busy": "2021-12-18T16:51:05.446576Z",
     "iopub.status.idle": "2021-12-18T16:51:05.453194Z",
     "shell.execute_reply": "2021-12-18T16:51:05.452439Z",
     "shell.execute_reply.started": "2021-12-18T16:51:05.446813Z"
    },
    "id": "hWcy0X1hirdx"
   },
   "outputs": [],
   "source": [
    "# print('Positive samples: %d of %d (%.2f%%)' % (df_test.label.sum(), len(df_test.label), (df_test.label.sum() / len(df_test.label) * 100.0)))"
   ]
  },
  {
   "cell_type": "code",
   "execution_count": null,
   "metadata": {
    "execution": {
     "iopub.status.busy": "2021-12-18T16:49:53.196835Z",
     "iopub.status.idle": "2021-12-18T16:49:53.197594Z",
     "shell.execute_reply": "2021-12-18T16:49:53.197366Z",
     "shell.execute_reply.started": "2021-12-18T16:49:53.197339Z"
    },
    "id": "cRaZQ4XC7kLs"
   },
   "outputs": [],
   "source": [
    "from sklearn.metrics import matthews_corrcoef\n",
    "\n",
    "matthews_set = []\n",
    "\n",
    "# Evaluate each test batch using Matthew's correlation coefficient\n",
    "print('Calculating Matthews Corr. Coef. for each batch...')\n",
    "\n",
    "# For each input batch...\n",
    "for i in range(len(true_labels)):\n",
    "  \n",
    "  # The predictions for this batch are a 2-column ndarray (one column for \"0\" \n",
    "  # and one column for \"1\"). Pick the label with the highest value and turn this\n",
    "  # in to a list of 0s and 1s.\n",
    "  pred_labels_i = np.argmax(predictions[i], axis=1).flatten()\n",
    "  \n",
    "  # Calculate and store the coef for this batch.  \n",
    "  matthews = matthews_corrcoef(true_labels[i], pred_labels_i)                \n",
    "  matthews_set.append(matthews)"
   ]
  },
  {
   "cell_type": "markdown",
   "metadata": {
    "id": "IUM0UA1qJaVB"
   },
   "source": [
    "The final score will be based on the entire test set, but let's take a look at the scores on the individual batches to get a sense of the variability in the metric between batches. \n",
    "\n",
    "Each batch has 32 sentences in it, except the last batch which has only (516 % 32) = 4 test sentences in it.\n"
   ]
  },
  {
   "cell_type": "code",
   "execution_count": null,
   "metadata": {
    "execution": {
     "iopub.status.busy": "2021-12-18T16:49:53.199306Z",
     "iopub.status.idle": "2021-12-18T16:49:53.199718Z",
     "shell.execute_reply": "2021-12-18T16:49:53.199518Z",
     "shell.execute_reply.started": "2021-12-18T16:49:53.199495Z"
    },
    "id": "xytAr_C48wnu"
   },
   "outputs": [],
   "source": [
    "matthews_set"
   ]
  },
  {
   "cell_type": "code",
   "execution_count": null,
   "metadata": {
    "execution": {
     "iopub.status.busy": "2021-12-18T16:49:53.201062Z",
     "iopub.status.idle": "2021-12-18T16:49:53.201486Z",
     "shell.execute_reply": "2021-12-18T16:49:53.201294Z",
     "shell.execute_reply.started": "2021-12-18T16:49:53.201271Z"
    },
    "id": "oCYZa1lQ8Jn8"
   },
   "outputs": [],
   "source": [
    "# Combine the predictions for each batch into a single list of 0s and 1s.\n",
    "flat_predictions = [item for sublist in predictions for item in sublist]\n",
    "flat_predictions = np.argmax(flat_predictions, axis=1).flatten()\n",
    "\n",
    "# Combine the correct labels for each batch into a single list.\n",
    "flat_true_labels = [item for sublist in true_labels for item in sublist]\n",
    "\n",
    "# Calculate the MCC\n",
    "mcc = matthews_corrcoef(flat_true_labels, flat_predictions)\n",
    "\n",
    "print('MCC: %.3f' % mcc)"
   ]
  },
  {
   "cell_type": "markdown",
   "metadata": {
    "id": "jXx0jPc4HUfZ"
   },
   "source": [
    "Cool! In about half an hour and without doing any hyperparameter tuning (adjusting the learning rate, epochs, batch size, ADAM properties, etc.) we are able to get a good score. I should also mention we didn't train on the entire training dataset, but set aside a portion of it as our validation set for legibililty of code.\n",
    "\n",
    "The library documents the expected accuracy for this benchmark [here](https://huggingface.co/transformers/examples.html#glue).\n",
    "\n",
    "You can also look at the official leaderboard [here](https://gluebenchmark.com/leaderboard/submission/zlssuBTm5XRs0aSKbFYGVIVdvbj1/-LhijX9VVmvJcvzKymxy). \n",
    "\n",
    "Note that (due to the small dataset size?) the accuracy can vary significantly with different random seeds.\n"
   ]
  },
  {
   "cell_type": "markdown",
   "metadata": {
    "id": "GfjYoa6WmkN6"
   },
   "source": [
    "# Conclusion"
   ]
  },
  {
   "cell_type": "markdown",
   "metadata": {
    "id": "xlQG7qgkmf4n"
   },
   "source": [
    "This post demonstrates that with a pre-trained BERT model you can quickly and effectively create a high quality model with minimal effort and training time using the pytorch interface, regardless of the specific NLP task you are interested in."
   ]
  },
  {
   "cell_type": "markdown",
   "metadata": {
    "id": "YUmsUOIv8EUO"
   },
   "source": [
    "# Appendix\n"
   ]
  },
  {
   "cell_type": "markdown",
   "metadata": {
    "id": "q2079Qyn8Mt8"
   },
   "source": [
    "## A1. Saving & Loading Fine-Tuned Model\n",
    "\n",
    "This first cell (taken from `run_glue.py` [here](https://github.com/huggingface/transformers/blob/35ff345fc9df9e777b27903f11fa213e4052595b/examples/run_glue.py#L495)) writes the model and tokenizer out to disk."
   ]
  },
  {
   "cell_type": "code",
   "execution_count": null,
   "metadata": {
    "execution": {
     "iopub.status.busy": "2021-12-18T16:49:53.202873Z",
     "iopub.status.idle": "2021-12-18T16:49:53.203310Z",
     "shell.execute_reply": "2021-12-18T16:49:53.203111Z",
     "shell.execute_reply.started": "2021-12-18T16:49:53.203075Z"
    },
    "id": "6ulTWaOr8QNY"
   },
   "outputs": [],
   "source": [
    "import os\n",
    "\n",
    "# Saving best-practices: if you use defaults names for the model, you can reload it using from_pretrained()\n",
    "\n",
    "output_dir = './model_save/'\n",
    "\n",
    "# Create output directory if needed\n",
    "if not os.path.exists(output_dir):\n",
    "    os.makedirs(output_dir)\n",
    "\n",
    "print(\"Saving model to %s\" % output_dir)\n",
    "\n",
    "# Save a trained model, configuration and tokenizer using `save_pretrained()`.\n",
    "# They can then be reloaded using `from_pretrained()`\n",
    "model_to_save = model.module if hasattr(model, 'module') else model  # Take care of distributed/parallel training\n",
    "model_to_save.save_pretrained(output_dir)\n",
    "tokenizer.save_pretrained(output_dir)\n",
    "\n",
    "# Good practice: save your training arguments together with the trained model\n",
    "# torch.save(args, os.path.join(output_dir, 'training_args.bin'))\n"
   ]
  },
  {
   "cell_type": "markdown",
   "metadata": {
    "id": "Z-tjHkR7lc1I"
   },
   "source": [
    "Let's check out the file sizes, out of curiosity."
   ]
  },
  {
   "cell_type": "code",
   "execution_count": null,
   "metadata": {
    "execution": {
     "iopub.status.busy": "2021-12-18T16:49:53.204598Z",
     "iopub.status.idle": "2021-12-18T16:49:53.204999Z",
     "shell.execute_reply": "2021-12-18T16:49:53.204802Z",
     "shell.execute_reply.started": "2021-12-18T16:49:53.204780Z"
    },
    "id": "mqMzI3VTCZo5"
   },
   "outputs": [],
   "source": [
    "!ls -l --block-size=K ./model_save/"
   ]
  },
  {
   "cell_type": "markdown",
   "metadata": {
    "id": "fr_bt2rFlgDn"
   },
   "source": [
    "The largest file is the model weights, at around 418 megabytes."
   ]
  },
  {
   "cell_type": "code",
   "execution_count": null,
   "metadata": {
    "execution": {
     "iopub.status.busy": "2021-12-18T16:49:53.206350Z",
     "iopub.status.idle": "2021-12-18T16:49:53.206747Z",
     "shell.execute_reply": "2021-12-18T16:49:53.206553Z",
     "shell.execute_reply.started": "2021-12-18T16:49:53.206531Z"
    },
    "id": "-WUFUIQ8Cu8D"
   },
   "outputs": [],
   "source": [
    "!ls -l --block-size=M ./model_save/pytorch_model.bin"
   ]
  },
  {
   "cell_type": "markdown",
   "metadata": {
    "id": "dzGKvOFAll_e"
   },
   "source": [
    "To save your model across Colab Notebook sessions, download it to your local machine, or ideally copy it to your Google Drive."
   ]
  },
  {
   "cell_type": "code",
   "execution_count": null,
   "metadata": {
    "execution": {
     "iopub.status.busy": "2021-12-18T16:49:53.208108Z",
     "iopub.status.idle": "2021-12-18T16:49:53.208508Z",
     "shell.execute_reply": "2021-12-18T16:49:53.208317Z",
     "shell.execute_reply.started": "2021-12-18T16:49:53.208295Z"
    },
    "id": "Trr-A-POC18_"
   },
   "outputs": [],
   "source": [
    "# Mount Google Drive to this Notebook instance.\n",
    "from google.colab import drive\n",
    "    drive.mount('/content/drive')"
   ]
  },
  {
   "cell_type": "code",
   "execution_count": null,
   "metadata": {
    "execution": {
     "iopub.status.busy": "2021-12-18T16:49:53.210052Z",
     "iopub.status.idle": "2021-12-18T16:49:53.210847Z",
     "shell.execute_reply": "2021-12-18T16:49:53.210628Z",
     "shell.execute_reply.started": "2021-12-18T16:49:53.210602Z"
    },
    "id": "NxlZsafTC-V5"
   },
   "outputs": [],
   "source": [
    "# Copy the model files to a directory in your Google Drive.\n",
    "!cp -r ./model_save/ \"./drive/Shared drives/ChrisMcCormick.AI/Blog Posts/BERT Fine-Tuning/\""
   ]
  },
  {
   "cell_type": "markdown",
   "metadata": {
    "id": "W0vstijw85SZ"
   },
   "source": [
    "The following functions will load the model back from disk."
   ]
  },
  {
   "cell_type": "code",
   "execution_count": null,
   "metadata": {
    "execution": {
     "iopub.status.busy": "2021-12-18T16:49:53.212349Z",
     "iopub.status.idle": "2021-12-18T16:49:53.212751Z",
     "shell.execute_reply": "2021-12-18T16:49:53.212553Z",
     "shell.execute_reply.started": "2021-12-18T16:49:53.212532Z"
    },
    "id": "nskPzUM084zL"
   },
   "outputs": [],
   "source": [
    "# Load a trained model and vocabulary that you have fine-tuned\n",
    "model = model_class.from_pretrained(output_dir)\n",
    "tokenizer = tokenizer_class.from_pretrained(output_dir)\n",
    "\n",
    "# Copy the model to the GPU.\n",
    "model.to(device)"
   ]
  },
  {
   "cell_type": "markdown",
   "metadata": {
    "id": "NIWouvDrGVAi"
   },
   "source": [
    "## A.2. Weight Decay\n",
    "\n"
   ]
  },
  {
   "cell_type": "markdown",
   "metadata": {
    "id": "f123ZAlF1OyW"
   },
   "source": [
    "The huggingface example includes the following code block for enabling weight decay, but the default decay rate is \"0.0\", so I moved this to the appendix.\n",
    "\n",
    "This block essentially tells the optimizer to not apply weight decay to the bias terms (e.g., $ b $ in the equation $ y = Wx + b $ ). Weight decay is a form of regularization--after calculating the gradients, we multiply them by, e.g., 0.99."
   ]
  },
  {
   "cell_type": "code",
   "execution_count": null,
   "metadata": {
    "execution": {
     "iopub.status.busy": "2021-12-18T16:49:53.214201Z",
     "iopub.status.idle": "2021-12-18T16:49:53.214598Z",
     "shell.execute_reply": "2021-12-18T16:49:53.214404Z",
     "shell.execute_reply.started": "2021-12-18T16:49:53.214382Z"
    },
    "id": "QxSMw0FrptiL"
   },
   "outputs": [],
   "source": [
    "# This code is taken from:\n",
    "# https://github.com/huggingface/transformers/blob/5bfcd0485ece086ebcbed2d008813037968a9e58/examples/run_glue.py#L102\n",
    "\n",
    "# Don't apply weight decay to any parameters whose names include these tokens.\n",
    "# (Here, the BERT doesn't have `gamma` or `beta` parameters, only `bias` terms)\n",
    "no_decay = ['bias', 'LayerNorm.weight']\n",
    "\n",
    "# Separate the `weight` parameters from the `bias` parameters. \n",
    "# - For the `weight` parameters, this specifies a 'weight_decay_rate' of 0.01. \n",
    "# - For the `bias` parameters, the 'weight_decay_rate' is 0.0. \n",
    "optimizer_grouped_parameters = [\n",
    "    # Filter for all parameters which *don't* include 'bias', 'gamma', 'beta'.\n",
    "    {'params': [p for n, p in param_optimizer if not any(nd in n for nd in no_decay)],\n",
    "     'weight_decay_rate': 0.1},\n",
    "    \n",
    "    # Filter for parameters which *do* include those.\n",
    "    {'params': [p for n, p in param_optimizer if any(nd in n for nd in no_decay)],\n",
    "     'weight_decay_rate': 0.0}\n",
    "]\n",
    "\n",
    "# Note - `optimizer_grouped_parameters` only includes the parameter values, not \n",
    "# the names."
   ]
  }
 ],
 "metadata": {
  "kernelspec": {
   "display_name": "Python 3 (ipykernel)",
   "language": "python",
   "name": "python3"
  },
  "language_info": {
   "codemirror_mode": {
    "name": "ipython",
    "version": 3
   },
   "file_extension": ".py",
   "mimetype": "text/x-python",
   "name": "python",
   "nbconvert_exporter": "python",
   "pygments_lexer": "ipython3",
   "version": "3.7.3"
  }
 },
 "nbformat": 4,
 "nbformat_minor": 4
}
